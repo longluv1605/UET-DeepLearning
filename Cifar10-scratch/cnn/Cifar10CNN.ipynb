{
  "cells": [
    {
      "cell_type": "code",
      "execution_count": 1,
      "metadata": {
        "id": "IvWWzFILC6CF"
      },
      "outputs": [],
      "source": [
        "import torch # type: ignore\n",
        "from torch import nn # type: ignore\n",
        "from torch.utils.data import DataLoader # type: ignore\n",
        "import torchvision # type: ignore\n",
        "from torchvision import transforms # type: ignore\n",
        "import matplotlib.pyplot as plt # type: ignore"
      ]
    },
    {
      "cell_type": "code",
      "execution_count": 2,
      "metadata": {
        "colab": {
          "base_uri": "https://localhost:8080/"
        },
        "id": "gg9lmFgTC6CG",
        "outputId": "41258024-852d-4810-d724-3b435c26ba96"
      },
      "outputs": [
        {
          "name": "stdout",
          "output_type": "stream",
          "text": [
            "PyTorch version: 2.4.1+cu124\n",
            "torchvision version: 0.19.1+cu124\n"
          ]
        }
      ],
      "source": [
        "print(\"PyTorch version:\", torch.__version__)\n",
        "print(\"torchvision version:\", torchvision.__version__)"
      ]
    },
    {
      "cell_type": "code",
      "execution_count": 3,
      "metadata": {
        "colab": {
          "base_uri": "https://localhost:8080/"
        },
        "id": "M7NlpUSYC6CH",
        "outputId": "8ac4480b-a948-43e8-c227-255efbdb8314"
      },
      "outputs": [
        {
          "data": {
            "text/plain": [
              "device(type='cuda')"
            ]
          },
          "execution_count": 3,
          "metadata": {},
          "output_type": "execute_result"
        }
      ],
      "source": [
        "device = torch.device('cuda' if torch.cuda.is_available() else 'cpu')\n",
        "device"
      ]
    },
    {
      "cell_type": "code",
      "execution_count": 5,
      "metadata": {
        "colab": {
          "base_uri": "https://localhost:8080/"
        },
        "id": "wEWo6ikHC6CI",
        "outputId": "c8cacd55-46d1-4c5c-8f02-fa365f550138"
      },
      "outputs": [
        {
          "name": "stdout",
          "output_type": "stream",
          "text": [
            "Files already downloaded and verified\n",
            "['airplane', 'automobile', 'bird', 'cat', 'deer', 'dog', 'frog', 'horse', 'ship', 'truck']\n"
          ]
        }
      ],
      "source": [
        "cifar10 = torchvision.datasets.CIFAR10(root='../data', train=True, download=True)\n",
        "\n",
        "class_names = cifar10.classes\n",
        "print(class_names)"
      ]
    },
    {
      "cell_type": "code",
      "execution_count": 8,
      "metadata": {
        "id": "rBBnuIkQC6CI"
      },
      "outputs": [],
      "source": [
        "def get_dataloader(transform: torchvision.transforms,\n",
        "                   batch_size: int,\n",
        "                   num_workers: int):\n",
        "    trainset = torchvision.datasets.CIFAR10(root='../data', train=True,\n",
        "                                        download=True, transform=transform)\n",
        "\n",
        "    testset = torchvision.datasets.CIFAR10(root='../data', train=False,\n",
        "                                       download=True, transform=transform)\n",
        "\n",
        "    train_dataloader = DataLoader(dataset= trainset, batch_size = batch_size, shuffle= True, num_workers = num_workers)\n",
        "    test_dataloader = DataLoader(dataset= testset, batch_size = batch_size, shuffle= False, num_workers = num_workers)\n",
        "\n",
        "    return train_dataloader, test_dataloader"
      ]
    },
    {
      "cell_type": "code",
      "execution_count": 9,
      "metadata": {
        "colab": {
          "base_uri": "https://localhost:8080/"
        },
        "id": "7n_hWTccC6CJ",
        "outputId": "61533889-e28e-4c05-cc0b-e39529fcd54c"
      },
      "outputs": [
        {
          "name": "stdout",
          "output_type": "stream",
          "text": [
            "Files already downloaded and verified\n",
            "Files already downloaded and verified\n"
          ]
        }
      ],
      "source": [
        "import os\n",
        "num_workers = os.cpu_count()\n",
        "\n",
        "simple_transforms = transforms.Compose([\n",
        "    transforms.Resize((32, 32)),\n",
        "    transforms.ToTensor(),\n",
        "    transforms.Normalize((0.5, 0.5, 0.5), (0.5, 0.5, 0.5))\n",
        "])\n",
        "\n",
        "simple_cnn_train_dataloader, simple_cnn_test_dataloader = get_dataloader(simple_transforms, 32, num_workers)"
      ]
    },
    {
      "cell_type": "code",
      "execution_count": 10,
      "metadata": {
        "id": "d8mmwqmgC6CJ"
      },
      "outputs": [],
      "source": [
        "import random\n",
        "\n",
        "def inspect_images(dataloader: torch.utils.data.DataLoader,\n",
        "                   k: int,\n",
        "                   seed = 42):\n",
        "    batch = next(iter(dataloader))\n",
        "    images, labels = batch\n",
        "\n",
        "    image_list = [img for img in images]\n",
        "    label_list = [label for label in labels]\n",
        "    torch.manual_seed(42)\n",
        "    random.seed(42)\n",
        "\n",
        "    combined = list(zip(image_list, label_list))\n",
        "    random_samples = random.sample(combined, k)\n",
        "\n",
        "    fig, axs = plt.subplots(1,5, figsize=(15,3))\n",
        "\n",
        "    for ax, (img, label) in zip(axs, random_samples):\n",
        "      ax.imshow((img.permute(1,2,0)))\n",
        "      ax.set_title(f'Label: {class_names[label]}')\n",
        "      ax.axis('off')\n",
        "\n",
        "    plt.tight_layout()\n",
        "    plt.show()"
      ]
    },
    {
      "cell_type": "code",
      "execution_count": 16,
      "metadata": {
        "colab": {
          "base_uri": "https://localhost:8080/",
          "height": 413
        },
        "id": "qoox3IdtC6CJ",
        "outputId": "dfb12d5b-d77d-4218-fd24-05a0147cc38f"
      },
      "outputs": [
        {
          "name": "stderr",
          "output_type": "stream",
          "text": [
            "Clipping input data to the valid range for imshow with RGB data ([0..1] for floats or [0..255] for integers). Got range [-0.99215686..0.92156863].\n",
            "Clipping input data to the valid range for imshow with RGB data ([0..1] for floats or [0..255] for integers). Got range [-0.8117647..0.9764706].\n",
            "Clipping input data to the valid range for imshow with RGB data ([0..1] for floats or [0..255] for integers). Got range [-0.77254903..1.0].\n",
            "Clipping input data to the valid range for imshow with RGB data ([0..1] for floats or [0..255] for integers). Got range [-0.8980392..0.67058825].\n",
            "Clipping input data to the valid range for imshow with RGB data ([0..1] for floats or [0..255] for integers). Got range [-0.9764706..0.77254903].\n"
          ]
        },
        {
          "data": {
            "image/png": "[encoded data removed]",
            "text/plain": [
              "<Figure size 1500x300 with 5 Axes>"
            ]
          },
          "metadata": {},
          "output_type": "display_data"
        }
      ],
      "source": [
        "inspect_images(simple_cnn_train_dataloader,\n",
        "               5)"
      ]
    },
    {
      "cell_type": "markdown",
      "metadata": {},
      "source": [
        "# Training function"
      ]
    },
    {
      "cell_type": "code",
      "execution_count": 29,
      "metadata": {
        "id": "7GKBTyvDC6CK"
      },
      "outputs": [],
      "source": [
        "def train_model(trainloader: torch.utils.data.DataLoader,\n",
        "                testloader: torch.utils.data.DataLoader,\n",
        "                model: torch.nn.Module,\n",
        "                loss_fn : torch.nn.Module,\n",
        "                optimizer : torch.optim.Optimizer,\n",
        "                epochs : int = 3,\n",
        "                device = device,\n",
        "                seed = 42):\n",
        "  torch.manual_seed(seed)\n",
        "  torch.cuda.manual_seed(seed)\n",
        "  model.to(device)\n",
        "  model.train()\n",
        "  for epoch in range(epochs):\n",
        "      print(f'epoch {epoch+1}')\n",
        "      train_loss = 0\n",
        "      for i, (X, y) in enumerate(trainloader):\n",
        "          X, y = X.to(device), y.to(device)\n",
        "          y_logits = model(X)\n",
        "          loss = loss_fn(y_logits, y)\n",
        "          train_loss += loss\n",
        "          optimizer.zero_grad()\n",
        "          loss.backward()\n",
        "          optimizer.step()\n",
        "\n",
        "      train_loss /= len(trainloader)\n",
        "\n",
        "      test_loss, test_acc = 0, 0\n",
        "      model.eval()\n",
        "      with torch.inference_mode():\n",
        "        for X,y in testloader:\n",
        "          X, y = X.to(device), y.to(device)\n",
        "          y_logits = model(X)\n",
        "          loss = loss_fn(y_logits, y)\n",
        "          test_loss += loss\n",
        "          y_pred = torch.argmax(y_logits, dim = 1)\n",
        "          correct = torch.eq(y_pred, y).sum().item()\n",
        "          acc = correct / len(y_pred) * 100\n",
        "          test_acc += acc\n",
        "\n",
        "        test_loss /= len(testloader)\n",
        "        test_acc /= len(testloader)\n",
        "\n",
        "      print(f\"\\nTrain loss: {train_loss:.5f} | Test loss: {test_loss:.5f}, Test acc: {test_acc:.2f}%\\n\")\n",
        "      "
      ]
    },
    {
      "cell_type": "markdown",
      "metadata": {},
      "source": [
        "# Loss and Optimizer"
      ]
    },
    {
      "cell_type": "code",
      "execution_count": 12,
      "metadata": {
        "id": "NP32j6fCC6CK"
      },
      "outputs": [],
      "source": [
        "def initialize_lossfn_and_optimizer(model: torch.nn.Module):\n",
        "    loss_fn = torch.nn.CrossEntropyLoss()\n",
        "    optimizer = torch.optim.Adam(params = model.parameters(),\n",
        "                                 lr = 0.001)\n",
        "    return loss_fn, optimizer"
      ]
    },
    {
      "cell_type": "markdown",
      "metadata": {},
      "source": [
        "# Simple CNN"
      ]
    },
    {
      "cell_type": "code",
      "execution_count": 13,
      "metadata": {
        "colab": {
          "base_uri": "https://localhost:8080/"
        },
        "id": "JrnJnzFRC6CK",
        "outputId": "4704de9a-e3e0-4abc-f32c-49852a58f8b2"
      },
      "outputs": [
        {
          "name": "stdout",
          "output_type": "stream",
          "text": [
            "[[-0.03565965 -0.13378124 -0.10335168 -0.00243631 -0.03570836  0.05868932\n",
            "  -0.01296816  0.07398125  0.12694821 -0.09966342]]\n"
          ]
        }
      ],
      "source": [
        "class CNN(nn.Module):\n",
        "  def __init__(self,\n",
        "               input_shape : int,\n",
        "               output_shape: int,\n",
        "               hidden_units: int):\n",
        "    super().__init__()\n",
        "    self.block1 = nn.Sequential(\n",
        "        nn.Conv2d(in_channels = input_shape,\n",
        "                  out_channels = hidden_units,\n",
        "                  kernel_size = 2,\n",
        "                  padding = 1,\n",
        "                  stride = 1),  # (B, hidden_units, [(input - kernel + 2padding) / stride + 1])\n",
        "        nn.ReLU(),\n",
        "        nn.Conv2d(in_channels = hidden_units,\n",
        "                  out_channels = hidden_units,\n",
        "                  kernel_size = 2,\n",
        "                  padding = 1,\n",
        "                  stride = 1),  # (B, hidden_units, [(input - kernel + 2padding) / stride + 1])\n",
        "        nn.ReLU(),\n",
        "        nn.MaxPool2d(kernel_size = 2,\n",
        "                     stride = 2)  # (B, hidden_units, [(input - kernel) / stride + 1])\n",
        "    )\n",
        "    self.block2 = nn.Sequential(\n",
        "        nn.Conv2d(in_channels = hidden_units,\n",
        "                  out_channels = hidden_units,\n",
        "                  kernel_size = 2,\n",
        "                  padding = 1,\n",
        "                  stride = 1),\n",
        "        nn.ReLU(),\n",
        "        nn.Conv2d(in_channels = hidden_units,\n",
        "                  out_channels = hidden_units,\n",
        "                  kernel_size = 2,\n",
        "                  padding = 1,\n",
        "                  stride = 1),\n",
        "        nn.ReLU(),\n",
        "        nn.MaxPool2d(kernel_size = 2,\n",
        "                     stride = 2)\n",
        "    )\n",
        "    self.classifier = nn.Sequential(\n",
        "        nn.Flatten(),\n",
        "        nn.Linear(in_features = 10*9*9,\n",
        "                  out_features = output_shape)\n",
        "    )\n",
        "  def forward(self, x):\n",
        "    return self.classifier(self.block2(self.block1(x)))\n",
        "\n",
        "cnn = CNN(3, 10, 10).to(device)\n",
        "# cnn = torch.compile(cnn)\n",
        "dummy_tensor = torch.rand(size=(3,32,32))\n",
        "y_logits = cnn(dummy_tensor.unsqueeze(dim = 0).to(device))\n",
        "print(y_logits.detach().cpu().numpy())"
      ]
    },
    {
      "cell_type": "code",
      "execution_count": 14,
      "metadata": {
        "colab": {
          "base_uri": "https://localhost:8080/"
        },
        "id": "O6-LgfC6C6CK",
        "outputId": "0acd6523-a079-4372-f5cd-ff5e681a8a7e"
      },
      "outputs": [],
      "source": [
        "simple_cnn_loss_fn, simple_cnn_optimizer = initialize_lossfn_and_optimizer(model = cnn)\n",
        "\n",
        "train_model(trainloader = simple_cnn_train_dataloader,\n",
        "            testloader = simple_cnn_test_dataloader,\n",
        "            model= cnn,\n",
        "            loss_fn = simple_cnn_loss_fn,\n",
        "            optimizer= simple_cnn_optimizer,\n",
        "            epochs= 3,\n",
        "            device= device,\n",
        "            seed = 42)"
      ]
    },
    {
      "cell_type": "markdown",
      "metadata": {},
      "source": [
        "# Pretrained models"
      ]
    },
    {
      "cell_type": "code",
      "execution_count": 15,
      "metadata": {
        "colab": {
          "base_uri": "https://localhost:8080/"
        },
        "id": "dMZnHVTgDpnM",
        "outputId": "41631f72-6d77-4b82-ac81-19e6ee83aa15"
      },
      "outputs": [],
      "source": [
        "try:\n",
        "  from torchinfo import summary # type: ignore\n",
        "except:\n",
        "  !pip install torchinfo\n",
        "  from torchinfo import summary # type: ignore"
      ]
    },
    {
      "cell_type": "code",
      "execution_count": 16,
      "metadata": {
        "id": "ROrXetbZC6CK"
      },
      "outputs": [],
      "source": [
        "def summarize_model(model):\n",
        "    model_summary = summary(model= model,\n",
        "            input_size= (1,3,224,224),\n",
        "            col_names=['input_size', 'output_size','num_params','trainable'],\n",
        "            col_width= 20,\n",
        "            verbose= 0,\n",
        "            row_settings= ['var_names'])\n",
        "\n",
        "    print(model_summary)"
      ]
    },
    {
      "cell_type": "markdown",
      "metadata": {},
      "source": [
        "## 1. AlexNet"
      ]
    },
    {
      "cell_type": "code",
      "execution_count": 21,
      "metadata": {},
      "outputs": [],
      "source": [
        "def create_model(name: str, version: str = 'DEFAULT', class_names=None):\n",
        "    # Get the weight class from the weight_name \n",
        "    weights_class = getattr(torchvision.models, name + '_Weights', None)\n",
        "    if weights_class is None:\n",
        "        raise ValueError(f\"Weight '{name}_Weights' is invalid or does not exist.\")\n",
        "    \n",
        "    # Get the specific version of the weight (e.g., DEFAULT, IMAGENET1K_V1)\n",
        "    weights = getattr(weights_class, version, None)\n",
        "    if weights is None:\n",
        "        raise ValueError(f\"Version '{version}' is not available for '{name}_Weights'.\")\n",
        "    \n",
        "    # Get the model class from the model_name string\n",
        "    model_class = getattr(torchvision.models, name.lower(), None)\n",
        "    if model_class is None:\n",
        "        raise ValueError(f\"Model '{name.lower()}' is invalid or does not exist.\")\n",
        "    \n",
        "    # Initialize the model with the specified weights\n",
        "    model = model_class(weights=weights)\n",
        "    \n",
        "    # Get the transform associated with the weights\n",
        "    transform = weights.transforms()\n",
        "\n",
        "    # Freeze all parameters to prevent them from being trained\n",
        "    for param in model.parameters():\n",
        "        param.requires_grad = False\n",
        "\n",
        "    # Step to find the last layer (output layer)\n",
        "    def find_last_layer(model):\n",
        "        # Traverse through all named children in reverse order to find the last layer\n",
        "        *_, last_name, last_layer = list(model.named_children())[-1]\n",
        "        return last_name, last_layer\n",
        "\n",
        "    # Find the last layer of the model\n",
        "    last_name, last_layer = find_last_layer(model)\n",
        "\n",
        "    # Replace the output layer's number of classes\n",
        "    if isinstance(last_layer, nn.Sequential):\n",
        "        in_features = last_layer[-1].in_features\n",
        "        new_layer = nn.Linear(in_features, len(class_names)) # Replace the last layer in the model\n",
        "        last_layer[-1] = new_layer\n",
        "        setattr(model, last_name, last_layer)\n",
        "    else:\n",
        "        in_features = last_layer.in_features\n",
        "        new_layer = nn.Linear(in_features, len(class_names))\n",
        "        setattr(model, last_name, new_layer)  # Replace the last layer in the model\n",
        "    \n",
        "    return model, transform\n"
      ]
    },
    {
      "cell_type": "code",
      "execution_count": 25,
      "metadata": {},
      "outputs": [],
      "source": [
        "alexnet, alexnet_transform = create_model(\n",
        "    name=\"AlexNet\",\n",
        "    class_names=class_names\n",
        ")"
      ]
    },
    {
      "cell_type": "code",
      "execution_count": 33,
      "metadata": {},
      "outputs": [
        {
          "name": "stdout",
          "output_type": "stream",
          "text": [
            "========================================================================================================================\n",
            "Layer (type (var_name))                  Input Shape          Output Shape         Param #              Trainable\n",
            "========================================================================================================================\n",
            "AlexNet (AlexNet)                        [1, 3, 224, 224]     [1, 10]              --                   Partial\n",
            "├─Sequential (features)                  [1, 3, 224, 224]     [1, 256, 6, 6]       --                   False\n",
            "│    └─Conv2d (0)                        [1, 3, 224, 224]     [1, 64, 55, 55]      (23,296)             False\n",
            "│    └─ReLU (1)                          [1, 64, 55, 55]      [1, 64, 55, 55]      --                   --\n",
            "│    └─MaxPool2d (2)                     [1, 64, 55, 55]      [1, 64, 27, 27]      --                   --\n",
            "│    └─Conv2d (3)                        [1, 64, 27, 27]      [1, 192, 27, 27]     (307,392)            False\n",
            "│    └─ReLU (4)                          [1, 192, 27, 27]     [1, 192, 27, 27]     --                   --\n",
            "│    └─MaxPool2d (5)                     [1, 192, 27, 27]     [1, 192, 13, 13]     --                   --\n",
            "│    └─Conv2d (6)                        [1, 192, 13, 13]     [1, 384, 13, 13]     (663,936)            False\n",
            "│    └─ReLU (7)                          [1, 384, 13, 13]     [1, 384, 13, 13]     --                   --\n",
            "│    └─Conv2d (8)                        [1, 384, 13, 13]     [1, 256, 13, 13]     (884,992)            False\n",
            "│    └─ReLU (9)                          [1, 256, 13, 13]     [1, 256, 13, 13]     --                   --\n",
            "│    └─Conv2d (10)                       [1, 256, 13, 13]     [1, 256, 13, 13]     (590,080)            False\n",
            "│    └─ReLU (11)                         [1, 256, 13, 13]     [1, 256, 13, 13]     --                   --\n",
            "│    └─MaxPool2d (12)                    [1, 256, 13, 13]     [1, 256, 6, 6]       --                   --\n",
            "├─AdaptiveAvgPool2d (avgpool)            [1, 256, 6, 6]       [1, 256, 6, 6]       --                   --\n",
            "├─Sequential (classifier)                [1, 9216]            [1, 10]              --                   Partial\n",
            "│    └─Dropout (0)                       [1, 9216]            [1, 9216]            --                   --\n",
            "│    └─Linear (1)                        [1, 9216]            [1, 4096]            (37,752,832)         False\n",
            "│    └─ReLU (2)                          [1, 4096]            [1, 4096]            --                   --\n",
            "│    └─Dropout (3)                       [1, 4096]            [1, 4096]            --                   --\n",
            "│    └─Linear (4)                        [1, 4096]            [1, 4096]            (16,781,312)         False\n",
            "│    └─ReLU (5)                          [1, 4096]            [1, 4096]            --                   --\n",
            "│    └─Linear (6)                        [1, 4096]            [1, 10]              40,970               True\n",
            "========================================================================================================================\n",
            "Total params: 57,044,810\n",
            "Trainable params: 40,970\n",
            "Non-trainable params: 57,003,840\n",
            "Total mult-adds (Units.MEGABYTES): 710.63\n",
            "========================================================================================================================\n",
            "Input size (MB): 0.60\n",
            "Forward/backward pass size (MB): 3.95\n",
            "Params size (MB): 228.18\n",
            "Estimated Total Size (MB): 232.73\n",
            "========================================================================================================================\n"
          ]
        }
      ],
      "source": [
        "summarize_model(alexnet)"
      ]
    },
    {
      "cell_type": "code",
      "execution_count": 26,
      "metadata": {
        "colab": {
          "base_uri": "https://localhost:8080/"
        },
        "id": "S6NuByFuIzJy",
        "outputId": "b18adf2f-9e3f-4911-cedc-6bd509429210"
      },
      "outputs": [
        {
          "name": "stdout",
          "output_type": "stream",
          "text": [
            "Files already downloaded and verified\n",
            "Files already downloaded and verified\n"
          ]
        }
      ],
      "source": [
        "alexnet_traindataloader, alexnet_testdataloader = get_dataloader(transform= alexnet_transform,\n",
        "                                                                    batch_size= 32,\n",
        "                                                                    num_workers= num_workers)"
      ]
    },
    {
      "cell_type": "code",
      "execution_count": 27,
      "metadata": {
        "id": "mWEIX_hfJYU2"
      },
      "outputs": [],
      "source": [
        "alexnet_lossfn, alexnet_optimizer = initialize_lossfn_and_optimizer(model=alexnet)"
      ]
    },
    {
      "cell_type": "code",
      "execution_count": 30,
      "metadata": {
        "colab": {
          "base_uri": "https://localhost:8080/"
        },
        "id": "mJ2d8ClBJ9iT",
        "outputId": "2d6111a5-c2be-4506-e08b-4899363d2162"
      },
      "outputs": [
        {
          "name": "stdout",
          "output_type": "stream",
          "text": [
            "epoch 1\n",
            "\n",
            "Train loss: 0.78460 | Test loss: 0.61819, Test acc: 78.75%\n",
            "\n",
            "epoch 2\n",
            "\n",
            "Train loss: 0.51981 | Test loss: 0.58283, Test acc: 80.69%\n",
            "\n",
            "epoch 3\n",
            "\n",
            "Train loss: 0.45866 | Test loss: 0.53445, Test acc: 82.34%\n",
            "\n",
            "epoch 4\n",
            "\n",
            "Train loss: 0.41586 | Test loss: 0.57655, Test acc: 81.37%\n",
            "\n",
            "epoch 5\n",
            "\n",
            "Train loss: 0.38001 | Test loss: 0.61624, Test acc: 80.83%\n",
            "\n"
          ]
        }
      ],
      "source": [
        "train_model(trainloader = alexnet_traindataloader,\n",
        "            testloader = alexnet_testdataloader,\n",
        "            model= alexnet,\n",
        "            loss_fn = alexnet_lossfn,\n",
        "            optimizer= alexnet_optimizer,\n",
        "            epochs= 5,\n",
        "            device= device,\n",
        "            seed = 42)"
      ]
    },
    {
      "cell_type": "markdown",
      "metadata": {},
      "source": [
        "## 2. VGGNet"
      ]
    },
    {
      "cell_type": "code",
      "execution_count": 31,
      "metadata": {
        "colab": {
          "base_uri": "https://localhost:8080/"
        },
        "id": "aRxbJCDdv0p5",
        "outputId": "aa9a32ee-0bb5-4649-d252-eda741c8f6ff"
      },
      "outputs": [],
      "source": [
        "vgg, vgg_transform = create_model(\n",
        "    name='VGG11',\n",
        "    class_names=class_names\n",
        ")"
      ]
    },
    {
      "cell_type": "code",
      "execution_count": 32,
      "metadata": {
        "colab": {
          "base_uri": "https://localhost:8080/"
        },
        "id": "lIemoNKFv6ov",
        "outputId": "480fa5c9-984d-4ea9-a392-53f291b66b10"
      },
      "outputs": [
        {
          "name": "stdout",
          "output_type": "stream",
          "text": [
            "========================================================================================================================\n",
            "Layer (type (var_name))                  Input Shape          Output Shape         Param #              Trainable\n",
            "========================================================================================================================\n",
            "VGG (VGG)                                [1, 3, 224, 224]     [1, 10]              --                   Partial\n",
            "├─Sequential (features)                  [1, 3, 224, 224]     [1, 512, 7, 7]       --                   False\n",
            "│    └─Conv2d (0)                        [1, 3, 224, 224]     [1, 64, 224, 224]    (1,792)              False\n",
            "│    └─ReLU (1)                          [1, 64, 224, 224]    [1, 64, 224, 224]    --                   --\n",
            "│    └─MaxPool2d (2)                     [1, 64, 224, 224]    [1, 64, 112, 112]    --                   --\n",
            "│    └─Conv2d (3)                        [1, 64, 112, 112]    [1, 128, 112, 112]   (73,856)             False\n",
            "│    └─ReLU (4)                          [1, 128, 112, 112]   [1, 128, 112, 112]   --                   --\n",
            "│    └─MaxPool2d (5)                     [1, 128, 112, 112]   [1, 128, 56, 56]     --                   --\n",
            "│    └─Conv2d (6)                        [1, 128, 56, 56]     [1, 256, 56, 56]     (295,168)            False\n",
            "│    └─ReLU (7)                          [1, 256, 56, 56]     [1, 256, 56, 56]     --                   --\n",
            "│    └─Conv2d (8)                        [1, 256, 56, 56]     [1, 256, 56, 56]     (590,080)            False\n",
            "│    └─ReLU (9)                          [1, 256, 56, 56]     [1, 256, 56, 56]     --                   --\n",
            "│    └─MaxPool2d (10)                    [1, 256, 56, 56]     [1, 256, 28, 28]     --                   --\n",
            "│    └─Conv2d (11)                       [1, 256, 28, 28]     [1, 512, 28, 28]     (1,180,160)          False\n",
            "│    └─ReLU (12)                         [1, 512, 28, 28]     [1, 512, 28, 28]     --                   --\n",
            "│    └─Conv2d (13)                       [1, 512, 28, 28]     [1, 512, 28, 28]     (2,359,808)          False\n",
            "│    └─ReLU (14)                         [1, 512, 28, 28]     [1, 512, 28, 28]     --                   --\n",
            "│    └─MaxPool2d (15)                    [1, 512, 28, 28]     [1, 512, 14, 14]     --                   --\n",
            "│    └─Conv2d (16)                       [1, 512, 14, 14]     [1, 512, 14, 14]     (2,359,808)          False\n",
            "│    └─ReLU (17)                         [1, 512, 14, 14]     [1, 512, 14, 14]     --                   --\n",
            "│    └─Conv2d (18)                       [1, 512, 14, 14]     [1, 512, 14, 14]     (2,359,808)          False\n",
            "│    └─ReLU (19)                         [1, 512, 14, 14]     [1, 512, 14, 14]     --                   --\n",
            "│    └─MaxPool2d (20)                    [1, 512, 14, 14]     [1, 512, 7, 7]       --                   --\n",
            "├─AdaptiveAvgPool2d (avgpool)            [1, 512, 7, 7]       [1, 512, 7, 7]       --                   --\n",
            "├─Sequential (classifier)                [1, 25088]           [1, 10]              --                   Partial\n",
            "│    └─Linear (0)                        [1, 25088]           [1, 4096]            (102,764,544)        False\n",
            "│    └─ReLU (1)                          [1, 4096]            [1, 4096]            --                   --\n",
            "│    └─Dropout (2)                       [1, 4096]            [1, 4096]            --                   --\n",
            "│    └─Linear (3)                        [1, 4096]            [1, 4096]            (16,781,312)         False\n",
            "│    └─ReLU (4)                          [1, 4096]            [1, 4096]            --                   --\n",
            "│    └─Dropout (5)                       [1, 4096]            [1, 4096]            --                   --\n",
            "│    └─Linear (6)                        [1, 4096]            [1, 10]              40,970               True\n",
            "========================================================================================================================\n",
            "Total params: 128,807,306\n",
            "Trainable params: 40,970\n",
            "Non-trainable params: 128,766,336\n",
            "Total mult-adds (Units.GIGABYTES): 7.61\n",
            "========================================================================================================================\n",
            "Input size (MB): 0.60\n",
            "Forward/backward pass size (MB): 59.47\n",
            "Params size (MB): 515.23\n",
            "Estimated Total Size (MB): 575.31\n",
            "========================================================================================================================\n"
          ]
        }
      ],
      "source": [
        "summarize_model(vgg)"
      ]
    },
    {
      "cell_type": "code",
      "execution_count": 24,
      "metadata": {
        "colab": {
          "base_uri": "https://localhost:8080/"
        },
        "id": "BmmBplBowZz7",
        "outputId": "a985c874-ee53-48e5-be63-c3d1e4d591a1"
      },
      "outputs": [
        {
          "name": "stdout",
          "output_type": "stream",
          "text": [
            "Files already downloaded and verified\n",
            "Files already downloaded and verified\n"
          ]
        }
      ],
      "source": [
        "vgg_traindataloader, vgg_testdataloader = get_dataloader(transform = vgg_transform,\n",
        "                                                         batch_size = 32,\n",
        "                                                         num_workers = num_workers)"
      ]
    },
    {
      "cell_type": "code",
      "execution_count": 25,
      "metadata": {
        "colab": {
          "base_uri": "https://localhost:8080/"
        },
        "id": "184PeBC_wC6p",
        "outputId": "b2158224-4ce6-44cc-81ba-b1e36fa59248"
      },
      "outputs": [
        {
          "name": "stdout",
          "output_type": "stream",
          "text": [
            "epoch 1\n",
            "\n",
            "Train loss: 0.93678 | Test loss: 0.58035, Test acc: 82.06%\n",
            "\n",
            "epoch 2\n",
            "\n",
            "Train loss: 0.33561 | Test loss: 0.46785, Test acc: 84.93%\n",
            "\n",
            "epoch 3\n",
            "\n",
            "Train loss: 0.17320 | Test loss: 0.70604, Test acc: 84.48%\n",
            "\n"
          ]
        }
      ],
      "source": [
        "vgg_loss_fn, vgg_optimizer = initialize_lossfn_and_optimizer(vgg)\n",
        "\n",
        "train_model(trainloader = vgg_traindataloader,\n",
        "            testloader = vgg_testdataloader,\n",
        "            model= vgg,\n",
        "            loss_fn = vgg_loss_fn,\n",
        "            optimizer= vgg_optimizer,\n",
        "            epochs= 5,\n",
        "            device= device,\n",
        "            seed = 42)"
      ]
    },
    {
      "cell_type": "markdown",
      "metadata": {},
      "source": [
        "## 3. GoogLeNet"
      ]
    },
    {
      "cell_type": "code",
      "execution_count": 36,
      "metadata": {
        "colab": {
          "base_uri": "https://localhost:8080/"
        },
        "id": "BZp3DHQj2JPV",
        "outputId": "5b052853-7c14-4558-8d01-2a27b88ef215"
      },
      "outputs": [
        {
          "name": "stderr",
          "output_type": "stream",
          "text": [
            "Downloading: \"https://download.pytorch.org/models/googlenet-1378be20.pth\" to C:\\Users\\longt/.cache\\torch\\hub\\checkpoints\\googlenet-1378be20.pth\n",
            "100%|██████████| 49.7M/49.7M [00:17<00:00, 2.93MB/s]\n"
          ]
        }
      ],
      "source": [
        "googlenet, googlenet_transform = create_model(name='GoogLeNet', class_names=class_names)"
      ]
    },
    {
      "cell_type": "code",
      "execution_count": 37,
      "metadata": {
        "colab": {
          "base_uri": "https://localhost:8080/"
        },
        "id": "GGbKNxaV2PGV",
        "outputId": "46f3acb8-d43d-4a68-d587-aabb62e23c8c"
      },
      "outputs": [
        {
          "name": "stdout",
          "output_type": "stream",
          "text": [
            "========================================================================================================================\n",
            "Layer (type (var_name))                  Input Shape          Output Shape         Param #              Trainable\n",
            "========================================================================================================================\n",
            "GoogLeNet (GoogLeNet)                    [1, 3, 224, 224]     [1, 10]              --                   Partial\n",
            "├─BasicConv2d (conv1)                    [1, 3, 224, 224]     [1, 64, 112, 112]    --                   False\n",
            "│    └─Conv2d (conv)                     [1, 3, 224, 224]     [1, 64, 112, 112]    (9,408)              False\n",
            "│    └─BatchNorm2d (bn)                  [1, 64, 112, 112]    [1, 64, 112, 112]    (128)                False\n",
            "├─MaxPool2d (maxpool1)                   [1, 64, 112, 112]    [1, 64, 56, 56]      --                   --\n",
            "├─BasicConv2d (conv2)                    [1, 64, 56, 56]      [1, 64, 56, 56]      --                   False\n",
            "│    └─Conv2d (conv)                     [1, 64, 56, 56]      [1, 64, 56, 56]      (4,096)              False\n",
            "│    └─BatchNorm2d (bn)                  [1, 64, 56, 56]      [1, 64, 56, 56]      (128)                False\n",
            "├─BasicConv2d (conv3)                    [1, 64, 56, 56]      [1, 192, 56, 56]     --                   False\n",
            "│    └─Conv2d (conv)                     [1, 64, 56, 56]      [1, 192, 56, 56]     (110,592)            False\n",
            "│    └─BatchNorm2d (bn)                  [1, 192, 56, 56]     [1, 192, 56, 56]     (384)                False\n",
            "├─MaxPool2d (maxpool2)                   [1, 192, 56, 56]     [1, 192, 28, 28]     --                   --\n",
            "├─Inception (inception3a)                [1, 192, 28, 28]     [1, 256, 28, 28]     --                   False\n",
            "│    └─BasicConv2d (branch1)             [1, 192, 28, 28]     [1, 64, 28, 28]      --                   False\n",
            "│    │    └─Conv2d (conv)                [1, 192, 28, 28]     [1, 64, 28, 28]      (12,288)             False\n",
            "│    │    └─BatchNorm2d (bn)             [1, 64, 28, 28]      [1, 64, 28, 28]      (128)                False\n",
            "│    └─Sequential (branch2)              [1, 192, 28, 28]     [1, 128, 28, 28]     --                   False\n",
            "│    │    └─BasicConv2d (0)              [1, 192, 28, 28]     [1, 96, 28, 28]      (18,624)             False\n",
            "│    │    └─BasicConv2d (1)              [1, 96, 28, 28]      [1, 128, 28, 28]     (110,848)            False\n",
            "│    └─Sequential (branch3)              [1, 192, 28, 28]     [1, 32, 28, 28]      --                   False\n",
            "│    │    └─BasicConv2d (0)              [1, 192, 28, 28]     [1, 16, 28, 28]      (3,104)              False\n",
            "│    │    └─BasicConv2d (1)              [1, 16, 28, 28]      [1, 32, 28, 28]      (4,672)              False\n",
            "│    └─Sequential (branch4)              [1, 192, 28, 28]     [1, 32, 28, 28]      --                   False\n",
            "│    │    └─MaxPool2d (0)                [1, 192, 28, 28]     [1, 192, 28, 28]     --                   --\n",
            "│    │    └─BasicConv2d (1)              [1, 192, 28, 28]     [1, 32, 28, 28]      (6,208)              False\n",
            "├─Inception (inception3b)                [1, 256, 28, 28]     [1, 480, 28, 28]     --                   False\n",
            "│    └─BasicConv2d (branch1)             [1, 256, 28, 28]     [1, 128, 28, 28]     --                   False\n",
            "│    │    └─Conv2d (conv)                [1, 256, 28, 28]     [1, 128, 28, 28]     (32,768)             False\n",
            "│    │    └─BatchNorm2d (bn)             [1, 128, 28, 28]     [1, 128, 28, 28]     (256)                False\n",
            "│    └─Sequential (branch2)              [1, 256, 28, 28]     [1, 192, 28, 28]     --                   False\n",
            "│    │    └─BasicConv2d (0)              [1, 256, 28, 28]     [1, 128, 28, 28]     (33,024)             False\n",
            "│    │    └─BasicConv2d (1)              [1, 128, 28, 28]     [1, 192, 28, 28]     (221,568)            False\n",
            "│    └─Sequential (branch3)              [1, 256, 28, 28]     [1, 96, 28, 28]      --                   False\n",
            "│    │    └─BasicConv2d (0)              [1, 256, 28, 28]     [1, 32, 28, 28]      (8,256)              False\n",
            "│    │    └─BasicConv2d (1)              [1, 32, 28, 28]      [1, 96, 28, 28]      (27,840)             False\n",
            "│    └─Sequential (branch4)              [1, 256, 28, 28]     [1, 64, 28, 28]      --                   False\n",
            "│    │    └─MaxPool2d (0)                [1, 256, 28, 28]     [1, 256, 28, 28]     --                   --\n",
            "│    │    └─BasicConv2d (1)              [1, 256, 28, 28]     [1, 64, 28, 28]      (16,512)             False\n",
            "├─MaxPool2d (maxpool3)                   [1, 480, 28, 28]     [1, 480, 14, 14]     --                   --\n",
            "├─Inception (inception4a)                [1, 480, 14, 14]     [1, 512, 14, 14]     --                   False\n",
            "│    └─BasicConv2d (branch1)             [1, 480, 14, 14]     [1, 192, 14, 14]     --                   False\n",
            "│    │    └─Conv2d (conv)                [1, 480, 14, 14]     [1, 192, 14, 14]     (92,160)             False\n",
            "│    │    └─BatchNorm2d (bn)             [1, 192, 14, 14]     [1, 192, 14, 14]     (384)                False\n",
            "│    └─Sequential (branch2)              [1, 480, 14, 14]     [1, 208, 14, 14]     --                   False\n",
            "│    │    └─BasicConv2d (0)              [1, 480, 14, 14]     [1, 96, 14, 14]      (46,272)             False\n",
            "│    │    └─BasicConv2d (1)              [1, 96, 14, 14]      [1, 208, 14, 14]     (180,128)            False\n",
            "│    └─Sequential (branch3)              [1, 480, 14, 14]     [1, 48, 14, 14]      --                   False\n",
            "│    │    └─BasicConv2d (0)              [1, 480, 14, 14]     [1, 16, 14, 14]      (7,712)              False\n",
            "│    │    └─BasicConv2d (1)              [1, 16, 14, 14]      [1, 48, 14, 14]      (7,008)              False\n",
            "│    └─Sequential (branch4)              [1, 480, 14, 14]     [1, 64, 14, 14]      --                   False\n",
            "│    │    └─MaxPool2d (0)                [1, 480, 14, 14]     [1, 480, 14, 14]     --                   --\n",
            "│    │    └─BasicConv2d (1)              [1, 480, 14, 14]     [1, 64, 14, 14]      (30,848)             False\n",
            "├─Inception (inception4b)                [1, 512, 14, 14]     [1, 512, 14, 14]     --                   False\n",
            "│    └─BasicConv2d (branch1)             [1, 512, 14, 14]     [1, 160, 14, 14]     --                   False\n",
            "│    │    └─Conv2d (conv)                [1, 512, 14, 14]     [1, 160, 14, 14]     (81,920)             False\n",
            "│    │    └─BatchNorm2d (bn)             [1, 160, 14, 14]     [1, 160, 14, 14]     (320)                False\n",
            "│    └─Sequential (branch2)              [1, 512, 14, 14]     [1, 224, 14, 14]     --                   False\n",
            "│    │    └─BasicConv2d (0)              [1, 512, 14, 14]     [1, 112, 14, 14]     (57,568)             False\n",
            "│    │    └─BasicConv2d (1)              [1, 112, 14, 14]     [1, 224, 14, 14]     (226,240)            False\n",
            "│    └─Sequential (branch3)              [1, 512, 14, 14]     [1, 64, 14, 14]      --                   False\n",
            "│    │    └─BasicConv2d (0)              [1, 512, 14, 14]     [1, 24, 14, 14]      (12,336)             False\n",
            "│    │    └─BasicConv2d (1)              [1, 24, 14, 14]      [1, 64, 14, 14]      (13,952)             False\n",
            "│    └─Sequential (branch4)              [1, 512, 14, 14]     [1, 64, 14, 14]      --                   False\n",
            "│    │    └─MaxPool2d (0)                [1, 512, 14, 14]     [1, 512, 14, 14]     --                   --\n",
            "│    │    └─BasicConv2d (1)              [1, 512, 14, 14]     [1, 64, 14, 14]      (32,896)             False\n",
            "├─Inception (inception4c)                [1, 512, 14, 14]     [1, 512, 14, 14]     --                   False\n",
            "│    └─BasicConv2d (branch1)             [1, 512, 14, 14]     [1, 128, 14, 14]     --                   False\n",
            "│    │    └─Conv2d (conv)                [1, 512, 14, 14]     [1, 128, 14, 14]     (65,536)             False\n",
            "│    │    └─BatchNorm2d (bn)             [1, 128, 14, 14]     [1, 128, 14, 14]     (256)                False\n",
            "│    └─Sequential (branch2)              [1, 512, 14, 14]     [1, 256, 14, 14]     --                   False\n",
            "│    │    └─BasicConv2d (0)              [1, 512, 14, 14]     [1, 128, 14, 14]     (65,792)             False\n",
            "│    │    └─BasicConv2d (1)              [1, 128, 14, 14]     [1, 256, 14, 14]     (295,424)            False\n",
            "│    └─Sequential (branch3)              [1, 512, 14, 14]     [1, 64, 14, 14]      --                   False\n",
            "│    │    └─BasicConv2d (0)              [1, 512, 14, 14]     [1, 24, 14, 14]      (12,336)             False\n",
            "│    │    └─BasicConv2d (1)              [1, 24, 14, 14]      [1, 64, 14, 14]      (13,952)             False\n",
            "│    └─Sequential (branch4)              [1, 512, 14, 14]     [1, 64, 14, 14]      --                   False\n",
            "│    │    └─MaxPool2d (0)                [1, 512, 14, 14]     [1, 512, 14, 14]     --                   --\n",
            "│    │    └─BasicConv2d (1)              [1, 512, 14, 14]     [1, 64, 14, 14]      (32,896)             False\n",
            "├─Inception (inception4d)                [1, 512, 14, 14]     [1, 528, 14, 14]     --                   False\n",
            "│    └─BasicConv2d (branch1)             [1, 512, 14, 14]     [1, 112, 14, 14]     --                   False\n",
            "│    │    └─Conv2d (conv)                [1, 512, 14, 14]     [1, 112, 14, 14]     (57,344)             False\n",
            "│    │    └─BatchNorm2d (bn)             [1, 112, 14, 14]     [1, 112, 14, 14]     (224)                False\n",
            "│    └─Sequential (branch2)              [1, 512, 14, 14]     [1, 288, 14, 14]     --                   False\n",
            "│    │    └─BasicConv2d (0)              [1, 512, 14, 14]     [1, 144, 14, 14]     (74,016)             False\n",
            "│    │    └─BasicConv2d (1)              [1, 144, 14, 14]     [1, 288, 14, 14]     (373,824)            False\n",
            "│    └─Sequential (branch3)              [1, 512, 14, 14]     [1, 64, 14, 14]      --                   False\n",
            "│    │    └─BasicConv2d (0)              [1, 512, 14, 14]     [1, 32, 14, 14]      (16,448)             False\n",
            "│    │    └─BasicConv2d (1)              [1, 32, 14, 14]      [1, 64, 14, 14]      (18,560)             False\n",
            "│    └─Sequential (branch4)              [1, 512, 14, 14]     [1, 64, 14, 14]      --                   False\n",
            "│    │    └─MaxPool2d (0)                [1, 512, 14, 14]     [1, 512, 14, 14]     --                   --\n",
            "│    │    └─BasicConv2d (1)              [1, 512, 14, 14]     [1, 64, 14, 14]      (32,896)             False\n",
            "├─Inception (inception4e)                [1, 528, 14, 14]     [1, 832, 14, 14]     --                   False\n",
            "│    └─BasicConv2d (branch1)             [1, 528, 14, 14]     [1, 256, 14, 14]     --                   False\n",
            "│    │    └─Conv2d (conv)                [1, 528, 14, 14]     [1, 256, 14, 14]     (135,168)            False\n",
            "│    │    └─BatchNorm2d (bn)             [1, 256, 14, 14]     [1, 256, 14, 14]     (512)                False\n",
            "│    └─Sequential (branch2)              [1, 528, 14, 14]     [1, 320, 14, 14]     --                   False\n",
            "│    │    └─BasicConv2d (0)              [1, 528, 14, 14]     [1, 160, 14, 14]     (84,800)             False\n",
            "│    │    └─BasicConv2d (1)              [1, 160, 14, 14]     [1, 320, 14, 14]     (461,440)            False\n",
            "│    └─Sequential (branch3)              [1, 528, 14, 14]     [1, 128, 14, 14]     --                   False\n",
            "│    │    └─BasicConv2d (0)              [1, 528, 14, 14]     [1, 32, 14, 14]      (16,960)             False\n",
            "│    │    └─BasicConv2d (1)              [1, 32, 14, 14]      [1, 128, 14, 14]     (37,120)             False\n",
            "│    └─Sequential (branch4)              [1, 528, 14, 14]     [1, 128, 14, 14]     --                   False\n",
            "│    │    └─MaxPool2d (0)                [1, 528, 14, 14]     [1, 528, 14, 14]     --                   --\n",
            "│    │    └─BasicConv2d (1)              [1, 528, 14, 14]     [1, 128, 14, 14]     (67,840)             False\n",
            "├─MaxPool2d (maxpool4)                   [1, 832, 14, 14]     [1, 832, 7, 7]       --                   --\n",
            "├─Inception (inception5a)                [1, 832, 7, 7]       [1, 832, 7, 7]       --                   False\n",
            "│    └─BasicConv2d (branch1)             [1, 832, 7, 7]       [1, 256, 7, 7]       --                   False\n",
            "│    │    └─Conv2d (conv)                [1, 832, 7, 7]       [1, 256, 7, 7]       (212,992)            False\n",
            "│    │    └─BatchNorm2d (bn)             [1, 256, 7, 7]       [1, 256, 7, 7]       (512)                False\n",
            "│    └─Sequential (branch2)              [1, 832, 7, 7]       [1, 320, 7, 7]       --                   False\n",
            "│    │    └─BasicConv2d (0)              [1, 832, 7, 7]       [1, 160, 7, 7]       (133,440)            False\n",
            "│    │    └─BasicConv2d (1)              [1, 160, 7, 7]       [1, 320, 7, 7]       (461,440)            False\n",
            "│    └─Sequential (branch3)              [1, 832, 7, 7]       [1, 128, 7, 7]       --                   False\n",
            "│    │    └─BasicConv2d (0)              [1, 832, 7, 7]       [1, 32, 7, 7]        (26,688)             False\n",
            "│    │    └─BasicConv2d (1)              [1, 32, 7, 7]        [1, 128, 7, 7]       (37,120)             False\n",
            "│    └─Sequential (branch4)              [1, 832, 7, 7]       [1, 128, 7, 7]       --                   False\n",
            "│    │    └─MaxPool2d (0)                [1, 832, 7, 7]       [1, 832, 7, 7]       --                   --\n",
            "│    │    └─BasicConv2d (1)              [1, 832, 7, 7]       [1, 128, 7, 7]       (106,752)            False\n",
            "├─Inception (inception5b)                [1, 832, 7, 7]       [1, 1024, 7, 7]      --                   False\n",
            "│    └─BasicConv2d (branch1)             [1, 832, 7, 7]       [1, 384, 7, 7]       --                   False\n",
            "│    │    └─Conv2d (conv)                [1, 832, 7, 7]       [1, 384, 7, 7]       (319,488)            False\n",
            "│    │    └─BatchNorm2d (bn)             [1, 384, 7, 7]       [1, 384, 7, 7]       (768)                False\n",
            "│    └─Sequential (branch2)              [1, 832, 7, 7]       [1, 384, 7, 7]       --                   False\n",
            "│    │    └─BasicConv2d (0)              [1, 832, 7, 7]       [1, 192, 7, 7]       (160,128)            False\n",
            "│    │    └─BasicConv2d (1)              [1, 192, 7, 7]       [1, 384, 7, 7]       (664,320)            False\n",
            "│    └─Sequential (branch3)              [1, 832, 7, 7]       [1, 128, 7, 7]       --                   False\n",
            "│    │    └─BasicConv2d (0)              [1, 832, 7, 7]       [1, 48, 7, 7]        (40,032)             False\n",
            "│    │    └─BasicConv2d (1)              [1, 48, 7, 7]        [1, 128, 7, 7]       (55,552)             False\n",
            "│    └─Sequential (branch4)              [1, 832, 7, 7]       [1, 128, 7, 7]       --                   False\n",
            "│    │    └─MaxPool2d (0)                [1, 832, 7, 7]       [1, 832, 7, 7]       --                   --\n",
            "│    │    └─BasicConv2d (1)              [1, 832, 7, 7]       [1, 128, 7, 7]       (106,752)            False\n",
            "├─AdaptiveAvgPool2d (avgpool)            [1, 1024, 7, 7]      [1, 1024, 1, 1]      --                   --\n",
            "├─Dropout (dropout)                      [1, 1024]            [1, 1024]            --                   --\n",
            "├─Linear (fc)                            [1, 1024]            [1, 10]              10,250               True\n",
            "========================================================================================================================\n",
            "Total params: 5,610,154\n",
            "Trainable params: 10,250\n",
            "Non-trainable params: 5,599,904\n",
            "Total mult-adds (Units.GIGABYTES): 1.50\n",
            "========================================================================================================================\n",
            "Input size (MB): 0.60\n",
            "Forward/backward pass size (MB): 51.62\n",
            "Params size (MB): 22.44\n",
            "Estimated Total Size (MB): 74.66\n",
            "========================================================================================================================\n"
          ]
        }
      ],
      "source": [
        "summarize_model(googlenet)"
      ]
    },
    {
      "cell_type": "code",
      "execution_count": 34,
      "metadata": {
        "colab": {
          "base_uri": "https://localhost:8080/"
        },
        "id": "DnIMBKY52SXz",
        "outputId": "25cb3ba3-c5c3-43fc-8334-b12da5da3d22"
      },
      "outputs": [
        {
          "name": "stdout",
          "output_type": "stream",
          "text": [
            "Files already downloaded and verified\n",
            "Files already downloaded and verified\n"
          ]
        }
      ],
      "source": [
        "googlenet_traindataloader, googlenet_testdataloader = get_dataloader(transform = googlenet_transform,\n",
        "                                                                     batch_size = 32,\n",
        "                                                                     num_workers = num_workers)"
      ]
    },
    {
      "cell_type": "code",
      "execution_count": 35,
      "metadata": {
        "colab": {
          "base_uri": "https://localhost:8080/"
        },
        "id": "AyI0PPpL2knK",
        "outputId": "8074970f-d19e-47c9-9930-15a490747662"
      },
      "outputs": [
        {
          "name": "stdout",
          "output_type": "stream",
          "text": [
            "epoch 1\n",
            "\n",
            "Train loss: 0.94435 | Test loss: 0.71553, Test acc: 75.64%\n",
            "\n",
            "epoch 2\n",
            "\n",
            "Train loss: 0.64718 | Test loss: 0.65530, Test acc: 77.49%\n",
            "\n",
            "epoch 3\n",
            "\n",
            "Train loss: 0.60985 | Test loss: 0.66082, Test acc: 76.89%\n",
            "\n"
          ]
        }
      ],
      "source": [
        "googlenet_lossfn, googlenet_optimizer = initialize_lossfn_and_optimizer(googlenet)\n",
        "\n",
        "train_model(trainloader = googlenet_traindataloader,\n",
        "            testloader = googlenet_testdataloader,\n",
        "            model= googlenet,\n",
        "            loss_fn = googlenet_lossfn,\n",
        "            optimizer= googlenet_optimizer,\n",
        "            epochs= 3,\n",
        "            device= device,\n",
        "            seed = 42)"
      ]
    },
    {
      "cell_type": "markdown",
      "metadata": {},
      "source": [
        "## 4. ResNet"
      ]
    },
    {
      "cell_type": "code",
      "execution_count": 34,
      "metadata": {
        "colab": {
          "base_uri": "https://localhost:8080/"
        },
        "id": "Bw5iDJyiy5I3",
        "outputId": "5dd287bc-c0b1-4474-8c29-a2e4dd00597f"
      },
      "outputs": [],
      "source": [
        "resnet, resnet_transform = create_model(name='ResNet18',\n",
        "                                        class_names=class_names)"
      ]
    },
    {
      "cell_type": "code",
      "execution_count": 35,
      "metadata": {
        "colab": {
          "base_uri": "https://localhost:8080/"
        },
        "id": "AxwFwOK506ue",
        "outputId": "5f5eca5c-cb76-48fb-f22c-814995ad7162"
      },
      "outputs": [
        {
          "name": "stdout",
          "output_type": "stream",
          "text": [
            "========================================================================================================================\n",
            "Layer (type (var_name))                  Input Shape          Output Shape         Param #              Trainable\n",
            "========================================================================================================================\n",
            "ResNet (ResNet)                          [1, 3, 224, 224]     [1, 10]              --                   Partial\n",
            "├─Conv2d (conv1)                         [1, 3, 224, 224]     [1, 64, 112, 112]    (9,408)              False\n",
            "├─BatchNorm2d (bn1)                      [1, 64, 112, 112]    [1, 64, 112, 112]    (128)                False\n",
            "├─ReLU (relu)                            [1, 64, 112, 112]    [1, 64, 112, 112]    --                   --\n",
            "├─MaxPool2d (maxpool)                    [1, 64, 112, 112]    [1, 64, 56, 56]      --                   --\n",
            "├─Sequential (layer1)                    [1, 64, 56, 56]      [1, 64, 56, 56]      --                   False\n",
            "│    └─BasicBlock (0)                    [1, 64, 56, 56]      [1, 64, 56, 56]      --                   False\n",
            "│    │    └─Conv2d (conv1)               [1, 64, 56, 56]      [1, 64, 56, 56]      (36,864)             False\n",
            "│    │    └─BatchNorm2d (bn1)            [1, 64, 56, 56]      [1, 64, 56, 56]      (128)                False\n",
            "│    │    └─ReLU (relu)                  [1, 64, 56, 56]      [1, 64, 56, 56]      --                   --\n",
            "│    │    └─Conv2d (conv2)               [1, 64, 56, 56]      [1, 64, 56, 56]      (36,864)             False\n",
            "│    │    └─BatchNorm2d (bn2)            [1, 64, 56, 56]      [1, 64, 56, 56]      (128)                False\n",
            "│    │    └─ReLU (relu)                  [1, 64, 56, 56]      [1, 64, 56, 56]      --                   --\n",
            "│    └─BasicBlock (1)                    [1, 64, 56, 56]      [1, 64, 56, 56]      --                   False\n",
            "│    │    └─Conv2d (conv1)               [1, 64, 56, 56]      [1, 64, 56, 56]      (36,864)             False\n",
            "│    │    └─BatchNorm2d (bn1)            [1, 64, 56, 56]      [1, 64, 56, 56]      (128)                False\n",
            "│    │    └─ReLU (relu)                  [1, 64, 56, 56]      [1, 64, 56, 56]      --                   --\n",
            "│    │    └─Conv2d (conv2)               [1, 64, 56, 56]      [1, 64, 56, 56]      (36,864)             False\n",
            "│    │    └─BatchNorm2d (bn2)            [1, 64, 56, 56]      [1, 64, 56, 56]      (128)                False\n",
            "│    │    └─ReLU (relu)                  [1, 64, 56, 56]      [1, 64, 56, 56]      --                   --\n",
            "├─Sequential (layer2)                    [1, 64, 56, 56]      [1, 128, 28, 28]     --                   False\n",
            "│    └─BasicBlock (0)                    [1, 64, 56, 56]      [1, 128, 28, 28]     --                   False\n",
            "│    │    └─Conv2d (conv1)               [1, 64, 56, 56]      [1, 128, 28, 28]     (73,728)             False\n",
            "│    │    └─BatchNorm2d (bn1)            [1, 128, 28, 28]     [1, 128, 28, 28]     (256)                False\n",
            "│    │    └─ReLU (relu)                  [1, 128, 28, 28]     [1, 128, 28, 28]     --                   --\n",
            "│    │    └─Conv2d (conv2)               [1, 128, 28, 28]     [1, 128, 28, 28]     (147,456)            False\n",
            "│    │    └─BatchNorm2d (bn2)            [1, 128, 28, 28]     [1, 128, 28, 28]     (256)                False\n",
            "│    │    └─Sequential (downsample)      [1, 64, 56, 56]      [1, 128, 28, 28]     (8,448)              False\n",
            "│    │    └─ReLU (relu)                  [1, 128, 28, 28]     [1, 128, 28, 28]     --                   --\n",
            "│    └─BasicBlock (1)                    [1, 128, 28, 28]     [1, 128, 28, 28]     --                   False\n",
            "│    │    └─Conv2d (conv1)               [1, 128, 28, 28]     [1, 128, 28, 28]     (147,456)            False\n",
            "│    │    └─BatchNorm2d (bn1)            [1, 128, 28, 28]     [1, 128, 28, 28]     (256)                False\n",
            "│    │    └─ReLU (relu)                  [1, 128, 28, 28]     [1, 128, 28, 28]     --                   --\n",
            "│    │    └─Conv2d (conv2)               [1, 128, 28, 28]     [1, 128, 28, 28]     (147,456)            False\n",
            "│    │    └─BatchNorm2d (bn2)            [1, 128, 28, 28]     [1, 128, 28, 28]     (256)                False\n",
            "│    │    └─ReLU (relu)                  [1, 128, 28, 28]     [1, 128, 28, 28]     --                   --\n",
            "├─Sequential (layer3)                    [1, 128, 28, 28]     [1, 256, 14, 14]     --                   False\n",
            "│    └─BasicBlock (0)                    [1, 128, 28, 28]     [1, 256, 14, 14]     --                   False\n",
            "│    │    └─Conv2d (conv1)               [1, 128, 28, 28]     [1, 256, 14, 14]     (294,912)            False\n",
            "│    │    └─BatchNorm2d (bn1)            [1, 256, 14, 14]     [1, 256, 14, 14]     (512)                False\n",
            "│    │    └─ReLU (relu)                  [1, 256, 14, 14]     [1, 256, 14, 14]     --                   --\n",
            "│    │    └─Conv2d (conv2)               [1, 256, 14, 14]     [1, 256, 14, 14]     (589,824)            False\n",
            "│    │    └─BatchNorm2d (bn2)            [1, 256, 14, 14]     [1, 256, 14, 14]     (512)                False\n",
            "│    │    └─Sequential (downsample)      [1, 128, 28, 28]     [1, 256, 14, 14]     (33,280)             False\n",
            "│    │    └─ReLU (relu)                  [1, 256, 14, 14]     [1, 256, 14, 14]     --                   --\n",
            "│    └─BasicBlock (1)                    [1, 256, 14, 14]     [1, 256, 14, 14]     --                   False\n",
            "│    │    └─Conv2d (conv1)               [1, 256, 14, 14]     [1, 256, 14, 14]     (589,824)            False\n",
            "│    │    └─BatchNorm2d (bn1)            [1, 256, 14, 14]     [1, 256, 14, 14]     (512)                False\n",
            "│    │    └─ReLU (relu)                  [1, 256, 14, 14]     [1, 256, 14, 14]     --                   --\n",
            "│    │    └─Conv2d (conv2)               [1, 256, 14, 14]     [1, 256, 14, 14]     (589,824)            False\n",
            "│    │    └─BatchNorm2d (bn2)            [1, 256, 14, 14]     [1, 256, 14, 14]     (512)                False\n",
            "│    │    └─ReLU (relu)                  [1, 256, 14, 14]     [1, 256, 14, 14]     --                   --\n",
            "├─Sequential (layer4)                    [1, 256, 14, 14]     [1, 512, 7, 7]       --                   False\n",
            "│    └─BasicBlock (0)                    [1, 256, 14, 14]     [1, 512, 7, 7]       --                   False\n",
            "│    │    └─Conv2d (conv1)               [1, 256, 14, 14]     [1, 512, 7, 7]       (1,179,648)          False\n",
            "│    │    └─BatchNorm2d (bn1)            [1, 512, 7, 7]       [1, 512, 7, 7]       (1,024)              False\n",
            "│    │    └─ReLU (relu)                  [1, 512, 7, 7]       [1, 512, 7, 7]       --                   --\n",
            "│    │    └─Conv2d (conv2)               [1, 512, 7, 7]       [1, 512, 7, 7]       (2,359,296)          False\n",
            "│    │    └─BatchNorm2d (bn2)            [1, 512, 7, 7]       [1, 512, 7, 7]       (1,024)              False\n",
            "│    │    └─Sequential (downsample)      [1, 256, 14, 14]     [1, 512, 7, 7]       (132,096)            False\n",
            "│    │    └─ReLU (relu)                  [1, 512, 7, 7]       [1, 512, 7, 7]       --                   --\n",
            "│    └─BasicBlock (1)                    [1, 512, 7, 7]       [1, 512, 7, 7]       --                   False\n",
            "│    │    └─Conv2d (conv1)               [1, 512, 7, 7]       [1, 512, 7, 7]       (2,359,296)          False\n",
            "│    │    └─BatchNorm2d (bn1)            [1, 512, 7, 7]       [1, 512, 7, 7]       (1,024)              False\n",
            "│    │    └─ReLU (relu)                  [1, 512, 7, 7]       [1, 512, 7, 7]       --                   --\n",
            "│    │    └─Conv2d (conv2)               [1, 512, 7, 7]       [1, 512, 7, 7]       (2,359,296)          False\n",
            "│    │    └─BatchNorm2d (bn2)            [1, 512, 7, 7]       [1, 512, 7, 7]       (1,024)              False\n",
            "│    │    └─ReLU (relu)                  [1, 512, 7, 7]       [1, 512, 7, 7]       --                   --\n",
            "├─AdaptiveAvgPool2d (avgpool)            [1, 512, 7, 7]       [1, 512, 1, 1]       --                   --\n",
            "├─Linear (fc)                            [1, 512]             [1, 10]              5,130                True\n",
            "========================================================================================================================\n",
            "Total params: 11,181,642\n",
            "Trainable params: 5,130\n",
            "Non-trainable params: 11,176,512\n",
            "Total mult-adds (Units.GIGABYTES): 1.81\n",
            "========================================================================================================================\n",
            "Input size (MB): 0.60\n",
            "Forward/backward pass size (MB): 39.74\n",
            "Params size (MB): 44.73\n",
            "Estimated Total Size (MB): 85.07\n",
            "========================================================================================================================\n"
          ]
        }
      ],
      "source": [
        "summarize_model(resnet)"
      ]
    },
    {
      "cell_type": "code",
      "execution_count": 29,
      "metadata": {
        "colab": {
          "base_uri": "https://localhost:8080/"
        },
        "id": "-0X7cub5yd3A",
        "outputId": "20993d17-469a-4e6d-fed6-e15942dc3771"
      },
      "outputs": [
        {
          "name": "stdout",
          "output_type": "stream",
          "text": [
            "Files already downloaded and verified\n",
            "Files already downloaded and verified\n"
          ]
        }
      ],
      "source": [
        "resnet_traindataloader, resnet_testdataloader = get_dataloader(transform = resnet_transform,\n",
        "                                                               batch_size = 32,\n",
        "                                                               num_workers = num_workers)"
      ]
    },
    {
      "cell_type": "code",
      "execution_count": 30,
      "metadata": {
        "colab": {
          "base_uri": "https://localhost:8080/"
        },
        "id": "RlUD9itYys6Y",
        "outputId": "d4432a1b-904d-4b98-bb44-57cd70544100"
      },
      "outputs": [
        {
          "name": "stdout",
          "output_type": "stream",
          "text": [
            "epoch 1\n",
            "\n",
            "Train loss: 0.88348 | Test loss: 0.69015, Test acc: 76.55%\n",
            "\n",
            "epoch 2\n",
            "\n",
            "Train loss: 0.65698 | Test loss: 0.66284, Test acc: 77.27%\n",
            "\n",
            "epoch 3\n",
            "\n",
            "Train loss: 0.63320 | Test loss: 0.65707, Test acc: 77.27%\n",
            "\n"
          ]
        }
      ],
      "source": [
        "resnet_lossfn, resnet_optimizer = initialize_lossfn_and_optimizer(resnet)\n",
        "\n",
        "train_model(trainloader = resnet_traindataloader,\n",
        "            testloader = resnet_testdataloader,\n",
        "            model= resnet,\n",
        "            loss_fn = resnet_lossfn,\n",
        "            optimizer= resnet_optimizer,\n",
        "            epochs= 3,\n",
        "            device= device,\n",
        "            seed = 42)"
      ]
    }
  ],
  "metadata": {
    "accelerator": "GPU",
    "colab": {
      "gpuType": "T4",
      "provenance": []
    },
    "kernelspec": {
      "display_name": "Python 3",
      "name": "python3"
    },
    "language_info": {
      "codemirror_mode": {
        "name": "ipython",
        "version": 3
      },
      "file_extension": ".py",
      "mimetype": "text/x-python",
      "name": "python",
      "nbconvert_exporter": "python",
      "pygments_lexer": "ipython3",
      "version": "3.12.4"
    }
  },
  "nbformat": 4,
  "nbformat_minor": 0
}
