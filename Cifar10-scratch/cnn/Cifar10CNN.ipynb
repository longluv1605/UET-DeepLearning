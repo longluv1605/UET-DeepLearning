{
  "cells": [
    {
      "cell_type": "code",
      "execution_count": 1,
      "metadata": {
        "id": "IvWWzFILC6CF"
      },
      "outputs": [],
      "source": [
        "import torch # type: ignore\n",
        "from torch import nn # type: ignore\n",
        "from torch.utils.data import DataLoader # type: ignore\n",
        "import torchvision # type: ignore\n",
        "from torchvision import transforms # type: ignore\n",
        "import matplotlib.pyplot as plt # type: ignore"
      ]
    },
    {
      "cell_type": "code",
      "execution_count": 2,
      "metadata": {
        "colab": {
          "base_uri": "https://localhost:8080/"
        },
        "id": "gg9lmFgTC6CG",
        "outputId": "09484ed9-c4f8-425a-d036-6fa53bfb1eb6"
      },
      "outputs": [
        {
          "output_type": "stream",
          "name": "stdout",
          "text": [
            "PyTorch version: 2.4.1+cu121\n",
            "torchvision version: 0.19.1+cu121\n"
          ]
        }
      ],
      "source": [
        "print(\"PyTorch version:\", torch.__version__)\n",
        "print(\"torchvision version:\", torchvision.__version__)"
      ]
    },
    {
      "cell_type": "code",
      "execution_count": 3,
      "metadata": {
        "colab": {
          "base_uri": "https://localhost:8080/"
        },
        "id": "M7NlpUSYC6CH",
        "outputId": "e4af1e2d-280a-4a33-abce-9e0297d58af3"
      },
      "outputs": [
        {
          "output_type": "execute_result",
          "data": {
            "text/plain": [
              "device(type='cuda')"
            ]
          },
          "metadata": {},
          "execution_count": 3
        }
      ],
      "source": [
        "device = torch.device('cuda' if torch.cuda.is_available() else 'cpu')\n",
        "device"
      ]
    },
    {
      "cell_type": "code",
      "execution_count": 4,
      "metadata": {
        "colab": {
          "base_uri": "https://localhost:8080/"
        },
        "id": "wEWo6ikHC6CI",
        "outputId": "41d8b0a9-f9d2-4bb5-9efa-e3144e81cd39"
      },
      "outputs": [
        {
          "output_type": "stream",
          "name": "stdout",
          "text": [
            "Downloading https://www.cs.toronto.edu/~kriz/cifar-10-python.tar.gz to ../data/cifar-10-python.tar.gz\n"
          ]
        },
        {
          "output_type": "stream",
          "name": "stderr",
          "text": [
            "100%|██████████| 170498071/170498071 [00:03<00:00, 42753669.02it/s]\n"
          ]
        },
        {
          "output_type": "stream",
          "name": "stdout",
          "text": [
            "Extracting ../data/cifar-10-python.tar.gz to ../data\n",
            "['airplane', 'automobile', 'bird', 'cat', 'deer', 'dog', 'frog', 'horse', 'ship', 'truck']\n"
          ]
        }
      ],
      "source": [
        "cifar10 = torchvision.datasets.CIFAR10(root='../data', train=True, download=True)\n",
        "\n",
        "class_names = cifar10.classes\n",
        "print(class_names)"
      ]
    },
    {
      "cell_type": "code",
      "execution_count": 5,
      "metadata": {
        "id": "rBBnuIkQC6CI"
      },
      "outputs": [],
      "source": [
        "def get_dataloader(transform: torchvision.transforms,\n",
        "                   batch_size: int,\n",
        "                   num_workers: int):\n",
        "    trainset = torchvision.datasets.CIFAR10(root='../data', train=True,\n",
        "                                        download=True, transform=transform)\n",
        "\n",
        "    testset = torchvision.datasets.CIFAR10(root='../data', train=False,\n",
        "                                       download=True, transform=transform)\n",
        "\n",
        "    train_dataloader = DataLoader(dataset= trainset, batch_size = batch_size, shuffle= True, num_workers = num_workers)\n",
        "    test_dataloader = DataLoader(dataset= testset, batch_size = batch_size, shuffle= False, num_workers = num_workers)\n",
        "\n",
        "    return train_dataloader, test_dataloader"
      ]
    },
    {
      "cell_type": "code",
      "execution_count": 6,
      "metadata": {
        "colab": {
          "base_uri": "https://localhost:8080/"
        },
        "id": "7n_hWTccC6CJ",
        "outputId": "ea20a8bb-11c6-43b5-84dd-2b8bdd296978"
      },
      "outputs": [
        {
          "output_type": "stream",
          "name": "stdout",
          "text": [
            "Files already downloaded and verified\n",
            "Files already downloaded and verified\n"
          ]
        }
      ],
      "source": [
        "import os\n",
        "num_workers = os.cpu_count()\n",
        "\n",
        "simple_transforms = transforms.Compose([\n",
        "    transforms.Resize((32, 32)),\n",
        "    transforms.ToTensor(),\n",
        "    transforms.Normalize((0.5, 0.5, 0.5), (0.5, 0.5, 0.5))\n",
        "])\n",
        "\n",
        "simple_cnn_train_dataloader, simple_cnn_test_dataloader = get_dataloader(simple_transforms, 32, num_workers)"
      ]
    },
    {
      "cell_type": "code",
      "execution_count": 7,
      "metadata": {
        "id": "d8mmwqmgC6CJ"
      },
      "outputs": [],
      "source": [
        "import random\n",
        "\n",
        "def inspect_images(dataloader: torch.utils.data.DataLoader,\n",
        "                   k: int,\n",
        "                   seed = 42):\n",
        "    batch = next(iter(dataloader))\n",
        "    images, labels = batch\n",
        "\n",
        "    image_list = [img for img in images]\n",
        "    label_list = [label for label in labels]\n",
        "    torch.manual_seed(42)\n",
        "    random.seed(42)\n",
        "\n",
        "    combined = list(zip(image_list, label_list))\n",
        "    random_samples = random.sample(combined, k)\n",
        "\n",
        "    fig, axs = plt.subplots(1,5, figsize=(15,3))\n",
        "\n",
        "    for ax, (img, label) in zip(axs, random_samples):\n",
        "      ax.imshow((img.permute(1,2,0)))\n",
        "      ax.set_title(f'Label: {class_names[label]}')\n",
        "      ax.axis('off')\n",
        "\n",
        "    plt.tight_layout()\n",
        "    plt.show()"
      ]
    },
    {
      "cell_type": "code",
      "execution_count": 8,
      "metadata": {
        "colab": {
          "base_uri": "https://localhost:8080/",
          "height": 413
        },
        "id": "qoox3IdtC6CJ",
        "outputId": "e11af2d7-b32e-41b5-d085-c7ef17570db4"
      },
      "outputs": [
        {
          "output_type": "stream",
          "name": "stderr",
          "text": [
            "WARNING:matplotlib.image:Clipping input data to the valid range for imshow with RGB data ([0..1] for floats or [0..255] for integers).\n",
            "WARNING:matplotlib.image:Clipping input data to the valid range for imshow with RGB data ([0..1] for floats or [0..255] for integers).\n",
            "WARNING:matplotlib.image:Clipping input data to the valid range for imshow with RGB data ([0..1] for floats or [0..255] for integers).\n",
            "WARNING:matplotlib.image:Clipping input data to the valid range for imshow with RGB data ([0..1] for floats or [0..255] for integers).\n",
            "WARNING:matplotlib.image:Clipping input data to the valid range for imshow with RGB data ([0..1] for floats or [0..255] for integers).\n"
          ]
        },
        {
          "output_type": "display_data",
          "data": {
            "text/plain": [
              "<Figure size 1500x300 with 5 Axes>"
            ],
            "image/png": "[encoded data removed]"
          },
          "metadata": {}
        }
      ],
      "source": [
        "inspect_images(simple_cnn_train_dataloader,\n",
        "               5)"
      ]
    },
    {
      "cell_type": "markdown",
      "metadata": {
        "id": "5XWeWiwRJUhG"
      },
      "source": [
        "# Training function"
      ]
    },
    {
      "cell_type": "code",
      "execution_count": 9,
      "metadata": {
        "id": "7GKBTyvDC6CK"
      },
      "outputs": [],
      "source": [
        "def train_model(trainloader: torch.utils.data.DataLoader,\n",
        "                testloader: torch.utils.data.DataLoader,\n",
        "                model: torch.nn.Module,\n",
        "                loss_fn : torch.nn.Module,\n",
        "                optimizer : torch.optim.Optimizer,\n",
        "                epochs : int = 3,\n",
        "                device = device,\n",
        "                seed = 42):\n",
        "  torch.manual_seed(seed)\n",
        "  torch.cuda.manual_seed(seed)\n",
        "  model.to(device)\n",
        "  model.train()\n",
        "  for epoch in range(epochs):\n",
        "      print(f'epoch {epoch+1}')\n",
        "      train_loss = 0\n",
        "      for i, (X, y) in enumerate(trainloader):\n",
        "          X, y = X.to(device), y.to(device)\n",
        "          y_logits = model(X)\n",
        "          loss = loss_fn(y_logits, y)\n",
        "          train_loss += loss\n",
        "          optimizer.zero_grad()\n",
        "          loss.backward()\n",
        "          optimizer.step()\n",
        "\n",
        "      train_loss /= len(trainloader)\n",
        "\n",
        "      test_loss, test_acc = 0, 0\n",
        "      model.eval()\n",
        "      with torch.inference_mode():\n",
        "        for X,y in testloader:\n",
        "          X, y = X.to(device), y.to(device)\n",
        "          y_logits = model(X)\n",
        "          loss = loss_fn(y_logits, y)\n",
        "          test_loss += loss\n",
        "          y_pred = torch.argmax(y_logits, dim = 1)\n",
        "          correct = torch.eq(y_pred, y).sum().item()\n",
        "          acc = correct / len(y_pred) * 100\n",
        "          test_acc += acc\n",
        "\n",
        "        test_loss /= len(testloader)\n",
        "        test_acc /= len(testloader)\n",
        "\n",
        "      print(f\"\\nTrain loss: {train_loss:.5f} | Test loss: {test_loss:.5f}, Test acc: {test_acc:.2f}%\\n\")\n",
        ""
      ]
    },
    {
      "cell_type": "markdown",
      "metadata": {
        "id": "WUyDXbSiJUhH"
      },
      "source": [
        "# Loss and Optimizer"
      ]
    },
    {
      "cell_type": "code",
      "execution_count": 10,
      "metadata": {
        "id": "NP32j6fCC6CK"
      },
      "outputs": [],
      "source": [
        "def initialize_lossfn_and_optimizer(model: torch.nn.Module):\n",
        "    loss_fn = torch.nn.CrossEntropyLoss()\n",
        "    optimizer = torch.optim.Adam(params = model.parameters(),\n",
        "                                 lr = 0.001)\n",
        "    return loss_fn, optimizer"
      ]
    },
    {
      "cell_type": "markdown",
      "metadata": {
        "id": "c8N_i-FrJUhH"
      },
      "source": [
        "# Simple CNN"
      ]
    },
    {
      "cell_type": "code",
      "execution_count": 11,
      "metadata": {
        "colab": {
          "base_uri": "https://localhost:8080/"
        },
        "id": "JrnJnzFRC6CK",
        "outputId": "44f580e0-9851-44b2-ee70-eb02be1981a0"
      },
      "outputs": [
        {
          "output_type": "stream",
          "name": "stdout",
          "text": [
            "[[ 0.02067235  0.02901347 -0.02579954 -0.04881421  0.02768324 -0.05796953\n",
            "   0.04800495 -0.01116066 -0.04456091  0.0135883 ]]\n"
          ]
        }
      ],
      "source": [
        "class CNN(nn.Module):\n",
        "  def __init__(self,\n",
        "               input_shape : int,\n",
        "               output_shape: int,\n",
        "               hidden_units: int):\n",
        "    super().__init__()\n",
        "    self.block1 = nn.Sequential(\n",
        "        nn.Conv2d(in_channels = input_shape,\n",
        "                  out_channels = hidden_units,\n",
        "                  kernel_size = 2,\n",
        "                  padding = 1,\n",
        "                  stride = 1),  # (B, hidden_units, [(input - kernel + 2padding) / stride + 1])\n",
        "        nn.ReLU(),\n",
        "        nn.Conv2d(in_channels = hidden_units,\n",
        "                  out_channels = hidden_units,\n",
        "                  kernel_size = 2,\n",
        "                  padding = 1,\n",
        "                  stride = 1),  # (B, hidden_units, [(input - kernel + 2padding) / stride + 1])\n",
        "        nn.ReLU(),\n",
        "        nn.MaxPool2d(kernel_size = 2,\n",
        "                     stride = 2)  # (B, hidden_units, [(input - kernel) / stride + 1])\n",
        "    )\n",
        "    self.block2 = nn.Sequential(\n",
        "        nn.Conv2d(in_channels = hidden_units,\n",
        "                  out_channels = hidden_units,\n",
        "                  kernel_size = 2,\n",
        "                  padding = 1,\n",
        "                  stride = 1),\n",
        "        nn.ReLU(),\n",
        "        nn.Conv2d(in_channels = hidden_units,\n",
        "                  out_channels = hidden_units,\n",
        "                  kernel_size = 2,\n",
        "                  padding = 1,\n",
        "                  stride = 1),\n",
        "        nn.ReLU(),\n",
        "        nn.MaxPool2d(kernel_size = 2,\n",
        "                     stride = 2)\n",
        "    )\n",
        "    self.classifier = nn.Sequential(\n",
        "        nn.Flatten(),\n",
        "        nn.Linear(in_features = 10*9*9,\n",
        "                  out_features = output_shape)\n",
        "    )\n",
        "  def forward(self, x):\n",
        "    return self.classifier(self.block2(self.block1(x)))\n",
        "\n",
        "cnn = CNN(3, 10, 10).to(device)\n",
        "# cnn = torch.compile(cnn)\n",
        "dummy_tensor = torch.rand(size=(3,32,32))\n",
        "y_logits = cnn(dummy_tensor.unsqueeze(dim = 0).to(device))\n",
        "print(y_logits.detach().cpu().numpy())"
      ]
    },
    {
      "cell_type": "code",
      "execution_count": 12,
      "metadata": {
        "colab": {
          "base_uri": "https://localhost:8080/"
        },
        "id": "O6-LgfC6C6CK",
        "outputId": "887cfb2c-ad66-4c1c-a6b1-2bfc1e3d3e9f"
      },
      "outputs": [
        {
          "output_type": "stream",
          "name": "stdout",
          "text": [
            "epoch 1\n",
            "\n",
            "Train loss: 1.62283 | Test loss: 1.37757, Test acc: 50.72%\n",
            "\n",
            "epoch 2\n",
            "\n",
            "Train loss: 1.33707 | Test loss: 1.31233, Test acc: 52.93%\n",
            "\n",
            "epoch 3\n",
            "\n",
            "Train loss: 1.24382 | Test loss: 1.23204, Test acc: 55.57%\n",
            "\n"
          ]
        }
      ],
      "source": [
        "simple_cnn_loss_fn, simple_cnn_optimizer = initialize_lossfn_and_optimizer(model = cnn)\n",
        "\n",
        "train_model(trainloader = simple_cnn_train_dataloader,\n",
        "            testloader = simple_cnn_test_dataloader,\n",
        "            model= cnn,\n",
        "            loss_fn = simple_cnn_loss_fn,\n",
        "            optimizer= simple_cnn_optimizer,\n",
        "            epochs= 3,\n",
        "            device= device,\n",
        "            seed = 42)"
      ]
    },
    {
      "cell_type": "markdown",
      "metadata": {
        "id": "cmIA2p-ZJUhH"
      },
      "source": [
        "# Pretrained models"
      ]
    },
    {
      "cell_type": "code",
      "execution_count": 13,
      "metadata": {
        "colab": {
          "base_uri": "https://localhost:8080/"
        },
        "id": "dMZnHVTgDpnM",
        "outputId": "678665b1-aced-46da-925d-9a98792f4cb9"
      },
      "outputs": [
        {
          "output_type": "stream",
          "name": "stdout",
          "text": [
            "Collecting torchinfo\n",
            "  Downloading torchinfo-1.8.0-py3-none-any.whl.metadata (21 kB)\n",
            "Downloading torchinfo-1.8.0-py3-none-any.whl (23 kB)\n",
            "Installing collected packages: torchinfo\n",
            "Successfully installed torchinfo-1.8.0\n"
          ]
        }
      ],
      "source": [
        "try:\n",
        "  from torchinfo import summary # type: ignore\n",
        "except:\n",
        "  !pip install torchinfo\n",
        "  from torchinfo import summary # type: ignore"
      ]
    },
    {
      "cell_type": "code",
      "execution_count": 14,
      "metadata": {
        "id": "ROrXetbZC6CK"
      },
      "outputs": [],
      "source": [
        "def summarize_model(model):\n",
        "    model_summary = summary(model= model,\n",
        "            input_size= (1,3,224,224),\n",
        "            col_names=['input_size', 'output_size','num_params','trainable'],\n",
        "            col_width= 20,\n",
        "            verbose= 0,\n",
        "            row_settings= ['var_names'])\n",
        "\n",
        "    print(model_summary)"
      ]
    },
    {
      "cell_type": "markdown",
      "metadata": {
        "id": "QBsv9dePJUhI"
      },
      "source": [
        "## 1. AlexNet"
      ]
    },
    {
      "cell_type": "code",
      "execution_count": 15,
      "metadata": {
        "id": "pjOP5VirJUhI"
      },
      "outputs": [],
      "source": [
        "def create_model(name: str, version: str = 'DEFAULT', class_names=None):\n",
        "    # Get the weight class from the weight_name\n",
        "    weights_class = getattr(torchvision.models, name + '_Weights', None)\n",
        "    if weights_class is None:\n",
        "        raise ValueError(f\"Weight '{name}_Weights' is invalid or does not exist.\")\n",
        "\n",
        "    # Get the specific version of the weight (e.g., DEFAULT, IMAGENET1K_V1)\n",
        "    weights = getattr(weights_class, version, None)\n",
        "    if weights is None:\n",
        "        raise ValueError(f\"Version '{version}' is not available for '{name}_Weights'.\")\n",
        "\n",
        "    # Get the model class from the model_name string\n",
        "    model_class = getattr(torchvision.models, name.lower(), None)\n",
        "    if model_class is None:\n",
        "        raise ValueError(f\"Model '{name.lower()}' is invalid or does not exist.\")\n",
        "\n",
        "    # Initialize the model with the specified weights\n",
        "    model = model_class(weights=weights)\n",
        "\n",
        "    # Get the transform associated with the weights\n",
        "    transform = weights.transforms()\n",
        "\n",
        "    # Freeze all parameters to prevent them from being trained\n",
        "    for param in model.parameters():\n",
        "        param.requires_grad = False\n",
        "\n",
        "    # Step to find the last layer (output layer)\n",
        "    def find_last_layer(model):\n",
        "        # Traverse through all named children in reverse order to find the last layer\n",
        "        *_, last_name, last_layer = list(model.named_children())[-1]\n",
        "        return last_name, last_layer\n",
        "\n",
        "    # Find the last layer of the model\n",
        "    last_name, last_layer = find_last_layer(model)\n",
        "\n",
        "    # Replace the output layer's number of classes\n",
        "    if isinstance(last_layer, nn.Sequential):\n",
        "        in_features = last_layer[-1].in_features\n",
        "        new_layer = nn.Linear(in_features, len(class_names)) # Replace the last layer in the model\n",
        "        last_layer[-1] = new_layer\n",
        "        setattr(model, last_name, last_layer)\n",
        "    else:\n",
        "        in_features = last_layer.in_features\n",
        "        new_layer = nn.Linear(in_features, len(class_names))\n",
        "        setattr(model, last_name, new_layer)  # Replace the last layer in the model\n",
        "\n",
        "    return model, transform\n"
      ]
    },
    {
      "cell_type": "code",
      "execution_count": 16,
      "metadata": {
        "colab": {
          "base_uri": "https://localhost:8080/"
        },
        "id": "UfYqVTR-JUhI",
        "outputId": "4958bf74-c48d-46d7-8e05-163e0e6ee3e2"
      },
      "outputs": [
        {
          "output_type": "stream",
          "name": "stderr",
          "text": [
            "Downloading: \"https://download.pytorch.org/models/alexnet-owt-7be5be79.pth\" to /root/.cache/torch/hub/checkpoints/alexnet-owt-7be5be79.pth\n",
            "100%|██████████| 233M/233M [00:03<00:00, 74.1MB/s]\n"
          ]
        }
      ],
      "source": [
        "alexnet, alexnet_transform = create_model(\n",
        "    name=\"AlexNet\",\n",
        "    class_names=class_names\n",
        ")"
      ]
    },
    {
      "cell_type": "code",
      "execution_count": 17,
      "metadata": {
        "colab": {
          "base_uri": "https://localhost:8080/"
        },
        "id": "kVR7egluJUhI",
        "outputId": "47411a66-bee6-467f-a25a-6e57bebf8386"
      },
      "outputs": [
        {
          "output_type": "stream",
          "name": "stdout",
          "text": [
            "========================================================================================================================\n",
            "Layer (type (var_name))                  Input Shape          Output Shape         Param #              Trainable\n",
            "========================================================================================================================\n",
            "AlexNet (AlexNet)                        [1, 3, 224, 224]     [1, 10]              --                   Partial\n",
            "├─Sequential (features)                  [1, 3, 224, 224]     [1, 256, 6, 6]       --                   False\n",
            "│    └─Conv2d (0)                        [1, 3, 224, 224]     [1, 64, 55, 55]      (23,296)             False\n",
            "│    └─ReLU (1)                          [1, 64, 55, 55]      [1, 64, 55, 55]      --                   --\n",
            "│    └─MaxPool2d (2)                     [1, 64, 55, 55]      [1, 64, 27, 27]      --                   --\n",
            "│    └─Conv2d (3)                        [1, 64, 27, 27]      [1, 192, 27, 27]     (307,392)            False\n",
            "│    └─ReLU (4)                          [1, 192, 27, 27]     [1, 192, 27, 27]     --                   --\n",
            "│    └─MaxPool2d (5)                     [1, 192, 27, 27]     [1, 192, 13, 13]     --                   --\n",
            "│    └─Conv2d (6)                        [1, 192, 13, 13]     [1, 384, 13, 13]     (663,936)            False\n",
            "│    └─ReLU (7)                          [1, 384, 13, 13]     [1, 384, 13, 13]     --                   --\n",
            "│    └─Conv2d (8)                        [1, 384, 13, 13]     [1, 256, 13, 13]     (884,992)            False\n",
            "│    └─ReLU (9)                          [1, 256, 13, 13]     [1, 256, 13, 13]     --                   --\n",
            "│    └─Conv2d (10)                       [1, 256, 13, 13]     [1, 256, 13, 13]     (590,080)            False\n",
            "│    └─ReLU (11)                         [1, 256, 13, 13]     [1, 256, 13, 13]     --                   --\n",
            "│    └─MaxPool2d (12)                    [1, 256, 13, 13]     [1, 256, 6, 6]       --                   --\n",
            "├─AdaptiveAvgPool2d (avgpool)            [1, 256, 6, 6]       [1, 256, 6, 6]       --                   --\n",
            "├─Sequential (classifier)                [1, 9216]            [1, 10]              --                   Partial\n",
            "│    └─Dropout (0)                       [1, 9216]            [1, 9216]            --                   --\n",
            "│    └─Linear (1)                        [1, 9216]            [1, 4096]            (37,752,832)         False\n",
            "│    └─ReLU (2)                          [1, 4096]            [1, 4096]            --                   --\n",
            "│    └─Dropout (3)                       [1, 4096]            [1, 4096]            --                   --\n",
            "│    └─Linear (4)                        [1, 4096]            [1, 4096]            (16,781,312)         False\n",
            "│    └─ReLU (5)                          [1, 4096]            [1, 4096]            --                   --\n",
            "│    └─Linear (6)                        [1, 4096]            [1, 10]              40,970               True\n",
            "========================================================================================================================\n",
            "Total params: 57,044,810\n",
            "Trainable params: 40,970\n",
            "Non-trainable params: 57,003,840\n",
            "Total mult-adds (M): 710.63\n",
            "========================================================================================================================\n",
            "Input size (MB): 0.60\n",
            "Forward/backward pass size (MB): 3.95\n",
            "Params size (MB): 228.18\n",
            "Estimated Total Size (MB): 232.73\n",
            "========================================================================================================================\n"
          ]
        }
      ],
      "source": [
        "summarize_model(alexnet)"
      ]
    },
    {
      "cell_type": "code",
      "execution_count": 18,
      "metadata": {
        "colab": {
          "base_uri": "https://localhost:8080/"
        },
        "id": "S6NuByFuIzJy",
        "outputId": "3e82ea75-5da7-41b1-c3af-e29be3c63cc2"
      },
      "outputs": [
        {
          "output_type": "stream",
          "name": "stdout",
          "text": [
            "Files already downloaded and verified\n",
            "Files already downloaded and verified\n"
          ]
        }
      ],
      "source": [
        "alexnet_traindataloader, alexnet_testdataloader = get_dataloader(transform= alexnet_transform,\n",
        "                                                                    batch_size= 32,\n",
        "                                                                    num_workers= num_workers)"
      ]
    },
    {
      "cell_type": "code",
      "execution_count": 19,
      "metadata": {
        "id": "mWEIX_hfJYU2"
      },
      "outputs": [],
      "source": [
        "alexnet_lossfn, alexnet_optimizer = initialize_lossfn_and_optimizer(model=alexnet)"
      ]
    },
    {
      "cell_type": "code",
      "execution_count": 20,
      "metadata": {
        "colab": {
          "base_uri": "https://localhost:8080/"
        },
        "id": "mJ2d8ClBJ9iT",
        "outputId": "7b80d887-48f7-4729-c533-79291d6e89f8"
      },
      "outputs": [
        {
          "output_type": "stream",
          "name": "stdout",
          "text": [
            "epoch 1\n",
            "\n",
            "Train loss: 0.78259 | Test loss: 0.58667, Test acc: 79.42%\n",
            "\n",
            "epoch 2\n",
            "\n",
            "Train loss: 0.52057 | Test loss: 0.58272, Test acc: 80.75%\n",
            "\n",
            "epoch 3\n",
            "\n",
            "Train loss: 0.45959 | Test loss: 0.53615, Test acc: 82.49%\n",
            "\n",
            "epoch 4\n",
            "\n",
            "Train loss: 0.41599 | Test loss: 0.57687, Test acc: 81.39%\n",
            "\n",
            "epoch 5\n",
            "\n",
            "Train loss: 0.38034 | Test loss: 0.60705, Test acc: 81.18%\n",
            "\n"
          ]
        }
      ],
      "source": [
        "train_model(trainloader = alexnet_traindataloader,\n",
        "            testloader = alexnet_testdataloader,\n",
        "            model= alexnet,\n",
        "            loss_fn = alexnet_lossfn,\n",
        "            optimizer= alexnet_optimizer,\n",
        "            epochs= 5,\n",
        "            device= device,\n",
        "            seed = 42)"
      ]
    },
    {
      "cell_type": "markdown",
      "metadata": {
        "id": "-9MY8Y-ZJUhI"
      },
      "source": [
        "## 2. VGGNet"
      ]
    },
    {
      "cell_type": "code",
      "execution_count": 21,
      "metadata": {
        "colab": {
          "base_uri": "https://localhost:8080/"
        },
        "id": "aRxbJCDdv0p5",
        "outputId": "bd948d38-8a7f-491f-8ead-4d95f34e619b"
      },
      "outputs": [
        {
          "output_type": "stream",
          "name": "stderr",
          "text": [
            "Downloading: \"https://download.pytorch.org/models/vgg11-8a719046.pth\" to /root/.cache/torch/hub/checkpoints/vgg11-8a719046.pth\n",
            "100%|██████████| 507M/507M [00:04<00:00, 117MB/s] \n"
          ]
        }
      ],
      "source": [
        "vgg, vgg_transform = create_model(\n",
        "    name='VGG11',\n",
        "    class_names=class_names\n",
        ")"
      ]
    },
    {
      "cell_type": "code",
      "execution_count": 22,
      "metadata": {
        "colab": {
          "base_uri": "https://localhost:8080/"
        },
        "id": "lIemoNKFv6ov",
        "outputId": "27bdbcd6-8556-4005-9ab4-3b7ae476aed2"
      },
      "outputs": [
        {
          "output_type": "stream",
          "name": "stdout",
          "text": [
            "========================================================================================================================\n",
            "Layer (type (var_name))                  Input Shape          Output Shape         Param #              Trainable\n",
            "========================================================================================================================\n",
            "VGG (VGG)                                [1, 3, 224, 224]     [1, 10]              --                   Partial\n",
            "├─Sequential (features)                  [1, 3, 224, 224]     [1, 512, 7, 7]       --                   False\n",
            "│    └─Conv2d (0)                        [1, 3, 224, 224]     [1, 64, 224, 224]    (1,792)              False\n",
            "│    └─ReLU (1)                          [1, 64, 224, 224]    [1, 64, 224, 224]    --                   --\n",
            "│    └─MaxPool2d (2)                     [1, 64, 224, 224]    [1, 64, 112, 112]    --                   --\n",
            "│    └─Conv2d (3)                        [1, 64, 112, 112]    [1, 128, 112, 112]   (73,856)             False\n",
            "│    └─ReLU (4)                          [1, 128, 112, 112]   [1, 128, 112, 112]   --                   --\n",
            "│    └─MaxPool2d (5)                     [1, 128, 112, 112]   [1, 128, 56, 56]     --                   --\n",
            "│    └─Conv2d (6)                        [1, 128, 56, 56]     [1, 256, 56, 56]     (295,168)            False\n",
            "│    └─ReLU (7)                          [1, 256, 56, 56]     [1, 256, 56, 56]     --                   --\n",
            "│    └─Conv2d (8)                        [1, 256, 56, 56]     [1, 256, 56, 56]     (590,080)            False\n",
            "│    └─ReLU (9)                          [1, 256, 56, 56]     [1, 256, 56, 56]     --                   --\n",
            "│    └─MaxPool2d (10)                    [1, 256, 56, 56]     [1, 256, 28, 28]     --                   --\n",
            "│    └─Conv2d (11)                       [1, 256, 28, 28]     [1, 512, 28, 28]     (1,180,160)          False\n",
            "│    └─ReLU (12)                         [1, 512, 28, 28]     [1, 512, 28, 28]     --                   --\n",
            "│    └─Conv2d (13)                       [1, 512, 28, 28]     [1, 512, 28, 28]     (2,359,808)          False\n",
            "│    └─ReLU (14)                         [1, 512, 28, 28]     [1, 512, 28, 28]     --                   --\n",
            "│    └─MaxPool2d (15)                    [1, 512, 28, 28]     [1, 512, 14, 14]     --                   --\n",
            "│    └─Conv2d (16)                       [1, 512, 14, 14]     [1, 512, 14, 14]     (2,359,808)          False\n",
            "│    └─ReLU (17)                         [1, 512, 14, 14]     [1, 512, 14, 14]     --                   --\n",
            "│    └─Conv2d (18)                       [1, 512, 14, 14]     [1, 512, 14, 14]     (2,359,808)          False\n",
            "│    └─ReLU (19)                         [1, 512, 14, 14]     [1, 512, 14, 14]     --                   --\n",
            "│    └─MaxPool2d (20)                    [1, 512, 14, 14]     [1, 512, 7, 7]       --                   --\n",
            "├─AdaptiveAvgPool2d (avgpool)            [1, 512, 7, 7]       [1, 512, 7, 7]       --                   --\n",
            "├─Sequential (classifier)                [1, 25088]           [1, 10]              --                   Partial\n",
            "│    └─Linear (0)                        [1, 25088]           [1, 4096]            (102,764,544)        False\n",
            "│    └─ReLU (1)                          [1, 4096]            [1, 4096]            --                   --\n",
            "│    └─Dropout (2)                       [1, 4096]            [1, 4096]            --                   --\n",
            "│    └─Linear (3)                        [1, 4096]            [1, 4096]            (16,781,312)         False\n",
            "│    └─ReLU (4)                          [1, 4096]            [1, 4096]            --                   --\n",
            "│    └─Dropout (5)                       [1, 4096]            [1, 4096]            --                   --\n",
            "│    └─Linear (6)                        [1, 4096]            [1, 10]              40,970               True\n",
            "========================================================================================================================\n",
            "Total params: 128,807,306\n",
            "Trainable params: 40,970\n",
            "Non-trainable params: 128,766,336\n",
            "Total mult-adds (G): 7.61\n",
            "========================================================================================================================\n",
            "Input size (MB): 0.60\n",
            "Forward/backward pass size (MB): 59.47\n",
            "Params size (MB): 515.23\n",
            "Estimated Total Size (MB): 575.31\n",
            "========================================================================================================================\n"
          ]
        }
      ],
      "source": [
        "summarize_model(vgg)"
      ]
    },
    {
      "cell_type": "code",
      "execution_count": 23,
      "metadata": {
        "colab": {
          "base_uri": "https://localhost:8080/"
        },
        "id": "BmmBplBowZz7",
        "outputId": "c36ae78a-ca5f-46f9-a639-803288c5cd55"
      },
      "outputs": [
        {
          "output_type": "stream",
          "name": "stdout",
          "text": [
            "Files already downloaded and verified\n",
            "Files already downloaded and verified\n"
          ]
        }
      ],
      "source": [
        "vgg_traindataloader, vgg_testdataloader = get_dataloader(transform = vgg_transform,\n",
        "                                                         batch_size = 32,\n",
        "                                                         num_workers = num_workers)"
      ]
    },
    {
      "cell_type": "code",
      "execution_count": 24,
      "metadata": {
        "colab": {
          "base_uri": "https://localhost:8080/"
        },
        "id": "184PeBC_wC6p",
        "outputId": "10bd01a8-8776-4346-b82f-b96bb947cf8b"
      },
      "outputs": [
        {
          "output_type": "stream",
          "name": "stdout",
          "text": [
            "epoch 1\n",
            "\n",
            "Train loss: 0.75264 | Test loss: 0.54682, Test acc: 80.76%\n",
            "\n",
            "epoch 2\n",
            "\n",
            "Train loss: 0.48207 | Test loss: 0.49339, Test acc: 82.81%\n",
            "\n",
            "epoch 3\n",
            "\n",
            "Train loss: 0.42675 | Test loss: 0.50046, Test acc: 82.78%\n",
            "\n",
            "epoch 4\n",
            "\n",
            "Train loss: 0.38028 | Test loss: 0.48962, Test acc: 83.47%\n",
            "\n",
            "epoch 5\n",
            "\n",
            "Train loss: 0.34388 | Test loss: 0.50550, Test acc: 83.11%\n",
            "\n"
          ]
        }
      ],
      "source": [
        "vgg_loss_fn, vgg_optimizer = initialize_lossfn_and_optimizer(vgg)\n",
        "\n",
        "train_model(trainloader = vgg_traindataloader,\n",
        "            testloader = vgg_testdataloader,\n",
        "            model= vgg,\n",
        "            loss_fn = vgg_loss_fn,\n",
        "            optimizer= vgg_optimizer,\n",
        "            epochs= 5,\n",
        "            device= device,\n",
        "            seed = 42)"
      ]
    },
    {
      "cell_type": "markdown",
      "metadata": {
        "id": "YyCFRLnnJUhJ"
      },
      "source": [
        "## 3. GoogLeNet"
      ]
    },
    {
      "cell_type": "code",
      "execution_count": 25,
      "metadata": {
        "colab": {
          "base_uri": "https://localhost:8080/"
        },
        "id": "BZp3DHQj2JPV",
        "outputId": "37b549a5-d223-4601-d272-2fac5aafd188"
      },
      "outputs": [
        {
          "output_type": "stream",
          "name": "stderr",
          "text": [
            "Downloading: \"https://download.pytorch.org/models/googlenet-1378be20.pth\" to /root/.cache/torch/hub/checkpoints/googlenet-1378be20.pth\n",
            "100%|██████████| 49.7M/49.7M [00:00<00:00, 93.2MB/s]\n"
          ]
        }
      ],
      "source": [
        "googlenet, googlenet_transform = create_model(name='GoogLeNet', class_names=class_names)"
      ]
    },
    {
      "cell_type": "code",
      "execution_count": 26,
      "metadata": {
        "colab": {
          "base_uri": "https://localhost:8080/"
        },
        "id": "GGbKNxaV2PGV",
        "outputId": "f669a302-bf83-4ed9-ad9c-5fc385763c3d"
      },
      "outputs": [
        {
          "output_type": "stream",
          "name": "stdout",
          "text": [
            "========================================================================================================================\n",
            "Layer (type (var_name))                  Input Shape          Output Shape         Param #              Trainable\n",
            "========================================================================================================================\n",
            "GoogLeNet (GoogLeNet)                    [1, 3, 224, 224]     [1, 10]              --                   Partial\n",
            "├─BasicConv2d (conv1)                    [1, 3, 224, 224]     [1, 64, 112, 112]    --                   False\n",
            "│    └─Conv2d (conv)                     [1, 3, 224, 224]     [1, 64, 112, 112]    (9,408)              False\n",
            "│    └─BatchNorm2d (bn)                  [1, 64, 112, 112]    [1, 64, 112, 112]    (128)                False\n",
            "├─MaxPool2d (maxpool1)                   [1, 64, 112, 112]    [1, 64, 56, 56]      --                   --\n",
            "├─BasicConv2d (conv2)                    [1, 64, 56, 56]      [1, 64, 56, 56]      --                   False\n",
            "│    └─Conv2d (conv)                     [1, 64, 56, 56]      [1, 64, 56, 56]      (4,096)              False\n",
            "│    └─BatchNorm2d (bn)                  [1, 64, 56, 56]      [1, 64, 56, 56]      (128)                False\n",
            "├─BasicConv2d (conv3)                    [1, 64, 56, 56]      [1, 192, 56, 56]     --                   False\n",
            "│    └─Conv2d (conv)                     [1, 64, 56, 56]      [1, 192, 56, 56]     (110,592)            False\n",
            "│    └─BatchNorm2d (bn)                  [1, 192, 56, 56]     [1, 192, 56, 56]     (384)                False\n",
            "├─MaxPool2d (maxpool2)                   [1, 192, 56, 56]     [1, 192, 28, 28]     --                   --\n",
            "├─Inception (inception3a)                [1, 192, 28, 28]     [1, 256, 28, 28]     --                   False\n",
            "│    └─BasicConv2d (branch1)             [1, 192, 28, 28]     [1, 64, 28, 28]      --                   False\n",
            "│    │    └─Conv2d (conv)                [1, 192, 28, 28]     [1, 64, 28, 28]      (12,288)             False\n",
            "│    │    └─BatchNorm2d (bn)             [1, 64, 28, 28]      [1, 64, 28, 28]      (128)                False\n",
            "│    └─Sequential (branch2)              [1, 192, 28, 28]     [1, 128, 28, 28]     --                   False\n",
            "│    │    └─BasicConv2d (0)              [1, 192, 28, 28]     [1, 96, 28, 28]      (18,624)             False\n",
            "│    │    └─BasicConv2d (1)              [1, 96, 28, 28]      [1, 128, 28, 28]     (110,848)            False\n",
            "│    └─Sequential (branch3)              [1, 192, 28, 28]     [1, 32, 28, 28]      --                   False\n",
            "│    │    └─BasicConv2d (0)              [1, 192, 28, 28]     [1, 16, 28, 28]      (3,104)              False\n",
            "│    │    └─BasicConv2d (1)              [1, 16, 28, 28]      [1, 32, 28, 28]      (4,672)              False\n",
            "│    └─Sequential (branch4)              [1, 192, 28, 28]     [1, 32, 28, 28]      --                   False\n",
            "│    │    └─MaxPool2d (0)                [1, 192, 28, 28]     [1, 192, 28, 28]     --                   --\n",
            "│    │    └─BasicConv2d (1)              [1, 192, 28, 28]     [1, 32, 28, 28]      (6,208)              False\n",
            "├─Inception (inception3b)                [1, 256, 28, 28]     [1, 480, 28, 28]     --                   False\n",
            "│    └─BasicConv2d (branch1)             [1, 256, 28, 28]     [1, 128, 28, 28]     --                   False\n",
            "│    │    └─Conv2d (conv)                [1, 256, 28, 28]     [1, 128, 28, 28]     (32,768)             False\n",
            "│    │    └─BatchNorm2d (bn)             [1, 128, 28, 28]     [1, 128, 28, 28]     (256)                False\n",
            "│    └─Sequential (branch2)              [1, 256, 28, 28]     [1, 192, 28, 28]     --                   False\n",
            "│    │    └─BasicConv2d (0)              [1, 256, 28, 28]     [1, 128, 28, 28]     (33,024)             False\n",
            "│    │    └─BasicConv2d (1)              [1, 128, 28, 28]     [1, 192, 28, 28]     (221,568)            False\n",
            "│    └─Sequential (branch3)              [1, 256, 28, 28]     [1, 96, 28, 28]      --                   False\n",
            "│    │    └─BasicConv2d (0)              [1, 256, 28, 28]     [1, 32, 28, 28]      (8,256)              False\n",
            "│    │    └─BasicConv2d (1)              [1, 32, 28, 28]      [1, 96, 28, 28]      (27,840)             False\n",
            "│    └─Sequential (branch4)              [1, 256, 28, 28]     [1, 64, 28, 28]      --                   False\n",
            "│    │    └─MaxPool2d (0)                [1, 256, 28, 28]     [1, 256, 28, 28]     --                   --\n",
            "│    │    └─BasicConv2d (1)              [1, 256, 28, 28]     [1, 64, 28, 28]      (16,512)             False\n",
            "├─MaxPool2d (maxpool3)                   [1, 480, 28, 28]     [1, 480, 14, 14]     --                   --\n",
            "├─Inception (inception4a)                [1, 480, 14, 14]     [1, 512, 14, 14]     --                   False\n",
            "│    └─BasicConv2d (branch1)             [1, 480, 14, 14]     [1, 192, 14, 14]     --                   False\n",
            "│    │    └─Conv2d (conv)                [1, 480, 14, 14]     [1, 192, 14, 14]     (92,160)             False\n",
            "│    │    └─BatchNorm2d (bn)             [1, 192, 14, 14]     [1, 192, 14, 14]     (384)                False\n",
            "│    └─Sequential (branch2)              [1, 480, 14, 14]     [1, 208, 14, 14]     --                   False\n",
            "│    │    └─BasicConv2d (0)              [1, 480, 14, 14]     [1, 96, 14, 14]      (46,272)             False\n",
            "│    │    └─BasicConv2d (1)              [1, 96, 14, 14]      [1, 208, 14, 14]     (180,128)            False\n",
            "│    └─Sequential (branch3)              [1, 480, 14, 14]     [1, 48, 14, 14]      --                   False\n",
            "│    │    └─BasicConv2d (0)              [1, 480, 14, 14]     [1, 16, 14, 14]      (7,712)              False\n",
            "│    │    └─BasicConv2d (1)              [1, 16, 14, 14]      [1, 48, 14, 14]      (7,008)              False\n",
            "│    └─Sequential (branch4)              [1, 480, 14, 14]     [1, 64, 14, 14]      --                   False\n",
            "│    │    └─MaxPool2d (0)                [1, 480, 14, 14]     [1, 480, 14, 14]     --                   --\n",
            "│    │    └─BasicConv2d (1)              [1, 480, 14, 14]     [1, 64, 14, 14]      (30,848)             False\n",
            "├─Inception (inception4b)                [1, 512, 14, 14]     [1, 512, 14, 14]     --                   False\n",
            "│    └─BasicConv2d (branch1)             [1, 512, 14, 14]     [1, 160, 14, 14]     --                   False\n",
            "│    │    └─Conv2d (conv)                [1, 512, 14, 14]     [1, 160, 14, 14]     (81,920)             False\n",
            "│    │    └─BatchNorm2d (bn)             [1, 160, 14, 14]     [1, 160, 14, 14]     (320)                False\n",
            "│    └─Sequential (branch2)              [1, 512, 14, 14]     [1, 224, 14, 14]     --                   False\n",
            "│    │    └─BasicConv2d (0)              [1, 512, 14, 14]     [1, 112, 14, 14]     (57,568)             False\n",
            "│    │    └─BasicConv2d (1)              [1, 112, 14, 14]     [1, 224, 14, 14]     (226,240)            False\n",
            "│    └─Sequential (branch3)              [1, 512, 14, 14]     [1, 64, 14, 14]      --                   False\n",
            "│    │    └─BasicConv2d (0)              [1, 512, 14, 14]     [1, 24, 14, 14]      (12,336)             False\n",
            "│    │    └─BasicConv2d (1)              [1, 24, 14, 14]      [1, 64, 14, 14]      (13,952)             False\n",
            "│    └─Sequential (branch4)              [1, 512, 14, 14]     [1, 64, 14, 14]      --                   False\n",
            "│    │    └─MaxPool2d (0)                [1, 512, 14, 14]     [1, 512, 14, 14]     --                   --\n",
            "│    │    └─BasicConv2d (1)              [1, 512, 14, 14]     [1, 64, 14, 14]      (32,896)             False\n",
            "├─Inception (inception4c)                [1, 512, 14, 14]     [1, 512, 14, 14]     --                   False\n",
            "│    └─BasicConv2d (branch1)             [1, 512, 14, 14]     [1, 128, 14, 14]     --                   False\n",
            "│    │    └─Conv2d (conv)                [1, 512, 14, 14]     [1, 128, 14, 14]     (65,536)             False\n",
            "│    │    └─BatchNorm2d (bn)             [1, 128, 14, 14]     [1, 128, 14, 14]     (256)                False\n",
            "│    └─Sequential (branch2)              [1, 512, 14, 14]     [1, 256, 14, 14]     --                   False\n",
            "│    │    └─BasicConv2d (0)              [1, 512, 14, 14]     [1, 128, 14, 14]     (65,792)             False\n",
            "│    │    └─BasicConv2d (1)              [1, 128, 14, 14]     [1, 256, 14, 14]     (295,424)            False\n",
            "│    └─Sequential (branch3)              [1, 512, 14, 14]     [1, 64, 14, 14]      --                   False\n",
            "│    │    └─BasicConv2d (0)              [1, 512, 14, 14]     [1, 24, 14, 14]      (12,336)             False\n",
            "│    │    └─BasicConv2d (1)              [1, 24, 14, 14]      [1, 64, 14, 14]      (13,952)             False\n",
            "│    └─Sequential (branch4)              [1, 512, 14, 14]     [1, 64, 14, 14]      --                   False\n",
            "│    │    └─MaxPool2d (0)                [1, 512, 14, 14]     [1, 512, 14, 14]     --                   --\n",
            "│    │    └─BasicConv2d (1)              [1, 512, 14, 14]     [1, 64, 14, 14]      (32,896)             False\n",
            "├─Inception (inception4d)                [1, 512, 14, 14]     [1, 528, 14, 14]     --                   False\n",
            "│    └─BasicConv2d (branch1)             [1, 512, 14, 14]     [1, 112, 14, 14]     --                   False\n",
            "│    │    └─Conv2d (conv)                [1, 512, 14, 14]     [1, 112, 14, 14]     (57,344)             False\n",
            "│    │    └─BatchNorm2d (bn)             [1, 112, 14, 14]     [1, 112, 14, 14]     (224)                False\n",
            "│    └─Sequential (branch2)              [1, 512, 14, 14]     [1, 288, 14, 14]     --                   False\n",
            "│    │    └─BasicConv2d (0)              [1, 512, 14, 14]     [1, 144, 14, 14]     (74,016)             False\n",
            "│    │    └─BasicConv2d (1)              [1, 144, 14, 14]     [1, 288, 14, 14]     (373,824)            False\n",
            "│    └─Sequential (branch3)              [1, 512, 14, 14]     [1, 64, 14, 14]      --                   False\n",
            "│    │    └─BasicConv2d (0)              [1, 512, 14, 14]     [1, 32, 14, 14]      (16,448)             False\n",
            "│    │    └─BasicConv2d (1)              [1, 32, 14, 14]      [1, 64, 14, 14]      (18,560)             False\n",
            "│    └─Sequential (branch4)              [1, 512, 14, 14]     [1, 64, 14, 14]      --                   False\n",
            "│    │    └─MaxPool2d (0)                [1, 512, 14, 14]     [1, 512, 14, 14]     --                   --\n",
            "│    │    └─BasicConv2d (1)              [1, 512, 14, 14]     [1, 64, 14, 14]      (32,896)             False\n",
            "├─Inception (inception4e)                [1, 528, 14, 14]     [1, 832, 14, 14]     --                   False\n",
            "│    └─BasicConv2d (branch1)             [1, 528, 14, 14]     [1, 256, 14, 14]     --                   False\n",
            "│    │    └─Conv2d (conv)                [1, 528, 14, 14]     [1, 256, 14, 14]     (135,168)            False\n",
            "│    │    └─BatchNorm2d (bn)             [1, 256, 14, 14]     [1, 256, 14, 14]     (512)                False\n",
            "│    └─Sequential (branch2)              [1, 528, 14, 14]     [1, 320, 14, 14]     --                   False\n",
            "│    │    └─BasicConv2d (0)              [1, 528, 14, 14]     [1, 160, 14, 14]     (84,800)             False\n",
            "│    │    └─BasicConv2d (1)              [1, 160, 14, 14]     [1, 320, 14, 14]     (461,440)            False\n",
            "│    └─Sequential (branch3)              [1, 528, 14, 14]     [1, 128, 14, 14]     --                   False\n",
            "│    │    └─BasicConv2d (0)              [1, 528, 14, 14]     [1, 32, 14, 14]      (16,960)             False\n",
            "│    │    └─BasicConv2d (1)              [1, 32, 14, 14]      [1, 128, 14, 14]     (37,120)             False\n",
            "│    └─Sequential (branch4)              [1, 528, 14, 14]     [1, 128, 14, 14]     --                   False\n",
            "│    │    └─MaxPool2d (0)                [1, 528, 14, 14]     [1, 528, 14, 14]     --                   --\n",
            "│    │    └─BasicConv2d (1)              [1, 528, 14, 14]     [1, 128, 14, 14]     (67,840)             False\n",
            "├─MaxPool2d (maxpool4)                   [1, 832, 14, 14]     [1, 832, 7, 7]       --                   --\n",
            "├─Inception (inception5a)                [1, 832, 7, 7]       [1, 832, 7, 7]       --                   False\n",
            "│    └─BasicConv2d (branch1)             [1, 832, 7, 7]       [1, 256, 7, 7]       --                   False\n",
            "│    │    └─Conv2d (conv)                [1, 832, 7, 7]       [1, 256, 7, 7]       (212,992)            False\n",
            "│    │    └─BatchNorm2d (bn)             [1, 256, 7, 7]       [1, 256, 7, 7]       (512)                False\n",
            "│    └─Sequential (branch2)              [1, 832, 7, 7]       [1, 320, 7, 7]       --                   False\n",
            "│    │    └─BasicConv2d (0)              [1, 832, 7, 7]       [1, 160, 7, 7]       (133,440)            False\n",
            "│    │    └─BasicConv2d (1)              [1, 160, 7, 7]       [1, 320, 7, 7]       (461,440)            False\n",
            "│    └─Sequential (branch3)              [1, 832, 7, 7]       [1, 128, 7, 7]       --                   False\n",
            "│    │    └─BasicConv2d (0)              [1, 832, 7, 7]       [1, 32, 7, 7]        (26,688)             False\n",
            "│    │    └─BasicConv2d (1)              [1, 32, 7, 7]        [1, 128, 7, 7]       (37,120)             False\n",
            "│    └─Sequential (branch4)              [1, 832, 7, 7]       [1, 128, 7, 7]       --                   False\n",
            "│    │    └─MaxPool2d (0)                [1, 832, 7, 7]       [1, 832, 7, 7]       --                   --\n",
            "│    │    └─BasicConv2d (1)              [1, 832, 7, 7]       [1, 128, 7, 7]       (106,752)            False\n",
            "├─Inception (inception5b)                [1, 832, 7, 7]       [1, 1024, 7, 7]      --                   False\n",
            "│    └─BasicConv2d (branch1)             [1, 832, 7, 7]       [1, 384, 7, 7]       --                   False\n",
            "│    │    └─Conv2d (conv)                [1, 832, 7, 7]       [1, 384, 7, 7]       (319,488)            False\n",
            "│    │    └─BatchNorm2d (bn)             [1, 384, 7, 7]       [1, 384, 7, 7]       (768)                False\n",
            "│    └─Sequential (branch2)              [1, 832, 7, 7]       [1, 384, 7, 7]       --                   False\n",
            "│    │    └─BasicConv2d (0)              [1, 832, 7, 7]       [1, 192, 7, 7]       (160,128)            False\n",
            "│    │    └─BasicConv2d (1)              [1, 192, 7, 7]       [1, 384, 7, 7]       (664,320)            False\n",
            "│    └─Sequential (branch3)              [1, 832, 7, 7]       [1, 128, 7, 7]       --                   False\n",
            "│    │    └─BasicConv2d (0)              [1, 832, 7, 7]       [1, 48, 7, 7]        (40,032)             False\n",
            "│    │    └─BasicConv2d (1)              [1, 48, 7, 7]        [1, 128, 7, 7]       (55,552)             False\n",
            "│    └─Sequential (branch4)              [1, 832, 7, 7]       [1, 128, 7, 7]       --                   False\n",
            "│    │    └─MaxPool2d (0)                [1, 832, 7, 7]       [1, 832, 7, 7]       --                   --\n",
            "│    │    └─BasicConv2d (1)              [1, 832, 7, 7]       [1, 128, 7, 7]       (106,752)            False\n",
            "├─AdaptiveAvgPool2d (avgpool)            [1, 1024, 7, 7]      [1, 1024, 1, 1]      --                   --\n",
            "├─Dropout (dropout)                      [1, 1024]            [1, 1024]            --                   --\n",
            "├─Linear (fc)                            [1, 1024]            [1, 10]              10,250               True\n",
            "========================================================================================================================\n",
            "Total params: 5,610,154\n",
            "Trainable params: 10,250\n",
            "Non-trainable params: 5,599,904\n",
            "Total mult-adds (G): 1.50\n",
            "========================================================================================================================\n",
            "Input size (MB): 0.60\n",
            "Forward/backward pass size (MB): 51.62\n",
            "Params size (MB): 22.44\n",
            "Estimated Total Size (MB): 74.66\n",
            "========================================================================================================================\n"
          ]
        }
      ],
      "source": [
        "summarize_model(googlenet)"
      ]
    },
    {
      "cell_type": "code",
      "execution_count": 27,
      "metadata": {
        "colab": {
          "base_uri": "https://localhost:8080/"
        },
        "id": "DnIMBKY52SXz",
        "outputId": "9b365e84-83c7-444c-ca7c-5e5c9509549c"
      },
      "outputs": [
        {
          "output_type": "stream",
          "name": "stdout",
          "text": [
            "Files already downloaded and verified\n",
            "Files already downloaded and verified\n"
          ]
        }
      ],
      "source": [
        "googlenet_traindataloader, googlenet_testdataloader = get_dataloader(transform = googlenet_transform,\n",
        "                                                                     batch_size = 32,\n",
        "                                                                     num_workers = num_workers)"
      ]
    },
    {
      "cell_type": "code",
      "execution_count": 28,
      "metadata": {
        "colab": {
          "base_uri": "https://localhost:8080/"
        },
        "id": "AyI0PPpL2knK",
        "outputId": "0cb23532-4251-458d-def4-2505399bc2a9"
      },
      "outputs": [
        {
          "output_type": "stream",
          "name": "stdout",
          "text": [
            "epoch 1\n",
            "\n",
            "Train loss: 0.94530 | Test loss: 0.71725, Test acc: 75.71%\n",
            "\n",
            "epoch 2\n",
            "\n",
            "Train loss: 0.64725 | Test loss: 0.65527, Test acc: 77.51%\n",
            "\n",
            "epoch 3\n",
            "\n",
            "Train loss: 0.60992 | Test loss: 0.66206, Test acc: 76.95%\n",
            "\n"
          ]
        }
      ],
      "source": [
        "googlenet_lossfn, googlenet_optimizer = initialize_lossfn_and_optimizer(googlenet)\n",
        "\n",
        "train_model(trainloader = googlenet_traindataloader,\n",
        "            testloader = googlenet_testdataloader,\n",
        "            model= googlenet,\n",
        "            loss_fn = googlenet_lossfn,\n",
        "            optimizer= googlenet_optimizer,\n",
        "            epochs= 5,\n",
        "            device= device,\n",
        "            seed = 42)"
      ]
    },
    {
      "cell_type": "markdown",
      "metadata": {
        "id": "_6I-G54GJUhK"
      },
      "source": [
        "## 4. ResNet"
      ]
    },
    {
      "cell_type": "code",
      "execution_count": 29,
      "metadata": {
        "colab": {
          "base_uri": "https://localhost:8080/"
        },
        "id": "Bw5iDJyiy5I3",
        "outputId": "1c012356-be83-4bbb-c75f-737b5d1caef3"
      },
      "outputs": [
        {
          "output_type": "stream",
          "name": "stderr",
          "text": [
            "Downloading: \"https://download.pytorch.org/models/resnet18-f37072fd.pth\" to /root/.cache/torch/hub/checkpoints/resnet18-f37072fd.pth\n",
            "100%|██████████| 44.7M/44.7M [00:00<00:00, 181MB/s]\n"
          ]
        }
      ],
      "source": [
        "resnet, resnet_transform = create_model(name='ResNet18',\n",
        "                                        class_names=class_names)"
      ]
    },
    {
      "cell_type": "code",
      "execution_count": 30,
      "metadata": {
        "colab": {
          "base_uri": "https://localhost:8080/"
        },
        "id": "AxwFwOK506ue",
        "outputId": "cb5329ac-d027-4c8e-b079-770666b27b57"
      },
      "outputs": [
        {
          "output_type": "stream",
          "name": "stdout",
          "text": [
            "========================================================================================================================\n",
            "Layer (type (var_name))                  Input Shape          Output Shape         Param #              Trainable\n",
            "========================================================================================================================\n",
            "ResNet (ResNet)                          [1, 3, 224, 224]     [1, 10]              --                   Partial\n",
            "├─Conv2d (conv1)                         [1, 3, 224, 224]     [1, 64, 112, 112]    (9,408)              False\n",
            "├─BatchNorm2d (bn1)                      [1, 64, 112, 112]    [1, 64, 112, 112]    (128)                False\n",
            "├─ReLU (relu)                            [1, 64, 112, 112]    [1, 64, 112, 112]    --                   --\n",
            "├─MaxPool2d (maxpool)                    [1, 64, 112, 112]    [1, 64, 56, 56]      --                   --\n",
            "├─Sequential (layer1)                    [1, 64, 56, 56]      [1, 64, 56, 56]      --                   False\n",
            "│    └─BasicBlock (0)                    [1, 64, 56, 56]      [1, 64, 56, 56]      --                   False\n",
            "│    │    └─Conv2d (conv1)               [1, 64, 56, 56]      [1, 64, 56, 56]      (36,864)             False\n",
            "│    │    └─BatchNorm2d (bn1)            [1, 64, 56, 56]      [1, 64, 56, 56]      (128)                False\n",
            "│    │    └─ReLU (relu)                  [1, 64, 56, 56]      [1, 64, 56, 56]      --                   --\n",
            "│    │    └─Conv2d (conv2)               [1, 64, 56, 56]      [1, 64, 56, 56]      (36,864)             False\n",
            "│    │    └─BatchNorm2d (bn2)            [1, 64, 56, 56]      [1, 64, 56, 56]      (128)                False\n",
            "│    │    └─ReLU (relu)                  [1, 64, 56, 56]      [1, 64, 56, 56]      --                   --\n",
            "│    └─BasicBlock (1)                    [1, 64, 56, 56]      [1, 64, 56, 56]      --                   False\n",
            "│    │    └─Conv2d (conv1)               [1, 64, 56, 56]      [1, 64, 56, 56]      (36,864)             False\n",
            "│    │    └─BatchNorm2d (bn1)            [1, 64, 56, 56]      [1, 64, 56, 56]      (128)                False\n",
            "│    │    └─ReLU (relu)                  [1, 64, 56, 56]      [1, 64, 56, 56]      --                   --\n",
            "│    │    └─Conv2d (conv2)               [1, 64, 56, 56]      [1, 64, 56, 56]      (36,864)             False\n",
            "│    │    └─BatchNorm2d (bn2)            [1, 64, 56, 56]      [1, 64, 56, 56]      (128)                False\n",
            "│    │    └─ReLU (relu)                  [1, 64, 56, 56]      [1, 64, 56, 56]      --                   --\n",
            "├─Sequential (layer2)                    [1, 64, 56, 56]      [1, 128, 28, 28]     --                   False\n",
            "│    └─BasicBlock (0)                    [1, 64, 56, 56]      [1, 128, 28, 28]     --                   False\n",
            "│    │    └─Conv2d (conv1)               [1, 64, 56, 56]      [1, 128, 28, 28]     (73,728)             False\n",
            "│    │    └─BatchNorm2d (bn1)            [1, 128, 28, 28]     [1, 128, 28, 28]     (256)                False\n",
            "│    │    └─ReLU (relu)                  [1, 128, 28, 28]     [1, 128, 28, 28]     --                   --\n",
            "│    │    └─Conv2d (conv2)               [1, 128, 28, 28]     [1, 128, 28, 28]     (147,456)            False\n",
            "│    │    └─BatchNorm2d (bn2)            [1, 128, 28, 28]     [1, 128, 28, 28]     (256)                False\n",
            "│    │    └─Sequential (downsample)      [1, 64, 56, 56]      [1, 128, 28, 28]     (8,448)              False\n",
            "│    │    └─ReLU (relu)                  [1, 128, 28, 28]     [1, 128, 28, 28]     --                   --\n",
            "│    └─BasicBlock (1)                    [1, 128, 28, 28]     [1, 128, 28, 28]     --                   False\n",
            "│    │    └─Conv2d (conv1)               [1, 128, 28, 28]     [1, 128, 28, 28]     (147,456)            False\n",
            "│    │    └─BatchNorm2d (bn1)            [1, 128, 28, 28]     [1, 128, 28, 28]     (256)                False\n",
            "│    │    └─ReLU (relu)                  [1, 128, 28, 28]     [1, 128, 28, 28]     --                   --\n",
            "│    │    └─Conv2d (conv2)               [1, 128, 28, 28]     [1, 128, 28, 28]     (147,456)            False\n",
            "│    │    └─BatchNorm2d (bn2)            [1, 128, 28, 28]     [1, 128, 28, 28]     (256)                False\n",
            "│    │    └─ReLU (relu)                  [1, 128, 28, 28]     [1, 128, 28, 28]     --                   --\n",
            "├─Sequential (layer3)                    [1, 128, 28, 28]     [1, 256, 14, 14]     --                   False\n",
            "│    └─BasicBlock (0)                    [1, 128, 28, 28]     [1, 256, 14, 14]     --                   False\n",
            "│    │    └─Conv2d (conv1)               [1, 128, 28, 28]     [1, 256, 14, 14]     (294,912)            False\n",
            "│    │    └─BatchNorm2d (bn1)            [1, 256, 14, 14]     [1, 256, 14, 14]     (512)                False\n",
            "│    │    └─ReLU (relu)                  [1, 256, 14, 14]     [1, 256, 14, 14]     --                   --\n",
            "│    │    └─Conv2d (conv2)               [1, 256, 14, 14]     [1, 256, 14, 14]     (589,824)            False\n",
            "│    │    └─BatchNorm2d (bn2)            [1, 256, 14, 14]     [1, 256, 14, 14]     (512)                False\n",
            "│    │    └─Sequential (downsample)      [1, 128, 28, 28]     [1, 256, 14, 14]     (33,280)             False\n",
            "│    │    └─ReLU (relu)                  [1, 256, 14, 14]     [1, 256, 14, 14]     --                   --\n",
            "│    └─BasicBlock (1)                    [1, 256, 14, 14]     [1, 256, 14, 14]     --                   False\n",
            "│    │    └─Conv2d (conv1)               [1, 256, 14, 14]     [1, 256, 14, 14]     (589,824)            False\n",
            "│    │    └─BatchNorm2d (bn1)            [1, 256, 14, 14]     [1, 256, 14, 14]     (512)                False\n",
            "│    │    └─ReLU (relu)                  [1, 256, 14, 14]     [1, 256, 14, 14]     --                   --\n",
            "│    │    └─Conv2d (conv2)               [1, 256, 14, 14]     [1, 256, 14, 14]     (589,824)            False\n",
            "│    │    └─BatchNorm2d (bn2)            [1, 256, 14, 14]     [1, 256, 14, 14]     (512)                False\n",
            "│    │    └─ReLU (relu)                  [1, 256, 14, 14]     [1, 256, 14, 14]     --                   --\n",
            "├─Sequential (layer4)                    [1, 256, 14, 14]     [1, 512, 7, 7]       --                   False\n",
            "│    └─BasicBlock (0)                    [1, 256, 14, 14]     [1, 512, 7, 7]       --                   False\n",
            "│    │    └─Conv2d (conv1)               [1, 256, 14, 14]     [1, 512, 7, 7]       (1,179,648)          False\n",
            "│    │    └─BatchNorm2d (bn1)            [1, 512, 7, 7]       [1, 512, 7, 7]       (1,024)              False\n",
            "│    │    └─ReLU (relu)                  [1, 512, 7, 7]       [1, 512, 7, 7]       --                   --\n",
            "│    │    └─Conv2d (conv2)               [1, 512, 7, 7]       [1, 512, 7, 7]       (2,359,296)          False\n",
            "│    │    └─BatchNorm2d (bn2)            [1, 512, 7, 7]       [1, 512, 7, 7]       (1,024)              False\n",
            "│    │    └─Sequential (downsample)      [1, 256, 14, 14]     [1, 512, 7, 7]       (132,096)            False\n",
            "│    │    └─ReLU (relu)                  [1, 512, 7, 7]       [1, 512, 7, 7]       --                   --\n",
            "│    └─BasicBlock (1)                    [1, 512, 7, 7]       [1, 512, 7, 7]       --                   False\n",
            "│    │    └─Conv2d (conv1)               [1, 512, 7, 7]       [1, 512, 7, 7]       (2,359,296)          False\n",
            "│    │    └─BatchNorm2d (bn1)            [1, 512, 7, 7]       [1, 512, 7, 7]       (1,024)              False\n",
            "│    │    └─ReLU (relu)                  [1, 512, 7, 7]       [1, 512, 7, 7]       --                   --\n",
            "│    │    └─Conv2d (conv2)               [1, 512, 7, 7]       [1, 512, 7, 7]       (2,359,296)          False\n",
            "│    │    └─BatchNorm2d (bn2)            [1, 512, 7, 7]       [1, 512, 7, 7]       (1,024)              False\n",
            "│    │    └─ReLU (relu)                  [1, 512, 7, 7]       [1, 512, 7, 7]       --                   --\n",
            "├─AdaptiveAvgPool2d (avgpool)            [1, 512, 7, 7]       [1, 512, 1, 1]       --                   --\n",
            "├─Linear (fc)                            [1, 512]             [1, 10]              5,130                True\n",
            "========================================================================================================================\n",
            "Total params: 11,181,642\n",
            "Trainable params: 5,130\n",
            "Non-trainable params: 11,176,512\n",
            "Total mult-adds (G): 1.81\n",
            "========================================================================================================================\n",
            "Input size (MB): 0.60\n",
            "Forward/backward pass size (MB): 39.74\n",
            "Params size (MB): 44.73\n",
            "Estimated Total Size (MB): 85.07\n",
            "========================================================================================================================\n"
          ]
        }
      ],
      "source": [
        "summarize_model(resnet)"
      ]
    },
    {
      "cell_type": "code",
      "execution_count": 31,
      "metadata": {
        "colab": {
          "base_uri": "https://localhost:8080/"
        },
        "id": "-0X7cub5yd3A",
        "outputId": "bc84eed2-e15f-4adc-e240-096e607fb512"
      },
      "outputs": [
        {
          "output_type": "stream",
          "name": "stdout",
          "text": [
            "Files already downloaded and verified\n",
            "Files already downloaded and verified\n"
          ]
        }
      ],
      "source": [
        "resnet_traindataloader, resnet_testdataloader = get_dataloader(transform = resnet_transform,\n",
        "                                                               batch_size = 32,\n",
        "                                                               num_workers = num_workers)"
      ]
    },
    {
      "cell_type": "code",
      "execution_count": 32,
      "metadata": {
        "colab": {
          "base_uri": "https://localhost:8080/"
        },
        "id": "RlUD9itYys6Y",
        "outputId": "e9af7aa8-6e93-432f-afe5-a5699094aa61"
      },
      "outputs": [
        {
          "output_type": "stream",
          "name": "stdout",
          "text": [
            "epoch 1\n",
            "\n",
            "Train loss: 0.88348 | Test loss: 0.69015, Test acc: 76.55%\n",
            "\n",
            "epoch 2\n",
            "\n",
            "Train loss: 0.65698 | Test loss: 0.66284, Test acc: 77.27%\n",
            "\n",
            "epoch 3\n",
            "\n",
            "Train loss: 0.63320 | Test loss: 0.65707, Test acc: 77.27%\n",
            "\n"
          ]
        }
      ],
      "source": [
        "resnet_lossfn, resnet_optimizer = initialize_lossfn_and_optimizer(resnet)\n",
        "\n",
        "train_model(trainloader = resnet_traindataloader,\n",
        "            testloader = resnet_testdataloader,\n",
        "            model= resnet,\n",
        "            loss_fn = resnet_lossfn,\n",
        "            optimizer= resnet_optimizer,\n",
        "            epochs= 5,\n",
        "            device= device,\n",
        "            seed = 42)"
      ]
    }
  ],
  "metadata": {
    "accelerator": "GPU",
    "colab": {
      "gpuType": "T4",
      "provenance": []
    },
    "kernelspec": {
      "display_name": "Python 3",
      "name": "python3"
    },
    "language_info": {
      "codemirror_mode": {
        "name": "ipython",
        "version": 3
      },
      "file_extension": ".py",
      "mimetype": "text/x-python",
      "name": "python",
      "nbconvert_exporter": "python",
      "pygments_lexer": "ipython3",
      "version": "3.12.4"
    }
  },
  "nbformat": 4,
  "nbformat_minor": 0
}