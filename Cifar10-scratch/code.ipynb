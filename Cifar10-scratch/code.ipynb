{
 "cells": [
  {
   "cell_type": "code",
   "execution_count": 13,
   "metadata": {},
   "outputs": [],
   "source": [
    "import torch\n",
    "import torch.nn as nn\n",
    "from torch.utils.data import DataLoader\n",
    "import torchvision\n",
    "import torchvision.transforms as transforms\n",
    "from torch.optim import SGD\n",
    "from torch.nn import CrossEntropyLoss\n",
    "import torchmetrics"
   ]
  },
  {
   "cell_type": "code",
   "execution_count": 14,
   "metadata": {},
   "outputs": [],
   "source": [
    "class MLP(torch.nn.Module):\n",
    "    def __init__(self, n_hidden_nodes, n_classes, image_width=32, image_height=32, color_channels=3):\n",
    "        super().__init__()\n",
    "        self.n_hidden_nodes = n_hidden_nodes\n",
    "        self.n_classes = n_classes\n",
    "        \n",
    "        self.relu = nn.ReLU6()\n",
    "        self.leaky_relu = nn.LeakyReLU()\n",
    "        \n",
    "        self.image_width = image_width\n",
    "        self.image_height = image_height\n",
    "        self.color_channels = color_channels\n",
    "        self.input_size = self.image_width * self.image_height * self.color_channels\n",
    "        \n",
    "        # define layers\n",
    "        self.hidden_layer = nn.Linear(self.input_size, self.n_hidden_nodes) # (B, c * w * h) -> (B, 100)\n",
    "        self.hidden_layer_2 = nn.Linear(self.n_hidden_nodes, self.n_hidden_nodes) # (B, 100) -> (B, 100)\n",
    "        self.output_layer = nn.Linear(self.n_hidden_nodes, self.n_classes) # (B, 100) -> (B, nclasses)\n",
    "        \n",
    "    def forward(self, x):\n",
    "        x = x.view(x.size(0), -1)\n",
    "        x = self.relu(self.hidden_layer(x))\n",
    "        x = self.leaky_relu(self.hidden_layer_2(x))\n",
    "        x = self.leaky_relu(self.hidden_layer_2(x))\n",
    "        x = self.output_layer(x)\n",
    "        return x\n"
   ]
  },
  {
   "cell_type": "code",
   "execution_count": 15,
   "metadata": {},
   "outputs": [],
   "source": [
    "class Data():\n",
    "    def __init__(self, root='./data', transform=None, batch_size=64, num_workers=2):\n",
    "        self.root = root\n",
    "        if transform is not None:\n",
    "            self.transform = transform\n",
    "        else:\n",
    "            self.transform = transforms.Compose([\n",
    "                        transforms.RandomHorizontalFlip(),\n",
    "                        transforms.RandomCrop(32, padding=4),\n",
    "                        transforms.ToTensor(),\n",
    "                        transforms.Normalize((0.5, 0.5, 0.5), (0.5, 0.5, 0.5))\n",
    "            ])\n",
    "        self.batch_size = batch_size\n",
    "        self.num_workers = num_workers\n",
    "    \n",
    "    def load_train_data(self):\n",
    "        train_dataset = torchvision.datasets.CIFAR10(root=self.root, train=True, download=True, transform=self.transform)\n",
    "\n",
    "        return DataLoader(train_dataset, batch_size=self.batch_size, shuffle=True, num_workers=self.num_workers)\n",
    "\n",
    "    def load_test_data(self):\n",
    "        test_dataset = torchvision.datasets.CIFAR10(root=self.root, train=False, download=True, transform=self.transform)\n",
    "\n",
    "        return DataLoader(test_dataset, batch_size=self.batch_size, shuffle=False, num_workers=self.num_workers)    "
   ]
  },
  {
   "cell_type": "code",
   "execution_count": 16,
   "metadata": {},
   "outputs": [
    {
     "data": {
      "text/plain": [
       "device(type='cuda')"
      ]
     },
     "execution_count": 16,
     "metadata": {},
     "output_type": "execute_result"
    }
   ],
   "source": [
    "device = torch.device(\"cuda\" if torch.cuda.is_available() else \"cpu\")\n",
    "device"
   ]
  },
  {
   "cell_type": "code",
   "execution_count": 21,
   "metadata": {},
   "outputs": [],
   "source": [
    "class Model():\n",
    "    def __init__(self, model=None, criterion=None, optimizer=None, dataloader=None, epochs=10):\n",
    "        self.device = torch.device(\"cuda\" if torch.cuda.is_available() else \"cpu\")\n",
    "        \n",
    "        if model is not None:\n",
    "            self.model = model\n",
    "        else:\n",
    "            self.model = MLP(n_classes=10, n_hidden_nodes=100, image_width=32, image_height=32, color_channels=3)\n",
    "        self.model.to(self.device)\n",
    "        \n",
    "        if criterion is not None:\n",
    "            self.criterion = criterion\n",
    "        else:\n",
    "            self.criterion = CrossEntropyLoss()\n",
    "        \n",
    "        if optimizer is not None:\n",
    "            self.optimizer = optimizer\n",
    "        else:\n",
    "            self.optimizer = SGD(self.model.parameters(), lr=0.005)\n",
    "        \n",
    "        if dataloader is not None:\n",
    "            self.dataloader = dataloader\n",
    "        else:\n",
    "            self.dataloader = Data(root='./data', batch_size=32, num_workers=4)\n",
    "            \n",
    "        self.epochs = epochs\n",
    "    \n",
    "    def train(self):\n",
    "        train_loader = self.dataloader.load_train_data()\n",
    "        \n",
    "        train_accuracy = torchmetrics.Accuracy(task=\"multiclass\", num_classes=10).to(self.device)\n",
    "\n",
    "        for epoch in range(self.epochs):\n",
    "            running_loss = 0.0\n",
    "\n",
    "            self.model.train()\n",
    "            train_accuracy.reset()\n",
    "\n",
    "            for inputs, labels in train_loader:\n",
    "                inputs, labels = inputs.to(self.device), labels.to(self.device)\n",
    "                \n",
    "                self.optimizer.zero_grad()\n",
    "                \n",
    "                outputs = self.model(inputs)\n",
    "                loss = self.criterion(outputs, labels)\n",
    "                \n",
    "                loss.backward()\n",
    "                self.optimizer.step()\n",
    "\n",
    "                running_loss += loss.item()\n",
    "\n",
    "                _, predicted = torch.max(outputs.data, 1)\n",
    "                train_accuracy.update(predicted, labels)\n",
    "\n",
    "            final_train_accuracy = train_accuracy.compute()\n",
    "\n",
    "            print(f'Epoch [{epoch+1}/{self.epochs}]\\n', \n",
    "                    f'Loss: {running_loss/len(train_loader):.4f}\\n',\n",
    "                    f'Train Accuracy: {final_train_accuracy * 100:.2f}\\n',\n",
    "                    '--------------------------------------------------\\n')\n",
    "\n",
    "        print('======================Finished=========================')\n",
    "        \n",
    "    def evaluate(self):\n",
    "        test_loader = self.dataloader.load_test_data()\n",
    "        test_accuracy = torchmetrics.Accuracy(task=\"multiclass\", num_classes=10).to(self.device)\n",
    "        \n",
    "        self.model.eval()\n",
    "        test_accuracy.reset()\n",
    "        with torch.no_grad():\n",
    "            for inputs, labels in test_loader:\n",
    "                inputs, labels = inputs.to(self.device), labels.to(self.device)\n",
    "                outputs = self.model(inputs)\n",
    "                _, predicted = torch.max(outputs.data, 1)\n",
    "                test_accuracy.update(predicted, labels)\n",
    "\n",
    "        final_test_accuracy = test_accuracy.compute()\n",
    "\n",
    "        print(f'Test Accuracy: {final_test_accuracy * 100:.2f}\\n',\n",
    "                '--------------------------------------------------\\n')\n",
    "\n",
    "        print('======================Finished=========================')\n",
    "        \n",
    "        \n",
    "    def predict(self, data):\n",
    "        prediction = []\n",
    "        \n",
    "        self.model.eval()\n",
    "        with torch.no_grad():\n",
    "            for input in data:\n",
    "                input = input.to(self.device)\n",
    "                outputs = self.model(input)\n",
    "                _, predicted = torch.max(outputs.data, 1)\n",
    "                prediction.append(predicted)\n",
    "\n",
    "        return prediction    \n",
    "    \n",
    "    def save(self, name=None):\n",
    "        parent = 'models'\n",
    "        checkpoint_path = name if name is not None else 'mlp_checkpoint.pth'\n",
    "        path = parent + '/' + checkpoint_path\n",
    "\n",
    "        checkpoint = {\n",
    "            'epoch': self.epochs,\n",
    "            'model_state_dict': self.model.state_dict(),\n",
    "            'optimizer_state_dict': self.optimizer.state_dict(),\n",
    "            'criterion_state_dict': self.criterion.state_dict(),\n",
    "        }\n",
    "\n",
    "        torch.save(checkpoint, path)\n",
    "        print(f\"Checkpoint saved to {path}\")\n"
   ]
  },
  {
   "cell_type": "code",
   "execution_count": 22,
   "metadata": {},
   "outputs": [
    {
     "name": "stdout",
     "output_type": "stream",
     "text": [
      "Files already downloaded and verified\n",
      "Epoch [1/10]\n",
      " Loss: 2.2228\n",
      " Train Accuracy: 17.51\n",
      " --------------------------------------------------\n",
      "\n",
      "Epoch [2/10]\n",
      " Loss: 1.9993\n",
      " Train Accuracy: 27.22\n",
      " --------------------------------------------------\n",
      "\n",
      "Epoch [3/10]\n",
      " Loss: 1.9010\n",
      " Train Accuracy: 31.35\n",
      " --------------------------------------------------\n",
      "\n",
      "Epoch [4/10]\n",
      " Loss: 1.8238\n",
      " Train Accuracy: 34.10\n",
      " --------------------------------------------------\n",
      "\n",
      "Epoch [5/10]\n",
      " Loss: 1.7690\n",
      " Train Accuracy: 36.27\n",
      " --------------------------------------------------\n",
      "\n",
      "Epoch [6/10]\n",
      " Loss: 1.7232\n",
      " Train Accuracy: 37.81\n",
      " --------------------------------------------------\n",
      "\n",
      "Epoch [7/10]\n",
      " Loss: 1.6817\n",
      " Train Accuracy: 39.35\n",
      " --------------------------------------------------\n",
      "\n",
      "Epoch [8/10]\n",
      " Loss: 1.6489\n",
      " Train Accuracy: 40.38\n",
      " --------------------------------------------------\n",
      "\n",
      "Epoch [9/10]\n",
      " Loss: 1.6233\n",
      " Train Accuracy: 41.59\n",
      " --------------------------------------------------\n",
      "\n",
      "Epoch [10/10]\n",
      " Loss: 1.5983\n",
      " Train Accuracy: 42.64\n",
      " --------------------------------------------------\n",
      "\n",
      "======================Finished=========================\n"
     ]
    }
   ],
   "source": [
    "clf = Model()\n",
    "clf.train()"
   ]
  },
  {
   "cell_type": "code",
   "execution_count": 23,
   "metadata": {},
   "outputs": [
    {
     "name": "stdout",
     "output_type": "stream",
     "text": [
      "Files already downloaded and verified\n",
      "Test Accuracy: 43.32\n",
      " --------------------------------------------------\n",
      "\n",
      "======================Finished=========================\n"
     ]
    }
   ],
   "source": [
    "clf.evaluate()"
   ]
  },
  {
   "cell_type": "code",
   "execution_count": 24,
   "metadata": {},
   "outputs": [
    {
     "name": "stdout",
     "output_type": "stream",
     "text": [
      "Checkpoint saved to models/mlp_checkpoint.pth\n"
     ]
    }
   ],
   "source": [
    "clf.save('mlp_checkpoint.pth')\n"
   ]
  }
 ],
 "metadata": {
  "kernelspec": {
   "display_name": "Python 3",
   "language": "python",
   "name": "python3"
  },
  "language_info": {
   "codemirror_mode": {
    "name": "ipython",
    "version": 3
   },
   "file_extension": ".py",
   "mimetype": "text/x-python",
   "name": "python",
   "nbconvert_exporter": "python",
   "pygments_lexer": "ipython3",
   "version": "3.12.4"
  }
 },
 "nbformat": 4,
 "nbformat_minor": 2
}
