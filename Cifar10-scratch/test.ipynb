{
 "cells": [
  {
   "cell_type": "code",
   "execution_count": 21,
   "metadata": {},
   "outputs": [],
   "source": [
    "import torch\n",
    "import torch.nn as nn\n",
    "import torch.optim as optim\n",
    "from torch.utils.data import DataLoader, TensorDataset, random_split\n",
    "import torchvision.transforms as transforms\n"
   ]
  },
  {
   "cell_type": "code",
   "execution_count": 22,
   "metadata": {},
   "outputs": [],
   "source": [
    "# Tạo dữ liệu giả lập (1000 mẫu, mỗi mẫu có 3 kênh 32x32, và 10 lớp)\n",
    "num_samples = 1000\n",
    "num_classes = 10\n",
    "input_size = (3, 32, 32)  # Dữ liệu ảnh 3 kênh, 32x32\n",
    "\n",
    "# Tạo dữ liệu và nhãn ngẫu nhiên\n",
    "X = torch.randn(num_samples, *input_size)  # Dữ liệu ngẫu nhiên\n",
    "y = torch.randint(0, num_classes, (num_samples,))  # Nhãn từ 0 đến 9\n",
    "\n",
    "# Chia dữ liệu thành tập huấn luyện và kiểm thử (80/20)\n",
    "train_size = int(0.8 * num_samples)\n",
    "test_size = num_samples - train_size\n",
    "train_data, test_data = random_split(TensorDataset(X, y), [train_size, test_size])\n",
    "\n",
    "train_loader = DataLoader(train_data, batch_size=32, shuffle=True)\n",
    "test_loader = DataLoader(test_data, batch_size=32)\n"
   ]
  },
  {
   "cell_type": "code",
   "execution_count": 23,
   "metadata": {},
   "outputs": [],
   "source": [
    "class CNNModel(nn.Module):\n",
    "    def __init__(self, num_classes=10):\n",
    "        super(CNNModel, self).__init__()\n",
    "        self.conv1 = nn.Conv2d(3, 16, kernel_size=3, stride=1, padding=1)  # (B, 16, 32, 32)\n",
    "        self.conv2 = nn.Conv2d(16, 32, kernel_size=3, stride=1, padding=1)  # (B, 32, 32, 32)\n",
    "        self.pool = nn.MaxPool2d(2, 2)  # (B, 32, 16, 16)\n",
    "        self.fc1 = nn.Linear(32 * 8 * 8, 128)\n",
    "        self.fc2 = nn.Linear(128, num_classes)\n",
    "\n",
    "    def forward(self, x):\n",
    "        x = self.pool(torch.relu(self.conv1(x)))\n",
    "        x = self.pool(torch.relu(self.conv2(x)))\n",
    "        x = x.view(x.size(0), -1)  # Flatten\n",
    "        x = torch.relu(self.fc1(x))\n",
    "        x = self.fc2(x)\n",
    "        return x\n"
   ]
  },
  {
   "cell_type": "code",
   "execution_count": 24,
   "metadata": {},
   "outputs": [],
   "source": [
    "model = CNNModel(num_classes=10)\n",
    "criterion = nn.CrossEntropyLoss()  # Dùng cho bài toán phân loại nhiều lớp\n",
    "optimizer = optim.Adam(model.parameters(), lr=0.001)\n"
   ]
  },
  {
   "cell_type": "code",
   "execution_count": 25,
   "metadata": {},
   "outputs": [],
   "source": [
    "def train(model, train_loader, criterion, optimizer, num_epochs=10, device='cpu'):\n",
    "    model.train()\n",
    "    for epoch in range(num_epochs):\n",
    "        running_loss = 0.0\n",
    "        for inputs, labels in train_loader:\n",
    "            # Chuyển dữ liệu vào thiết bị (nếu có GPU)\n",
    "            inputs, labels = inputs.to(device), labels.to(device)\n",
    "\n",
    "            # Reset gradient\n",
    "            optimizer.zero_grad()\n",
    "\n",
    "            # Forward\n",
    "            outputs = model(inputs)\n",
    "            loss = criterion(outputs, labels)\n",
    "\n",
    "            # Backward và update weights\n",
    "            loss.backward()\n",
    "            optimizer.step()\n",
    "\n",
    "            running_loss += loss.item()\n",
    "\n",
    "        print(f\"Epoch [{epoch+1}/{num_epochs}], Loss: {running_loss/len(train_loader):.4f}\")\n"
   ]
  },
  {
   "cell_type": "code",
   "execution_count": 28,
   "metadata": {},
   "outputs": [
    {
     "name": "stdout",
     "output_type": "stream",
     "text": [
      "Epoch [1/10], Loss: 0.5912\n",
      "Epoch [2/10], Loss: 0.3622\n",
      "Epoch [3/10], Loss: 0.2062\n",
      "Epoch [4/10], Loss: 0.1123\n",
      "Epoch [5/10], Loss: 0.0734\n",
      "Epoch [6/10], Loss: 0.0518\n",
      "Epoch [7/10], Loss: 0.0378\n",
      "Epoch [8/10], Loss: 0.0287\n",
      "Epoch [9/10], Loss: 0.0234\n",
      "Epoch [10/10], Loss: 0.0204\n",
      "Accuracy: 10.00%\n"
     ]
    },
    {
     "data": {
      "text/plain": [
       "[tensor([5, 2, 8, 6, 0, 7, 6, 9, 7, 0, 5, 6, 6, 4, 2, 0, 5, 9, 5, 9, 5, 7, 0, 0,\n",
       "         3, 0, 2, 4, 3, 3, 0, 4], device='cuda:0'),\n",
       " tensor([6, 7, 4, 9, 5, 6, 3, 0, 6, 0, 1, 3, 1, 0, 2, 1, 8, 4, 6, 1, 7, 4, 4, 3,\n",
       "         7, 3, 5, 1, 1, 8, 8, 9], device='cuda:0'),\n",
       " tensor([2, 4, 0, 5, 0, 0, 3, 2, 6, 7, 0, 3, 6, 5, 2, 6, 1, 2, 1, 5, 7, 8, 6, 8,\n",
       "         7, 2, 9, 4, 5, 5, 4, 1], device='cuda:0'),\n",
       " tensor([1, 1, 8, 7, 6, 0, 9, 2, 4, 3, 2, 2, 0, 6, 8, 8, 5, 9, 1, 9, 2, 9, 5, 4,\n",
       "         7, 9, 2, 8, 6, 7, 1, 8], device='cuda:0'),\n",
       " tensor([7, 0, 8, 1, 8, 8, 4, 1, 7, 5, 9, 9, 2, 7, 9, 6, 5, 8, 5, 1, 0, 9, 1, 3,\n",
       "         4, 8, 5, 4, 8, 8, 1, 3], device='cuda:0'),\n",
       " tensor([5, 0, 5, 6, 0, 5, 9, 4, 7, 6, 7, 7, 0, 7, 5, 3, 3, 2, 8, 6, 0, 5, 1, 9,\n",
       "         8, 2, 6, 5, 0, 5, 0, 7], device='cuda:0'),\n",
       " tensor([5, 4, 6, 0, 0, 5, 9, 1], device='cuda:0')]"
      ]
     },
     "execution_count": 28,
     "metadata": {},
     "output_type": "execute_result"
    }
   ],
   "source": [
    "def evaluate(model, test_loader):\n",
    "    model.eval()\n",
    "    correct = 0\n",
    "    total = 0\n",
    "    prediction = []\n",
    "    with torch.no_grad():\n",
    "        for inputs, labels in test_loader:\n",
    "            inputs, labels = inputs.to(device), labels.to(device)\n",
    "            outputs = model(inputs)\n",
    "            _, predicted = torch.max(outputs, 1)\n",
    "            prediction.append(predicted)\n",
    "            total += labels.size(0)\n",
    "            correct += (predicted == labels).sum().item()\n",
    "\n",
    "    print(f'Accuracy: {100 * correct / total:.2f}%')\n",
    "    return prediction\n",
    "\n",
    "# Kiểm tra xem có GPU không, nếu có dùng GPU để tăng tốc\n",
    "device = torch.device('cuda' if torch.cuda.is_available() else 'cpu')\n",
    "model.to(device)\n",
    "\n",
    "# Huấn luyện và đánh giá\n",
    "train(model, train_loader, criterion, optimizer, num_epochs=10, device=device)\n",
    "evaluate(model, test_loader)\n"
   ]
  },
  {
   "cell_type": "code",
   "execution_count": 29,
   "metadata": {},
   "outputs": [
    {
     "name": "stdout",
     "output_type": "stream",
     "text": [
      "Accuracy: 10.00%\n"
     ]
    },
    {
     "data": {
      "text/plain": [
       "[tensor([5, 2, 8, 6, 0, 7, 6, 9, 7, 0, 5, 6, 6, 4, 2, 0, 5, 9, 5, 9, 5, 7, 0, 0,\n",
       "         3, 0, 2, 4, 3, 3, 0, 4], device='cuda:0'),\n",
       " tensor([6, 7, 4, 9, 5, 6, 3, 0, 6, 0, 1, 3, 1, 0, 2, 1, 8, 4, 6, 1, 7, 4, 4, 3,\n",
       "         7, 3, 5, 1, 1, 8, 8, 9], device='cuda:0'),\n",
       " tensor([2, 4, 0, 5, 0, 0, 3, 2, 6, 7, 0, 3, 6, 5, 2, 6, 1, 2, 1, 5, 7, 8, 6, 8,\n",
       "         7, 2, 9, 4, 5, 5, 4, 1], device='cuda:0'),\n",
       " tensor([1, 1, 8, 7, 6, 0, 9, 2, 4, 3, 2, 2, 0, 6, 8, 8, 5, 9, 1, 9, 2, 9, 5, 4,\n",
       "         7, 9, 2, 8, 6, 7, 1, 8], device='cuda:0'),\n",
       " tensor([7, 0, 8, 1, 8, 8, 4, 1, 7, 5, 9, 9, 2, 7, 9, 6, 5, 8, 5, 1, 0, 9, 1, 3,\n",
       "         4, 8, 5, 4, 8, 8, 1, 3], device='cuda:0'),\n",
       " tensor([5, 0, 5, 6, 0, 5, 9, 4, 7, 6, 7, 7, 0, 7, 5, 3, 3, 2, 8, 6, 0, 5, 1, 9,\n",
       "         8, 2, 6, 5, 0, 5, 0, 7], device='cuda:0'),\n",
       " tensor([5, 4, 6, 0, 0, 5, 9, 1], device='cuda:0')]"
      ]
     },
     "execution_count": 29,
     "metadata": {},
     "output_type": "execute_result"
    }
   ],
   "source": [
    "prediction = evaluate(model, test_loader)\n",
    "prediction"
   ]
  }
 ],
 "metadata": {
  "kernelspec": {
   "display_name": "Python 3",
   "language": "python",
   "name": "python3"
  },
  "language_info": {
   "codemirror_mode": {
    "name": "ipython",
    "version": 3
   },
   "file_extension": ".py",
   "mimetype": "text/x-python",
   "name": "python",
   "nbconvert_exporter": "python",
   "pygments_lexer": "ipython3",
   "version": "3.12.4"
  }
 },
 "nbformat": 4,
 "nbformat_minor": 2
}
