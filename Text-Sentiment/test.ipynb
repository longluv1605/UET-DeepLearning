{
 "cells": [
  {
   "cell_type": "markdown",
   "metadata": {},
   "source": [
    "# 1. Import requirements"
   ]
  },
  {
   "cell_type": "code",
   "execution_count": 1,
   "metadata": {},
   "outputs": [],
   "source": [
    "# ! pip install -r requirements.txt"
   ]
  },
  {
   "cell_type": "code",
   "execution_count": 2,
   "metadata": {},
   "outputs": [],
   "source": [
    "# from data_loader import *\n",
    "# from text_cnn import TextCNN\n",
    "# from model_controller import *\n",
    "# from hyper_tuning import hyper_tuning\n",
    "\n",
    "# import pandas as pd\n",
    "import torch\n",
    "# import torch.nn as nn"
   ]
  },
  {
   "cell_type": "code",
   "execution_count": 3,
   "metadata": {},
   "outputs": [
    {
     "data": {
      "text/plain": [
       "device(type='cuda')"
      ]
     },
     "execution_count": 3,
     "metadata": {},
     "output_type": "execute_result"
    }
   ],
   "source": [
    "device = torch.device('cuda' if torch.cuda.is_available() else 'cpu')\n",
    "device"
   ]
  },
  {
   "cell_type": "markdown",
   "metadata": {},
   "source": [
    "# 2. Load dataset"
   ]
  },
  {
   "cell_type": "code",
   "execution_count": 4,
   "metadata": {},
   "outputs": [
    {
     "name": "stderr",
     "output_type": "stream",
     "text": [
      "[nltk_data] Downloading package punkt to\n",
      "[nltk_data]     C:\\Users\\longt\\AppData\\Roaming\\nltk_data...\n",
      "[nltk_data]   Package punkt is already up-to-date!\n",
      "[nltk_data] Downloading package punkt_tab to\n",
      "[nltk_data]     C:\\Users\\longt\\AppData\\Roaming\\nltk_data...\n",
      "[nltk_data]   Package punkt_tab is already up-to-date!\n",
      "[nltk_data] Downloading package stopwords to\n",
      "[nltk_data]     C:\\Users\\longt\\AppData\\Roaming\\nltk_data...\n",
      "[nltk_data]   Package stopwords is already up-to-date!\n",
      "[nltk_data] Downloading package wordnet to\n",
      "[nltk_data]     C:\\Users\\longt\\AppData\\Roaming\\nltk_data...\n",
      "[nltk_data]   Package wordnet is already up-to-date!\n"
     ]
    }
   ],
   "source": [
    "# import torch\n",
    "from torch.utils.data import Dataset, DataLoader\n",
    "\n",
    "import pandas as pd\n",
    "\n",
    "import nltk\n",
    "from nltk.tokenize import word_tokenize\n",
    "from nltk.stem import PorterStemmer, WordNetLemmatizer\n",
    "from nltk.corpus import stopwords\n",
    "import string\n",
    "\n",
    "from sklearn.model_selection import train_test_split\n",
    "from collections import Counter\n",
    "\n",
    "nltk.download(\"punkt\")\n",
    "nltk.download(\"punkt_tab\")\n",
    "nltk.download(\"stopwords\")\n",
    "nltk.download(\"wordnet\")\n",
    "\n",
    "\n",
    "class Data_Staff:\n",
    "    def __init__(self, language):\n",
    "        # Init neccessary tools\n",
    "        self.stemmer = PorterStemmer()\n",
    "        self.lemmatizer = WordNetLemmatizer()\n",
    "        self.stop_words = set(stopwords.words(language))\n",
    "        self.MAX_SEQ_LENGTH = 256  # Max length of sentence to encode\n",
    "\n",
    "    # Sentence preprocessing function\n",
    "    def preprocess_text(self, text):\n",
    "        text = text.lower()  # Convert into lower case\n",
    "        tokens = word_tokenize(text)\n",
    "        tokens = [\n",
    "            word for word in tokens if word not in string.punctuation\n",
    "        ]  # Remove punctuation\n",
    "        tokens = [\n",
    "            word for word in tokens if word not in self.stop_words\n",
    "        ]  # Remove stopwords\n",
    "        tokens = [self.stemmer.stem(word) for word in tokens]  # Stemming\n",
    "        tokens = [self.lemmatizer.lemmatize(word) for word in tokens]  # Lematizing\n",
    "        return \" \".join(tokens)\n",
    "\n",
    "    # Build vocab\n",
    "    def build_vocab(self, texts, max_vocab_size=10000):\n",
    "        word_counts = Counter()\n",
    "        for text in texts:\n",
    "            word_counts.update(text.split())\n",
    "        vocab = {\n",
    "            word: idx + 2\n",
    "            for idx, (word, _) in enumerate(word_counts.most_common(max_vocab_size))\n",
    "        }\n",
    "        vocab[\"<PAD>\"] = 0\n",
    "        vocab[\"<UNK>\"] = 1\n",
    "        return vocab\n",
    "\n",
    "    # Indexing\n",
    "    def encode_text(self, text, vocab):\n",
    "        return [vocab.get(word, vocab[\"<UNK>\"]) for word in text.split()]\n",
    "\n",
    "    # Encode padding for train and test set\n",
    "    def pad_sequences(self, sequences, max_length):\n",
    "        padded_sequences = []\n",
    "        for seq in sequences:\n",
    "            if len(seq) > max_length:\n",
    "                padded_sequences.append(seq[:max_length])\n",
    "            elif len(seq) < max_length:\n",
    "                padded_sequences.append(seq + [0] * (max_length - len(seq)))\n",
    "            else:\n",
    "                padded_sequences.append(seq)\n",
    "        return torch.Tensor(padded_sequences)\n",
    "\n",
    "    def staff(self, dataframe):\n",
    "        # Preprocess review\n",
    "        dataframe[\"review\"] = dataframe[\"review\"].apply(self.preprocess_text)\n",
    "\n",
    "        # Split data into train and test\n",
    "        X_train, X_test, y_train, y_test = train_test_split(\n",
    "            dataframe[\"review\"], dataframe[\"sentiment\"], test_size=0.2, random_state=42\n",
    "        )\n",
    "\n",
    "        # Build vocab\n",
    "        vocab = self.build_vocab(X_train)\n",
    "\n",
    "        # Encode and padding\n",
    "        X_train_encoded = [self.encode_text(text, vocab) for text in X_train]\n",
    "        X_test_encoded = [self.encode_text(text, vocab) for text in X_test]\n",
    "        X_train_padded = self.pad_sequences(X_train_encoded, self.MAX_SEQ_LENGTH)\n",
    "        X_test_padded = self.pad_sequences(X_test_encoded, self.MAX_SEQ_LENGTH)\n",
    "\n",
    "        # Convert into Tensor\n",
    "        y_train = torch.tensor([1 if label == \"positive\" else 0 for label in y_train])\n",
    "        y_test = torch.tensor([1 if label == \"positive\" else 0 for label in y_test])\n",
    "\n",
    "        return vocab, X_train_padded, X_test_padded, y_train, y_test\n",
    "\n",
    "\n",
    "# Define dataset\n",
    "class TextDataset(Dataset):\n",
    "    def __init__(self, texts, labels):\n",
    "        self.texts = texts.long()\n",
    "        self.labels = labels.long()\n",
    "\n",
    "    def __len__(self):\n",
    "        return len(self.texts)\n",
    "\n",
    "    def __getitem__(self, idx):\n",
    "        return self.texts[idx], self.labels[idx]\n",
    "\n",
    "\n",
    "# Get dataloader\n",
    "def load_data(dataframe, batch_size):\n",
    "    ds = Data_Staff(language=\"english\")\n",
    "    vocab, X_train, X_test, y_train, y_test = ds.staff(dataframe)\n",
    "\n",
    "    # Create Dataset and DataLoader\n",
    "    train_dataset = TextDataset(X_train, y_train)\n",
    "    test_dataset = TextDataset(X_test, y_test)\n",
    "    train_loader = DataLoader(\n",
    "        train_dataset, batch_size=batch_size, shuffle=True\n",
    "    )\n",
    "    test_loader = DataLoader(\n",
    "        test_dataset, batch_size=batch_size, shuffle=False\n",
    "    )\n",
    "\n",
    "    return vocab, train_loader, test_loader\n"
   ]
  },
  {
   "cell_type": "code",
   "execution_count": 5,
   "metadata": {},
   "outputs": [
    {
     "data": {
      "text/html": [
       "<div>\n",
       "<style scoped>\n",
       "    .dataframe tbody tr th:only-of-type {\n",
       "        vertical-align: middle;\n",
       "    }\n",
       "\n",
       "    .dataframe tbody tr th {\n",
       "        vertical-align: top;\n",
       "    }\n",
       "\n",
       "    .dataframe thead th {\n",
       "        text-align: right;\n",
       "    }\n",
       "</style>\n",
       "<table border=\"1\" class=\"dataframe\">\n",
       "  <thead>\n",
       "    <tr style=\"text-align: right;\">\n",
       "      <th></th>\n",
       "      <th>review</th>\n",
       "      <th>sentiment</th>\n",
       "    </tr>\n",
       "  </thead>\n",
       "  <tbody>\n",
       "    <tr>\n",
       "      <th>0</th>\n",
       "      <td>One of the other reviewers has mentioned that ...</td>\n",
       "      <td>positive</td>\n",
       "    </tr>\n",
       "    <tr>\n",
       "      <th>1</th>\n",
       "      <td>A wonderful little production. &lt;br /&gt;&lt;br /&gt;The...</td>\n",
       "      <td>positive</td>\n",
       "    </tr>\n",
       "    <tr>\n",
       "      <th>2</th>\n",
       "      <td>I thought this was a wonderful way to spend ti...</td>\n",
       "      <td>positive</td>\n",
       "    </tr>\n",
       "  </tbody>\n",
       "</table>\n",
       "</div>"
      ],
      "text/plain": [
       "                                              review sentiment\n",
       "0  One of the other reviewers has mentioned that ...  positive\n",
       "1  A wonderful little production. <br /><br />The...  positive\n",
       "2  I thought this was a wonderful way to spend ti...  positive"
      ]
     },
     "execution_count": 5,
     "metadata": {},
     "output_type": "execute_result"
    }
   ],
   "source": [
    "df = pd.read_csv('data/imdb/review.csv')\n",
    "df.head(3)"
   ]
  },
  {
   "cell_type": "code",
   "execution_count": 6,
   "metadata": {},
   "outputs": [],
   "source": [
    "vocab, train_loader, test_loader = load_data(df, batch_size=64)"
   ]
  },
  {
   "cell_type": "markdown",
   "metadata": {},
   "source": [
    "# 3. Train and evaluate model"
   ]
  },
  {
   "cell_type": "code",
   "execution_count": 7,
   "metadata": {},
   "outputs": [],
   "source": [
    "# import torch\n",
    "import torch.nn as nn\n",
    "\n",
    "class TextCNN(nn.Module):\n",
    "    def __init__(self, vocab_size, embedding_dim, num_classes, kernel_sizes, num_filters, dropout=0.5):\n",
    "        super(TextCNN, self).__init__()\n",
    "        \n",
    "        # Embedding Layer\n",
    "        self.embedding = nn.Embedding(vocab_size, embedding_dim)\n",
    "        \n",
    "        # Convolutional Layers with different kernel size\n",
    "        self.convs = nn.ModuleList([\n",
    "            nn.Conv2d(1, num_filters, (k, embedding_dim)) for k in kernel_sizes\n",
    "        ])\n",
    "        \n",
    "        self.dropout = nn.Dropout(dropout)\n",
    "        \n",
    "        # Fully Connected Layer\n",
    "        self.fc = nn.Linear(len(kernel_sizes) * num_filters, num_classes)\n",
    "\n",
    "    def forward(self, x):\n",
    "        # Get embedding\n",
    "        x = self.embedding(x)  # (batch_size, seq_length, embedding_dim)\n",
    "        x = x.unsqueeze(1)  # (batch_size, 1, seq_length, embedding_dim)\n",
    "\n",
    "        # Apply Conv\n",
    "        conv_results = [torch.relu(conv(x)).squeeze(3) for conv in self.convs]  # (batch_size, num_filters, seq_len - k + 1)\n",
    "        pooled_results = [torch.max(result, dim=2)[0] for result in conv_results]  # Max pooling\n",
    "\n",
    "        # Concate result from kernel sizes\n",
    "        x = torch.cat(pooled_results, dim=1)  # (batch_size, num_filters * len(kernel_sizes))\n",
    "        \n",
    "        x = self.dropout(x)\n",
    "        \n",
    "        # Fully connected layer to classification\n",
    "        x = self.fc(x)  # (batch_size, num_classes)\n",
    "        return x\n"
   ]
  },
  {
   "cell_type": "code",
   "execution_count": 8,
   "metadata": {},
   "outputs": [],
   "source": [
    "# import torch\n",
    "import tqdm\n",
    "\n",
    "\n",
    "# Train model\n",
    "def train(\n",
    "    model, criterion, optimizer, train_loader, device=torch.device(\"cpu\"), epochs=1\n",
    "):\n",
    "    model.to(device)\n",
    "\n",
    "    for epoch in range(epochs):\n",
    "        model.train()\n",
    "        running_loss = 0.0\n",
    "        correct = 0\n",
    "        total = 0\n",
    "\n",
    "        with tqdm.tqdm(train_loader, unit=\"batch\") as tepoch:\n",
    "            for inputs, labels in tepoch:\n",
    "                tepoch.set_description(f\"Epoch {epoch}\")\n",
    "                inputs = inputs.to(device)\n",
    "                labels = labels.to(device)\n",
    "\n",
    "                # Clear gradient\n",
    "                optimizer.zero_grad()\n",
    "\n",
    "                # Forward\n",
    "                outputs = model(inputs)\n",
    "\n",
    "                # Compute loss\n",
    "                loss = criterion(outputs, labels)\n",
    "                loss.backward()\n",
    "                optimizer.step()\n",
    "\n",
    "                running_loss += loss.item()\n",
    "\n",
    "                # Compute accuracy\n",
    "                _, predicted = torch.max(outputs, 1)\n",
    "                correct += (predicted == labels).sum().item()\n",
    "                total += labels.size(0)\n",
    "\n",
    "            epoch_loss = running_loss / len(train_loader)\n",
    "            epoch_acc = correct / total\n",
    "            print(\n",
    "                f\"Epoch {epoch+1}/{epochs}, Loss: {epoch_loss:.4f}, Accuracy: {epoch_acc:.4f}\"\n",
    "            )\n",
    "\n",
    "    return running_loss / len(train_loader)\n",
    "\n",
    "\n",
    "# Evaluate model\n",
    "def evaluate(model, test_loader, device=torch.device(\"cpu\")):\n",
    "    model.to(device)\n",
    "    # Evaluate model on test set\n",
    "    model.eval()\n",
    "    correct = 0\n",
    "    total = 0\n",
    "    with torch.no_grad():\n",
    "        for inputs, labels in test_loader:\n",
    "            inputs = inputs.to(device)\n",
    "            labels = labels.to(device)\n",
    "\n",
    "            outputs = model(inputs)\n",
    "            _, predicted = torch.max(outputs, 1)\n",
    "            correct += (predicted == labels).sum().item()\n",
    "            total += labels.size(0)\n",
    "\n",
    "    accuracy = correct / total\n",
    "    print(f\"Test Accuracy: {accuracy:.4f}\")\n",
    "    return accuracy\n",
    "\n",
    "\n",
    "# Save model\n",
    "def save(model, filepath):\n",
    "    torch.save(model.state_dict(), filepath)\n"
   ]
  },
  {
   "cell_type": "code",
   "execution_count": 9,
   "metadata": {},
   "outputs": [],
   "source": [
    "# Init model\n",
    "vocab_size = len(vocab)\n",
    "embedding_dim = 100\n",
    "num_classes = 2  # Positive/Negative\n",
    "kernel_sizes = [3, 4, 5]\n",
    "num_filters = 100\n",
    "\n",
    "model = TextCNN(vocab_size, embedding_dim, num_classes, kernel_sizes, num_filters)"
   ]
  },
  {
   "cell_type": "code",
   "execution_count": 10,
   "metadata": {},
   "outputs": [],
   "source": [
    "# Define Loss and Optimizer\n",
    "criterion = nn.CrossEntropyLoss()\n",
    "optimizer = torch.optim.Adam(model.parameters(), lr=0.001)"
   ]
  },
  {
   "cell_type": "code",
   "execution_count": 11,
   "metadata": {},
   "outputs": [
    {
     "name": "stderr",
     "output_type": "stream",
     "text": [
      "Epoch 0: 100%|██████████| 625/625 [00:06<00:00, 98.32batch/s] \n"
     ]
    },
    {
     "name": "stdout",
     "output_type": "stream",
     "text": [
      "Epoch 1/5, Loss: 0.5689, Accuracy: 0.7029\n"
     ]
    },
    {
     "name": "stderr",
     "output_type": "stream",
     "text": [
      "Epoch 1: 100%|██████████| 625/625 [00:06<00:00, 103.44batch/s]\n"
     ]
    },
    {
     "name": "stdout",
     "output_type": "stream",
     "text": [
      "Epoch 2/5, Loss: 0.4164, Accuracy: 0.8056\n"
     ]
    },
    {
     "name": "stderr",
     "output_type": "stream",
     "text": [
      "Epoch 2: 100%|██████████| 625/625 [00:06<00:00, 103.44batch/s]\n"
     ]
    },
    {
     "name": "stdout",
     "output_type": "stream",
     "text": [
      "Epoch 3/5, Loss: 0.3459, Accuracy: 0.8492\n"
     ]
    },
    {
     "name": "stderr",
     "output_type": "stream",
     "text": [
      "Epoch 3: 100%|██████████| 625/625 [00:06<00:00, 102.82batch/s]\n"
     ]
    },
    {
     "name": "stdout",
     "output_type": "stream",
     "text": [
      "Epoch 4/5, Loss: 0.2955, Accuracy: 0.8748\n"
     ]
    },
    {
     "name": "stderr",
     "output_type": "stream",
     "text": [
      "Epoch 4: 100%|██████████| 625/625 [00:06<00:00, 102.23batch/s]"
     ]
    },
    {
     "name": "stdout",
     "output_type": "stream",
     "text": [
      "Epoch 5/5, Loss: 0.2590, Accuracy: 0.8920\n"
     ]
    },
    {
     "name": "stderr",
     "output_type": "stream",
     "text": [
      "\n"
     ]
    },
    {
     "data": {
      "text/plain": [
       "0.258951305603981"
      ]
     },
     "execution_count": 11,
     "metadata": {},
     "output_type": "execute_result"
    }
   ],
   "source": [
    "train(model=model, criterion=criterion, optimizer=optimizer, train_loader=train_loader, device=device, epochs=5)"
   ]
  },
  {
   "cell_type": "code",
   "execution_count": 12,
   "metadata": {},
   "outputs": [
    {
     "name": "stdout",
     "output_type": "stream",
     "text": [
      "Test Accuracy: 0.8800\n"
     ]
    },
    {
     "data": {
      "text/plain": [
       "0.88"
      ]
     },
     "execution_count": 12,
     "metadata": {},
     "output_type": "execute_result"
    }
   ],
   "source": [
    "evaluate(model=model, test_loader=test_loader, device=device)"
   ]
  },
  {
   "cell_type": "code",
   "execution_count": 13,
   "metadata": {},
   "outputs": [],
   "source": [
    "save(model, 'models/model1.pth')"
   ]
  },
  {
   "cell_type": "markdown",
   "metadata": {},
   "source": [
    "# 4. Hyperparameter tuning"
   ]
  },
  {
   "cell_type": "code",
   "execution_count": 14,
   "metadata": {},
   "outputs": [],
   "source": [
    "# from data_loader import load_data\n",
    "# from model_controller import train\n",
    "# from text_cnn import TextCNN\n",
    "\n",
    "# import torch.nn as nn\n",
    "\n",
    "# from itertools import product\n",
    "# from torch.optim import Adam, SGD\n",
    "\n",
    "\n",
    "\n",
    "# # Fine tuning model\n",
    "# def hyper_tuning(dataframe, epochs=5):\n",
    "#     param_grid = {\n",
    "#         'batch_size': [16, 32, 64],\n",
    "#         'learning_rate': [1e-3, 5e-3],\n",
    "#         'optimizer': ['SGD', 'Adam'],\n",
    "#         'embedding_dim': [50, 100, 150],\n",
    "#         'num_filters': [50, 100, 150]\n",
    "#     }\n",
    "\n",
    "#     param_combinations = list(product(*param_grid.values()))\n",
    "    \n",
    "#     best_params = None\n",
    "#     best_loss = float('inf')\n",
    "#     for params in param_combinations:\n",
    "#         batch_size, lr, opt, emb_dim, num_fils = params\n",
    "#         print(f\"\\nTesting with batch size={batch_size}, learning rate={lr}, optimizer={opt}, embedding_dim={emb_dim}, num_filters={num_fils}\")\n",
    "        \n",
    "#         vocab, train_loader, _ = load_data(dataframe, batch_size=batch_size)\n",
    "        \n",
    "#         vocab_size = len(vocab)\n",
    "#         embedding_dim = emb_dim\n",
    "#         num_classes = 2  # Positive/Negative\n",
    "#         kernel_sizes = [3, 4, 5]\n",
    "#         num_filters = num_fils\n",
    "\n",
    "#         model = TextCNN(vocab_size, embedding_dim, num_classes, kernel_sizes, num_filters)\n",
    "\n",
    "#         criterion = nn.CrossEntropyLoss()\n",
    "#         optimizer = SGD(model.parameters(), lr=lr) if opt == 'SGD' else Adam(model.parameters(), lr=lr)\n",
    "\n",
    "#         avg_loss = train(model=model, criterion=criterion, optimizer=optimizer, train_loader=train_loader, epochs=epochs)\n",
    "        \n",
    "#         if avg_loss < best_loss:\n",
    "#             best_loss = avg_loss\n",
    "#             best_params = {\n",
    "#                 'batch_size': batch_size,\n",
    "#                 'learning_rate': lr,\n",
    "#                 'optimizer': opt,\n",
    "#                 'embedding_dim': emb_dim,\n",
    "#                 'num_filters': num_fils\n",
    "#             }\n",
    "\n",
    "#     return best_params, best_loss"
   ]
  },
  {
   "cell_type": "code",
   "execution_count": 15,
   "metadata": {},
   "outputs": [],
   "source": [
    "df = pd.read_csv('data/imdb/review.csv')"
   ]
  },
  {
   "cell_type": "code",
   "execution_count": 16,
   "metadata": {},
   "outputs": [
    {
     "ename": "NameError",
     "evalue": "name 'hyper_tuning' is not defined",
     "output_type": "error",
     "traceback": [
      "\u001b[1;31m---------------------------------------------------------------------------\u001b[0m",
      "\u001b[1;31mNameError\u001b[0m                                 Traceback (most recent call last)",
      "Cell \u001b[1;32mIn[16], line 1\u001b[0m\n\u001b[1;32m----> 1\u001b[0m best_params, best_loss \u001b[38;5;241m=\u001b[39m \u001b[43mhyper_tuning\u001b[49m(df, epochs\u001b[38;5;241m=\u001b[39m\u001b[38;5;241m5\u001b[39m)\n",
      "\u001b[1;31mNameError\u001b[0m: name 'hyper_tuning' is not defined"
     ]
    }
   ],
   "source": [
    "best_params, best_loss = hyper_tuning(df, epochs=5)"
   ]
  },
  {
   "cell_type": "code",
   "execution_count": null,
   "metadata": {},
   "outputs": [],
   "source": [
    "print(f'Best params: {best_params}\\n\\nBest loss: {best_loss}')"
   ]
  },
  {
   "cell_type": "markdown",
   "metadata": {},
   "source": []
  }
 ],
 "metadata": {
  "kernelspec": {
   "display_name": "Python 3",
   "language": "python",
   "name": "python3"
  },
  "language_info": {
   "codemirror_mode": {
    "name": "ipython",
    "version": 3
   },
   "file_extension": ".py",
   "mimetype": "text/x-python",
   "name": "python",
   "nbconvert_exporter": "python",
   "pygments_lexer": "ipython3",
   "version": "3.12.4"
  }
 },
 "nbformat": 4,
 "nbformat_minor": 2
}
