{
 "cells": [
  {
   "cell_type": "markdown",
   "metadata": {},
   "source": [
    "# 1. Import requirements"
   ]
  },
  {
   "cell_type": "code",
   "execution_count": 1,
   "metadata": {},
   "outputs": [],
   "source": [
    "# ! pip install -r requirements.txt"
   ]
  },
  {
   "cell_type": "code",
   "execution_count": 2,
   "metadata": {},
   "outputs": [],
   "source": [
    "# from data_loader import *\n",
    "# from text_cnn import TextCNN\n",
    "# from model_controller import *\n",
    "# from hyper_tuning import hyper_tuning\n",
    "\n",
    "import pandas as pd\n",
    "import torch\n",
    "# import torch.nn as nn"
   ]
  },
  {
   "cell_type": "code",
   "execution_count": 3,
   "metadata": {},
   "outputs": [
    {
     "data": {
      "text/plain": [
       "device(type='cuda')"
      ]
     },
     "execution_count": 3,
     "metadata": {},
     "output_type": "execute_result"
    }
   ],
   "source": [
    "device = torch.device('cuda' if torch.cuda.is_available() else 'cpu')\n",
    "device"
   ]
  },
  {
   "cell_type": "markdown",
   "metadata": {},
   "source": [
    "# 2. Load dataset"
   ]
  },
  {
   "cell_type": "code",
   "execution_count": 4,
   "metadata": {},
   "outputs": [],
   "source": [
    "from torch.utils.data import Dataset, DataLoader\n",
    "\n",
    "import nltk\n",
    "from nltk.tokenize import word_tokenize\n",
    "from nltk.stem import PorterStemmer, WordNetLemmatizer\n",
    "from nltk.corpus import stopwords\n",
    "import string\n",
    "\n",
    "import numpy as np\n",
    "from sklearn.model_selection import train_test_split\n",
    "from collections import Counter        \n",
    "\n",
    "LANGUAGE='english'\n",
    "\n",
    "# Load requirements\n",
    "def load_requirements():\n",
    "    # Init neccessary tools\n",
    "    nltk.download(\"punkt\")\n",
    "    nltk.download(\"punkt_tab\")\n",
    "    nltk.download(\"stopwords\")\n",
    "    nltk.download(\"wordnet\")\n",
    "\n",
    "# Define dataset\n",
    "class TextDataset(Dataset):\n",
    "    def __init__(self, texts, labels):\n",
    "        self.texts = texts.long()\n",
    "        self.labels = labels.long()\n",
    "\n",
    "    def __len__(self):\n",
    "        return len(self.texts)\n",
    "\n",
    "    def __getitem__(self, idx):\n",
    "        return self.texts[idx], self.labels[idx]\n",
    "\n",
    "# Sentence preprocessing function\n",
    "def preprocess_text(text):\n",
    "    stemmer = PorterStemmer()\n",
    "    lemmatizer = WordNetLemmatizer()\n",
    "    stop_words = set(stopwords.words(LANGUAGE))\n",
    "    \n",
    "    text = text.lower()  # Convert into lower case\n",
    "    tokens = word_tokenize(text)\n",
    "    tokens = [\n",
    "        word for word in tokens if word not in string.punctuation\n",
    "    ]  # Remove punctuation\n",
    "    tokens = [\n",
    "        word for word in tokens if word not in stop_words\n",
    "    ]  # Remove stopwords\n",
    "    tokens = [stemmer.stem(word) for word in tokens]  # Stemming\n",
    "    tokens = [lemmatizer.lemmatize(word) for word in tokens]  # Lematizing\n",
    "    return \" \".join(tokens)\n",
    "\n",
    "# Build vocab\n",
    "def build_vocab(texts, max_vocab_size=10000):\n",
    "    word_counts = Counter()\n",
    "    for text in texts:\n",
    "        word_counts.update(text.split())\n",
    "    vocab = {\n",
    "        word: idx + 2\n",
    "        for idx, (word, _) in enumerate(word_counts.most_common(max_vocab_size))\n",
    "    }\n",
    "    vocab[\"<PAD>\"] = 0\n",
    "    vocab[\"<UNK>\"] = 1\n",
    "    return vocab\n",
    "\n",
    "# Indexing\n",
    "def encode_text(text, vocab):\n",
    "    return [vocab.get(word, vocab[\"<UNK>\"]) for word in text.split()]\n",
    "\n",
    "# Encode padding for train and test set\n",
    "def pad_sequences(sequences, max_length):\n",
    "    padded_sequences = []\n",
    "    for seq in sequences:\n",
    "        if len(seq) > max_length:\n",
    "            padded_sequences.append(seq[:max_length])\n",
    "        elif len(seq) < max_length:\n",
    "            padded_sequences.append(seq + [0] * (max_length - len(seq)))\n",
    "        else:\n",
    "            padded_sequences.append(seq)\n",
    "    return torch.Tensor(padded_sequences)\n",
    "\n",
    "def load_dataset(dataframe, max_length):\n",
    "    # Split data into train and test\n",
    "    X_train, X_test, y_train, y_test = train_test_split(\n",
    "        dataframe[\"review\"], dataframe[\"sentiment\"], test_size=0.2, random_state=42\n",
    "    )\n",
    "\n",
    "    # Build vocab\n",
    "    vocab = build_vocab(X_train)\n",
    "\n",
    "    # Encode and padding\n",
    "    X_train_encoded = [encode_text(text, vocab) for text in X_train]\n",
    "    X_test_encoded = [encode_text(text, vocab) for text in X_test]\n",
    "    X_train_padded = pad_sequences(X_train_encoded, max_length)\n",
    "    X_test_padded = pad_sequences(X_test_encoded, max_length)\n",
    "\n",
    "    # Convert into Tensor\n",
    "    y_train = torch.tensor([1 if label == \"positive\" else 0 for label in y_train])\n",
    "    y_test = torch.tensor([1 if label == \"positive\" else 0 for label in y_test])\n",
    "    \n",
    "    train_dataset = TextDataset(X_train_padded, y_train)\n",
    "    test_dataset = TextDataset(X_test_padded, y_test)\n",
    "\n",
    "    return vocab, train_dataset, test_dataset\n",
    "\n",
    "\n",
    "# Universal function to load embeddings\n",
    "def load_pretrained_embeddings(file_path, embedding_type='glove'):\n",
    "    embeddings = {}\n",
    "\n",
    "    if embedding_type == 'glove':  # GloVe Format\n",
    "        with open(file_path, 'r', encoding='utf-8') as f:\n",
    "            for line in f:\n",
    "                values = line.split()\n",
    "                word = values[0]\n",
    "                vector = np.asarray(values[1:], dtype='float32')\n",
    "                embeddings[word] = vector\n",
    "\n",
    "    elif embedding_type == 'word2vec':  # Word2Vec Text Format\n",
    "        with open(file_path, 'r', encoding='utf-8') as f:\n",
    "            next(f)  # Skip the first line (header line with vocab size, dimensions)\n",
    "            for line in f:\n",
    "                values = line.split()\n",
    "                word = values[0]\n",
    "                vector = np.asarray(values[1:], dtype='float32')\n",
    "                embeddings[word] = vector\n",
    "\n",
    "    elif embedding_type == 'fasttext':  # FastText Format\n",
    "        with open(file_path, 'r', encoding='utf-8') as f:\n",
    "            next(f)  # Skip the first line (header line)\n",
    "            for line in f:\n",
    "                values = line.split()\n",
    "                word = values[0]\n",
    "                vector = np.asarray(values[1:], dtype='float32')\n",
    "                embeddings[word] = vector\n",
    "\n",
    "    else:\n",
    "        raise ValueError(f\"Unsupported embedding type: {embedding_type}\")\n",
    "\n",
    "    return embeddings\n",
    "\n",
    "# Function to create an embedding matrix\n",
    "def create_embedding_matrix(vocab, pretrained_embeddings, embedding_dim, unk_token='<UNK>'):\n",
    "    vocab_size = len(vocab)\n",
    "    embedding_matrix = np.zeros((vocab_size, embedding_dim))\n",
    "\n",
    "    for word, idx in vocab.items():\n",
    "        if word in pretrained_embeddings:\n",
    "            embedding_matrix[idx] = pretrained_embeddings[word]\n",
    "        else:\n",
    "            embedding_matrix[idx] = np.random.normal(size=(embedding_dim,))  # Random for unknowns\n",
    "\n",
    "    # Handle the unknown token if present\n",
    "    if unk_token in vocab:\n",
    "        embedding_matrix[vocab[unk_token]] = np.random.normal(size=(embedding_dim,))\n",
    "\n",
    "    return torch.tensor(embedding_matrix, dtype=torch.float32)"
   ]
  },
  {
   "cell_type": "code",
   "execution_count": 5,
   "metadata": {},
   "outputs": [
    {
     "name": "stderr",
     "output_type": "stream",
     "text": [
      "[nltk_data] Downloading package punkt to\n",
      "[nltk_data]     C:\\Users\\longt\\AppData\\Roaming\\nltk_data...\n",
      "[nltk_data]   Package punkt is already up-to-date!\n",
      "[nltk_data] Downloading package punkt_tab to\n",
      "[nltk_data]     C:\\Users\\longt\\AppData\\Roaming\\nltk_data...\n",
      "[nltk_data]   Package punkt_tab is already up-to-date!\n",
      "[nltk_data] Downloading package stopwords to\n",
      "[nltk_data]     C:\\Users\\longt\\AppData\\Roaming\\nltk_data...\n",
      "[nltk_data]   Package stopwords is already up-to-date!\n",
      "[nltk_data] Downloading package wordnet to\n",
      "[nltk_data]     C:\\Users\\longt\\AppData\\Roaming\\nltk_data...\n",
      "[nltk_data]   Package wordnet is already up-to-date!\n"
     ]
    }
   ],
   "source": [
    "load_requirements()"
   ]
  },
  {
   "cell_type": "code",
   "execution_count": 6,
   "metadata": {},
   "outputs": [
    {
     "data": {
      "text/html": [
       "<div>\n",
       "<style scoped>\n",
       "    .dataframe tbody tr th:only-of-type {\n",
       "        vertical-align: middle;\n",
       "    }\n",
       "\n",
       "    .dataframe tbody tr th {\n",
       "        vertical-align: top;\n",
       "    }\n",
       "\n",
       "    .dataframe thead th {\n",
       "        text-align: right;\n",
       "    }\n",
       "</style>\n",
       "<table border=\"1\" class=\"dataframe\">\n",
       "  <thead>\n",
       "    <tr style=\"text-align: right;\">\n",
       "      <th></th>\n",
       "      <th>review</th>\n",
       "      <th>sentiment</th>\n",
       "    </tr>\n",
       "  </thead>\n",
       "  <tbody>\n",
       "    <tr>\n",
       "      <th>0</th>\n",
       "      <td>One of the other reviewers has mentioned that ...</td>\n",
       "      <td>positive</td>\n",
       "    </tr>\n",
       "    <tr>\n",
       "      <th>1</th>\n",
       "      <td>A wonderful little production. &lt;br /&gt;&lt;br /&gt;The...</td>\n",
       "      <td>positive</td>\n",
       "    </tr>\n",
       "    <tr>\n",
       "      <th>2</th>\n",
       "      <td>I thought this was a wonderful way to spend ti...</td>\n",
       "      <td>positive</td>\n",
       "    </tr>\n",
       "  </tbody>\n",
       "</table>\n",
       "</div>"
      ],
      "text/plain": [
       "                                              review sentiment\n",
       "0  One of the other reviewers has mentioned that ...  positive\n",
       "1  A wonderful little production. <br /><br />The...  positive\n",
       "2  I thought this was a wonderful way to spend ti...  positive"
      ]
     },
     "execution_count": 6,
     "metadata": {},
     "output_type": "execute_result"
    }
   ],
   "source": [
    "df = pd.read_csv('data/imdb/review.csv')\n",
    "df.head(3)"
   ]
  },
  {
   "cell_type": "code",
   "execution_count": 7,
   "metadata": {},
   "outputs": [],
   "source": [
    "df['review'] = df['review'].apply(preprocess_text)"
   ]
  },
  {
   "cell_type": "code",
   "execution_count": 8,
   "metadata": {},
   "outputs": [],
   "source": [
    "MAX_SEQ_LENGTH = 150  # Max length of sentence to encode\n",
    "\n",
    "vocab, train_dataset, test_dataset = load_dataset(df, MAX_SEQ_LENGTH)"
   ]
  },
  {
   "cell_type": "code",
   "execution_count": 9,
   "metadata": {},
   "outputs": [],
   "source": [
    "train_loader = DataLoader(train_dataset, batch_size=64, shuffle=True)\n",
    "test_loader = DataLoader(train_dataset, batch_size=64, shuffle=False)"
   ]
  },
  {
   "cell_type": "markdown",
   "metadata": {},
   "source": [
    "# 3. Train and evaluate model"
   ]
  },
  {
   "cell_type": "code",
   "execution_count": 10,
   "metadata": {},
   "outputs": [],
   "source": [
    "# import torch\n",
    "import torch.nn as nn\n",
    "\n",
    "class TextCNN(nn.Module):\n",
    "    def __init__(self, vocab_size, embedding_dim, num_classes, kernel_sizes, hidden_size, num_filters, embedding_matrix=None, dropout=0.5):\n",
    "        super(TextCNN, self).__init__()\n",
    "        \n",
    "        # Embedding Layer\n",
    "        if embedding_matrix is None:\n",
    "            self.embedding = nn.Embedding(vocab_size, embedding_dim)\n",
    "        else:\n",
    "            self.embedding = nn.Embedding.from_pretrained(embedding_matrix, freeze=False)\n",
    "        \n",
    "        # Convolutional Layers with different kernel size\n",
    "        self.convs = nn.ModuleList([\n",
    "            nn.Conv2d(1, num_filters, (k, embedding_dim)) for k in kernel_sizes\n",
    "        ])\n",
    "        \n",
    "        self.dropout = nn.Dropout(dropout)\n",
    "        \n",
    "        # Fully Connected Layer\n",
    "        self.fc = nn.Linear(len(kernel_sizes) * num_filters, hidden_size)\n",
    "        self.clf = nn.Linear(hidden_size, num_classes)\n",
    "\n",
    "    def forward(self, x):\n",
    "        # Get embedding\n",
    "        x = self.embedding(x)  # (batch_size, seq_length, embedding_dim)\n",
    "        x = x.unsqueeze(1)  # (batch_size, 1, seq_length, embedding_dim)\n",
    "\n",
    "        # Apply Conv\n",
    "        conv_results = [torch.relu(conv(x)).squeeze(3) for conv in self.convs]  # (batch_size, num_filters, seq_len - k + 1)\n",
    "        pooled_results = [torch.max(result, dim=2)[0] for result in conv_results]  # Max pooling\n",
    "\n",
    "        # Concate result from kernel sizes\n",
    "        x = torch.cat(pooled_results, dim=1)  # (batch_size, num_filters * len(kernel_sizes))\n",
    "        \n",
    "        x = self.dropout(x)\n",
    "        \n",
    "        # Fully connected layer to classification\n",
    "        x = self.fc(x)  # (batch_size, num_classes)\n",
    "        \n",
    "        x = self.clf(x)\n",
    "        return x\n"
   ]
  },
  {
   "cell_type": "code",
   "execution_count": 11,
   "metadata": {},
   "outputs": [],
   "source": [
    "import tqdm\n",
    "\n",
    "\n",
    "# Train model\n",
    "def train(\n",
    "    model, criterion, optimizer, train_loader, device=torch.device(\"cpu\"), epochs=1\n",
    "):\n",
    "    model.to(device)\n",
    "\n",
    "    for epoch in range(epochs):\n",
    "        model.train()\n",
    "        running_loss = 0.0\n",
    "        correct = 0\n",
    "        total = 0\n",
    "\n",
    "        with tqdm.tqdm(train_loader, unit=\"batch\") as tepoch:\n",
    "            for inputs, labels in tepoch:\n",
    "                tepoch.set_description(f\"Epoch {epoch+1}/{epochs}\")\n",
    "                inputs = inputs.to(device)\n",
    "                labels = labels.to(device)\n",
    "\n",
    "                # Clear gradient\n",
    "                optimizer.zero_grad()\n",
    "\n",
    "                # Forward\n",
    "                outputs = model(inputs)\n",
    "\n",
    "                # Compute loss\n",
    "                loss = criterion(outputs, labels)\n",
    "                loss.backward()\n",
    "                optimizer.step()\n",
    "\n",
    "                running_loss += loss.item()\n",
    "\n",
    "                # Compute accuracy\n",
    "                _, predicted = torch.max(outputs, 1)\n",
    "                correct += (predicted == labels).sum().item()\n",
    "                total += labels.size(0)\n",
    "\n",
    "            epoch_loss = running_loss / len(train_loader)\n",
    "            epoch_acc = correct / total\n",
    "            print(\n",
    "                f\"|----> Loss: {epoch_loss:.4f}, Accuracy: {epoch_acc:.4f}\"\n",
    "            )\n",
    "\n",
    "    return running_loss / len(train_loader)\n",
    "\n",
    "\n",
    "# Evaluate model\n",
    "def evaluate(model, test_loader, device=torch.device(\"cpu\")):\n",
    "    model.to(device)\n",
    "    # Evaluate model on test set\n",
    "    model.eval()\n",
    "    correct = 0\n",
    "    total = 0\n",
    "    with torch.no_grad():\n",
    "        for inputs, labels in test_loader:\n",
    "            inputs = inputs.to(device)\n",
    "            labels = labels.to(device)\n",
    "\n",
    "            outputs = model(inputs)\n",
    "            _, predicted = torch.max(outputs, 1)\n",
    "            correct += (predicted == labels).sum().item()\n",
    "            total += labels.size(0)\n",
    "\n",
    "    accuracy = correct / total\n",
    "    print(f\"Test Accuracy: {accuracy:.4f}\")\n",
    "    return accuracy\n",
    "\n",
    "\n",
    "# Save model\n",
    "def save(model, filepath):\n",
    "    torch.save(model.state_dict(), filepath)\n"
   ]
  },
  {
   "cell_type": "code",
   "execution_count": 12,
   "metadata": {},
   "outputs": [],
   "source": [
    "# Init model\n",
    "vocab_size = len(vocab)\n",
    "embedding_dim = 100\n",
    "num_classes = 2  # Positive/Negative\n",
    "kernel_sizes = [3, 4, 5]\n",
    "hidden_size = 50\n",
    "num_filters = 100\n",
    "\n",
    "pretrained_path = \"pretrained_emb/glove.twitter.27B.100d.txt\"\n",
    "pretrained_embeddings = load_pretrained_embeddings(pretrained_path, embedding_type='glove')\n",
    "\n",
    "# Create embedding matrix\n",
    "embedding_matrix = create_embedding_matrix(vocab, pretrained_embeddings, embedding_dim)\n",
    "\n",
    "\n",
    "model = TextCNN(vocab_size, embedding_dim, num_classes, kernel_sizes, hidden_size, num_filters, embedding_matrix)"
   ]
  },
  {
   "cell_type": "code",
   "execution_count": 13,
   "metadata": {},
   "outputs": [],
   "source": [
    "# Define Loss and Optimizer\n",
    "criterion = nn.CrossEntropyLoss()\n",
    "optimizer = torch.optim.Adam(model.parameters(), lr=0.001)"
   ]
  },
  {
   "cell_type": "code",
   "execution_count": 14,
   "metadata": {},
   "outputs": [
    {
     "name": "stderr",
     "output_type": "stream",
     "text": [
      "Epoch 1/5: 100%|██████████| 625/625 [00:04<00:00, 125.72batch/s]\n"
     ]
    },
    {
     "name": "stdout",
     "output_type": "stream",
     "text": [
      "|----> Loss: 0.4960, Accuracy: 0.7453\n"
     ]
    },
    {
     "name": "stderr",
     "output_type": "stream",
     "text": [
      "Epoch 2/5: 100%|██████████| 625/625 [00:04<00:00, 144.47batch/s]\n"
     ]
    },
    {
     "name": "stdout",
     "output_type": "stream",
     "text": [
      "|----> Loss: 0.3243, Accuracy: 0.8603\n"
     ]
    },
    {
     "name": "stderr",
     "output_type": "stream",
     "text": [
      "Epoch 3/5: 100%|██████████| 625/625 [00:04<00:00, 145.27batch/s]\n"
     ]
    },
    {
     "name": "stdout",
     "output_type": "stream",
     "text": [
      "|----> Loss: 0.2599, Accuracy: 0.8926\n"
     ]
    },
    {
     "name": "stderr",
     "output_type": "stream",
     "text": [
      "Epoch 4/5: 100%|██████████| 625/625 [00:04<00:00, 141.39batch/s]\n"
     ]
    },
    {
     "name": "stdout",
     "output_type": "stream",
     "text": [
      "|----> Loss: 0.2116, Accuracy: 0.9143\n"
     ]
    },
    {
     "name": "stderr",
     "output_type": "stream",
     "text": [
      "Epoch 5/5: 100%|██████████| 625/625 [00:05<00:00, 118.70batch/s]"
     ]
    },
    {
     "name": "stdout",
     "output_type": "stream",
     "text": [
      "|----> Loss: 0.1674, Accuracy: 0.9356\n"
     ]
    },
    {
     "name": "stderr",
     "output_type": "stream",
     "text": [
      "\n"
     ]
    },
    {
     "data": {
      "text/plain": [
       "0.16740304749011994"
      ]
     },
     "execution_count": 14,
     "metadata": {},
     "output_type": "execute_result"
    }
   ],
   "source": [
    "train(model=model, criterion=criterion, optimizer=optimizer, train_loader=train_loader, device=device, epochs=5)"
   ]
  },
  {
   "cell_type": "code",
   "execution_count": 15,
   "metadata": {},
   "outputs": [
    {
     "name": "stdout",
     "output_type": "stream",
     "text": [
      "Test Accuracy: 0.9781\n"
     ]
    },
    {
     "data": {
      "text/plain": [
       "0.978125"
      ]
     },
     "execution_count": 15,
     "metadata": {},
     "output_type": "execute_result"
    }
   ],
   "source": [
    "evaluate(model=model, test_loader=test_loader, device=device)"
   ]
  },
  {
   "cell_type": "code",
   "execution_count": 16,
   "metadata": {},
   "outputs": [],
   "source": [
    "save(model, 'save/models/model1.pth')"
   ]
  },
  {
   "cell_type": "markdown",
   "metadata": {},
   "source": [
    "# 4. Hyperparameter tuning"
   ]
  },
  {
   "cell_type": "code",
   "execution_count": null,
   "metadata": {},
   "outputs": [],
   "source": [
    "from itertools import product\n",
    "from torch.utils.data import DataLoader\n",
    "\n",
    "import torch.nn as nn\n",
    "from torch.optim import Adam, SGD\n",
    "\n",
    "def hyper_tuning(\n",
    "    model_class,  # Model class (e.g., TextCNN, RNN)\n",
    "    param_grid,   # Dictionary of hyperparameters\n",
    "    data_loader_fn,  # DataLoader function (e.g., DataLoader)\n",
    "    train_fn,  # Training function (e.g., train)\n",
    "    train_dataset,  # Training dataset\n",
    "    device=torch.device('cpu'),  # Device to run on\n",
    "    epochs=5  # Number of epochs\n",
    "):\n",
    "    param_combinations = list(product(*param_grid.values()))\n",
    "    \n",
    "    best_params = None\n",
    "    best_loss = float('inf')\n",
    "    for params in param_combinations:\n",
    "        param_dict = dict(zip(param_grid.keys(), params))\n",
    "        print(f\"\\nTesting with parameters: {param_dict}\")\n",
    "        \n",
    "        # Create DataLoader\n",
    "        train_loader = data_loader_fn(train_dataset, batch_size=param_dict['batch_size'], shuffle=True)\n",
    "        \n",
    "        # Initialize model\n",
    "        model = model_class(**param_dict['model_params'])\n",
    "        \n",
    "        # Loss function\n",
    "        criterion = nn.CrossEntropyLoss()\n",
    "        \n",
    "        # Optimizer\n",
    "        optimizer_class = SGD if param_dict['optimizer'] == 'SGD' else Adam\n",
    "        optimizer = optimizer_class(model.parameters(), lr=param_dict['learning_rate'])\n",
    "\n",
    "        # Train and calculate loss\n",
    "        avg_loss = train_fn(\n",
    "            model=model,\n",
    "            criterion=criterion,\n",
    "            optimizer=optimizer,\n",
    "            train_loader=train_loader,\n",
    "            device=device,\n",
    "            epochs=epochs\n",
    "        )\n",
    "        \n",
    "        # Update best parameters\n",
    "        if avg_loss < best_loss:\n",
    "            best_loss = avg_loss\n",
    "            best_params = param_dict\n",
    "\n",
    "    return best_params, best_loss\n"
   ]
  },
  {
   "cell_type": "code",
   "execution_count": null,
   "metadata": {},
   "outputs": [],
   "source": [
    "param_grid = {\n",
    "    'batch_size': [16, 32, 64],\n",
    "    'learning_rate': [1e-3, 5e-3],\n",
    "    'optimizer': ['SGD', 'Adam'],\n",
    "    'model_params': [\n",
    "        {\n",
    "            'vocab_size': len(vocab), \n",
    "            'embedding_dim': emb_dim, \n",
    "            'num_classes': 2, \n",
    "            'kernel_sizes': [3, 4, 5], \n",
    "            'num_filters': num_fils,\n",
    "            'embedding_matrix': embedding_matrix\n",
    "        }\n",
    "        for emb_dim in [50, 100, 150]\n",
    "        for num_fils in [50, 100, 150]\n",
    "    ]\n",
    "}\n",
    "\n",
    "best_params, best_loss = hyper_tuning(\n",
    "    model_class=TextCNN,\n",
    "    param_grid=param_grid,\n",
    "    data_loader_fn=DataLoader,\n",
    "    train_fn=train,\n",
    "    train_dataset=train_dataset,\n",
    "    device=device,\n",
    "    epochs=5\n",
    ")\n",
    "\n",
    "print(\"Best Hyperparameters:\", best_params)\n",
    "print(\"Best Loss:\", best_loss)\n"
   ]
  },
  {
   "cell_type": "code",
   "execution_count": null,
   "metadata": {},
   "outputs": [],
   "source": [
    "print(f'Best params: {best_params}\\n\\nBest loss: {best_loss}')"
   ]
  },
  {
   "cell_type": "markdown",
   "metadata": {},
   "source": []
  },
  {
   "cell_type": "code",
   "execution_count": null,
   "metadata": {},
   "outputs": [],
   "source": [
    "vocab_size = len(vocab)\n",
    "embedding_dim = best_params['embedding_dim']\n",
    "num_classes = 2  # Positive/Negative\n",
    "kernel_sizes = [3, 4, 5]\n",
    "num_filters = best_params['num_filters']\n",
    "\n",
    "train_loader = DataLoader(train_dataset, batch_size=best_params['batch_size'], shuffle=True)\n",
    "\n",
    "model = TextCNN(vocab_size, embedding_dim, num_classes, kernel_sizes, num_filters)\n",
    "\n",
    "criterion = nn.CrossEntropyLoss()\n",
    "optimizer = SGD(model.parameters(), lr=best_params['learning_rate']) if best_params['optimizer'] == 'SGD' else Adam(model.parameters(), lr=best_params['learning_rate'])"
   ]
  },
  {
   "cell_type": "code",
   "execution_count": null,
   "metadata": {},
   "outputs": [],
   "source": [
    "train(model=model, criterion=criterion, optimizer=optimizer, train_loader=train_loader, device=device, epochs=5)"
   ]
  },
  {
   "cell_type": "code",
   "execution_count": null,
   "metadata": {},
   "outputs": [],
   "source": [
    "test_loader = DataLoader(train_dataset, batch_size=best_params['batch_size'], shuffle=False)\n",
    "\n",
    "evaluate(model=model, device=device, test_loader=test_loader)"
   ]
  },
  {
   "cell_type": "code",
   "execution_count": null,
   "metadata": {},
   "outputs": [],
   "source": [
    "# save(model=model, filepath='save/models/best_model.pth')"
   ]
  },
  {
   "cell_type": "code",
   "execution_count": null,
   "metadata": {},
   "outputs": [],
   "source": [
    "# torch.save(best_params, 'save/params/best_params.pth')"
   ]
  }
 ],
 "metadata": {
  "kernelspec": {
   "display_name": "Python 3",
   "language": "python",
   "name": "python3"
  },
  "language_info": {
   "codemirror_mode": {
    "name": "ipython",
    "version": 3
   },
   "file_extension": ".py",
   "mimetype": "text/x-python",
   "name": "python",
   "nbconvert_exporter": "python",
   "pygments_lexer": "ipython3",
   "version": "3.12.4"
  }
 },
 "nbformat": 4,
 "nbformat_minor": 2
}
