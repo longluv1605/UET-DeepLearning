{
 "cells": [
  {
   "cell_type": "code",
   "execution_count": 47,
   "metadata": {},
   "outputs": [],
   "source": [
    "import os\n",
    "import torch\n",
    "import torch.nn as nn\n",
    "from TorchCRF import CRF\n",
    "\n",
    "from torch.utils.data import Dataset, DataLoader\n",
    "from sklearn.model_selection import train_test_split\n",
    "from sklearn.metrics import classification_report, accuracy_score\n",
    "\n",
    "from tqdm import tqdm\n",
    "\n",
    "import warnings\n",
    "warnings.filterwarnings('ignore')"
   ]
  },
  {
   "cell_type": "code",
   "execution_count": 33,
   "metadata": {},
   "outputs": [],
   "source": [
    "def read_data(file_path):\n",
    "    sentences, sentence = [], []\n",
    "    with open(file_path, \"r\", encoding=\"utf-8\") as f:\n",
    "        for line in f:\n",
    "            line = line.strip()\n",
    "            if line == \"\":\n",
    "                if sentence:\n",
    "                    sentences.append(sentence)\n",
    "                    sentence = []\n",
    "            else:\n",
    "                word, pos, chunk, ner = line.split()\n",
    "                sentence.append((word, pos, chunk, ner))\n",
    "        if sentence:\n",
    "            sentences.append(sentence)  # Thêm câu cuối cùng\n",
    "    return sentences"
   ]
  },
  {
   "cell_type": "code",
   "execution_count": 34,
   "metadata": {},
   "outputs": [],
   "source": [
    "class NERDataset(Dataset):\n",
    "    def __init__(self, sentences, word2idx, tag2idx, max_len):\n",
    "        self.sentences = sentences\n",
    "        self.word2idx = word2idx\n",
    "        self.tag2idx = tag2idx\n",
    "        self.max_len = max_len\n",
    "\n",
    "    def __len__(self):\n",
    "        return len(self.sentences)\n",
    "\n",
    "    def __getitem__(self, idx):\n",
    "        sentence = self.sentences[idx]\n",
    "        words = [word for word, _, _, _ in sentence]\n",
    "        tags = [tag for _, _, _, tag in sentence]\n",
    "\n",
    "        word_indices = [self.word2idx.get(w, self.word2idx[\"<UNK>\"]) for w in words]\n",
    "        tag_indices = [self.tag2idx.get(t, self.tag2idx[\"O\"]) for t in tags]\n",
    "\n",
    "        # Padding\n",
    "        word_indices = word_indices[:self.max_len] + [self.word2idx[\"<PAD>\"]] * (self.max_len - len(word_indices))\n",
    "        tag_indices = tag_indices[:self.max_len] + [self.tag2idx[\"O\"]] * (self.max_len - len(tag_indices))\n",
    "\n",
    "        mask = [1 if i != self.word2idx[\"<PAD>\"] else 0 for i in word_indices]\n",
    "\n",
    "        return torch.tensor(word_indices), torch.tensor(tag_indices), torch.tensor(mask)"
   ]
  },
  {
   "cell_type": "code",
   "execution_count": 35,
   "metadata": {},
   "outputs": [],
   "source": [
    "def create_vocab(sentences):\n",
    "    words = set()\n",
    "    tags = set()\n",
    "    for sentence in sentences:\n",
    "        for word, _, _, tag in sentence:\n",
    "            words.add(word)\n",
    "            tags.add(tag)\n",
    "    word2idx = {word: idx for idx, word in enumerate(sorted(words), start=2)}\n",
    "    word2idx[\"<PAD>\"] = 0\n",
    "    word2idx[\"<UNK>\"] = 1\n",
    "    tag2idx = {tag: idx for idx, tag in enumerate(sorted(tags))}\n",
    "    idx2tag = {idx: tag for tag, idx in tag2idx.items()}\n",
    "    return word2idx, tag2idx, idx2tag"
   ]
  },
  {
   "cell_type": "code",
   "execution_count": 36,
   "metadata": {},
   "outputs": [],
   "source": [
    "class BiLSTM_CRF(nn.Module):\n",
    "    def __init__(self, vocab_size, tagset_size, embedding_dim, hidden_dim):\n",
    "        super(BiLSTM_CRF, self).__init__()\n",
    "        self.embedding = nn.Embedding(vocab_size, embedding_dim)\n",
    "        self.lstm = nn.LSTM(embedding_dim, hidden_dim, batch_first=True, bidirectional=True)\n",
    "        self.hidden_dim = hidden_dim\n",
    "        self.hidden2tag = nn.Linear(hidden_dim * 2, tagset_size)\n",
    "        self.crf = CRF(tagset_size, batch_first=True)\n",
    "\n",
    "    def forward(self, words, tags=None, mask=None):\n",
    "        embeddings = self.embedding(words)\n",
    "        lstm_out, _ = self.lstm(embeddings)\n",
    "        logits = self.hidden2tag(lstm_out)\n",
    "        \n",
    "        if mask is not None:\n",
    "            mask = mask.bool()\n",
    "        \n",
    "        if tags is not None:\n",
    "            loss = -self.crf(logits, tags, mask=mask, reduction=\"mean\")\n",
    "            return loss\n",
    "        else:\n",
    "            predictions = self.crf.decode(logits, mask=mask)\n",
    "            return predictions"
   ]
  },
  {
   "cell_type": "code",
   "execution_count": 37,
   "metadata": {},
   "outputs": [],
   "source": [
    "def train_model(model, train_loader, val_loader, optimizer, epochs, device):\n",
    "    model.to(device)\n",
    "    for epoch in range(epochs):\n",
    "        model.train()\n",
    "        total_loss = 0\n",
    "        for words, tags, mask in tqdm(train_loader, unit='batch', desc=f\"Training {epoch + 1}/{epochs}\"):\n",
    "            words, tags, mask = words.to(device), tags.to(device), mask.to(device)\n",
    "            loss = model(words, tags, mask)\n",
    "            optimizer.zero_grad()\n",
    "            loss.backward()\n",
    "            optimizer.step()\n",
    "            total_loss += loss.item()\n",
    "        print(f\"|----> Loss: {total_loss:.4f}\")\n",
    "        \n",
    "        # Validation\n",
    "        model.eval()\n",
    "        val_loss = 0\n",
    "        with torch.no_grad():\n",
    "            for words, tags, mask in val_loader:\n",
    "                words, tags, mask = words.to(device), tags.to(device), mask.to(device)\n",
    "                val_loss += model(words, tags, mask).item()\n",
    "        print(f\"   |----> Validation Loss: {val_loss:.4f}\")"
   ]
  },
  {
   "cell_type": "code",
   "execution_count": 38,
   "metadata": {},
   "outputs": [],
   "source": [
    "def evaluate_model(model, test_loader, idx2tag, device):\n",
    "    model.eval()\n",
    "    all_preds, all_labels = [], []\n",
    "    with torch.no_grad():\n",
    "        for words, tags, mask in test_loader:\n",
    "            words, tags, mask = words.to(device), tags.to(device), mask.to(device)\n",
    "            predictions = model(words, mask=mask)\n",
    "            for pred, true, m in zip(predictions, tags, mask):\n",
    "                all_preds.extend([idx2tag[p] for p, mask_val in zip(pred, m) if mask_val])\n",
    "                all_labels.extend([idx2tag[t.item()] for t, mask_val in zip(true, m) if mask_val])\n",
    "    print(classification_report(all_labels, all_preds))"
   ]
  },
  {
   "cell_type": "code",
   "execution_count": 39,
   "metadata": {},
   "outputs": [],
   "source": [
    "train_file = 'data/eng/eng.train'\n",
    "val_file = 'data/eng/eng.testa'\n",
    "test_file = 'data/eng/eng.testb'\n",
    "\n",
    "train_sentences = read_data(train_file)\n",
    "val_sentences = read_data(val_file)\n",
    "test_sentences = read_data(test_file)\n",
    "\n",
    "\n",
    "word2idx, tag2idx, idx2tag = create_vocab(train_sentences)\n",
    "\n",
    "max_len = 50\n",
    "batch_size = 32\n",
    "\n",
    "train_dataset = NERDataset(train_sentences, word2idx, tag2idx, max_len)\n",
    "val_dataset = NERDataset(val_sentences, word2idx, tag2idx, max_len)\n",
    "test_dataset = NERDataset(test_sentences, word2idx, tag2idx, max_len)\n",
    "\n",
    "train_loader = DataLoader(train_dataset, batch_size=batch_size, shuffle=True)\n",
    "val_loader = DataLoader(val_dataset, batch_size=batch_size)\n",
    "test_loader = DataLoader(test_dataset, batch_size=batch_size)"
   ]
  },
  {
   "cell_type": "code",
   "execution_count": null,
   "metadata": {},
   "outputs": [
    {
     "name": "stderr",
     "output_type": "stream",
     "text": [
      "Training 1/10: 100%|██████████| 469/469 [00:34<00:00, 13.40batch/s]\n"
     ]
    },
    {
     "name": "stdout",
     "output_type": "stream",
     "text": [
      "|----> Loss: 2961.7138\n",
      "   |----> Validation Loss: 476.8134\n"
     ]
    },
    {
     "name": "stderr",
     "output_type": "stream",
     "text": [
      "Training 2/10: 100%|██████████| 469/469 [00:36<00:00, 12.77batch/s]\n"
     ]
    },
    {
     "name": "stdout",
     "output_type": "stream",
     "text": [
      "|----> Loss: 1314.9378\n",
      "   |----> Validation Loss: 341.3157\n"
     ]
    },
    {
     "name": "stderr",
     "output_type": "stream",
     "text": [
      "Training 3/10: 100%|██████████| 469/469 [00:35<00:00, 13.20batch/s]\n"
     ]
    },
    {
     "name": "stdout",
     "output_type": "stream",
     "text": [
      "|----> Loss: 734.3369\n",
      "   |----> Validation Loss: 280.7171\n"
     ]
    },
    {
     "name": "stderr",
     "output_type": "stream",
     "text": [
      "Training 4/10: 100%|██████████| 469/469 [00:36<00:00, 12.97batch/s]\n"
     ]
    },
    {
     "name": "stdout",
     "output_type": "stream",
     "text": [
      "|----> Loss: 411.0350\n",
      "   |----> Validation Loss: 263.7713\n"
     ]
    },
    {
     "name": "stderr",
     "output_type": "stream",
     "text": [
      "Training 5/10: 100%|██████████| 469/469 [00:35<00:00, 13.09batch/s]\n"
     ]
    },
    {
     "name": "stdout",
     "output_type": "stream",
     "text": [
      "|----> Loss: 218.3527\n",
      "   |----> Validation Loss: 269.7187\n"
     ]
    },
    {
     "name": "stderr",
     "output_type": "stream",
     "text": [
      "Training 6/10: 100%|██████████| 469/469 [00:37<00:00, 12.61batch/s]\n"
     ]
    },
    {
     "name": "stdout",
     "output_type": "stream",
     "text": [
      "|----> Loss: 108.8634\n",
      "   |----> Validation Loss: 275.0793\n"
     ]
    },
    {
     "name": "stderr",
     "output_type": "stream",
     "text": [
      "Training 7/10: 100%|██████████| 469/469 [00:36<00:00, 12.80batch/s]\n"
     ]
    },
    {
     "name": "stdout",
     "output_type": "stream",
     "text": [
      "|----> Loss: 55.2397\n",
      "   |----> Validation Loss: 298.9442\n"
     ]
    },
    {
     "name": "stderr",
     "output_type": "stream",
     "text": [
      "Training 8/10: 100%|██████████| 469/469 [00:36<00:00, 12.82batch/s]\n"
     ]
    },
    {
     "name": "stdout",
     "output_type": "stream",
     "text": [
      "|----> Loss: 27.4958\n",
      "   |----> Validation Loss: 308.8414\n"
     ]
    },
    {
     "name": "stderr",
     "output_type": "stream",
     "text": [
      "Training 9/10: 100%|██████████| 469/469 [00:36<00:00, 12.74batch/s]\n"
     ]
    },
    {
     "name": "stdout",
     "output_type": "stream",
     "text": [
      "|----> Loss: 15.9794\n",
      "   |----> Validation Loss: 354.0932\n"
     ]
    },
    {
     "name": "stderr",
     "output_type": "stream",
     "text": [
      "Training 10/10: 100%|██████████| 469/469 [00:36<00:00, 12.99batch/s]\n"
     ]
    },
    {
     "name": "stdout",
     "output_type": "stream",
     "text": [
      "|----> Loss: 10.4698\n",
      "   |----> Validation Loss: 360.9075\n",
      "              precision    recall  f1-score   support\n",
      "\n",
      "       B-LOC       0.00      0.00      0.00         6\n",
      "      B-MISC       0.33      0.11      0.17         9\n",
      "       B-ORG       0.00      0.00      0.00         5\n",
      "       I-LOC       0.82      0.67      0.74      1905\n",
      "      I-MISC       0.81      0.61      0.69       908\n",
      "       I-ORG       0.43      0.80      0.56      2480\n",
      "       I-PER       0.87      0.70      0.77      2691\n",
      "           O       0.98      0.95      0.96     38378\n",
      "\n",
      "    accuracy                           0.91     46382\n",
      "   macro avg       0.53      0.48      0.49     46382\n",
      "weighted avg       0.93      0.91      0.92     46382\n",
      "\n"
     ]
    }
   ],
   "source": [
    "embedding_dim=100\n",
    "hidden_dim=128\n",
    "\n",
    "device = torch.device(\"cuda\" if torch.cuda.is_available() else \"cpu\")\n",
    "model = BiLSTM_CRF(len(word2idx), len(tag2idx), embedding_dim=embedding_dim, hidden_dim=hidden_dim)\n",
    "optimizer = torch.optim.Adam(model.parameters(), lr=0.001)\n",
    "\n",
    "train_model(model, train_loader, val_loader, optimizer, epochs=10, device=device)\n",
    "\n",
    "evaluate_model(model, test_loader, idx2tag, device)\n"
   ]
  },
  {
   "cell_type": "code",
   "execution_count": null,
   "metadata": {},
   "outputs": [
    {
     "data": {
      "text/plain": [
       "BiLSTM_CRF(\n",
       "  (embedding): Embedding(23626, 100)\n",
       "  (lstm): LSTM(100, 128, batch_first=True, bidirectional=True)\n",
       "  (hidden2tag): Linear(in_features=256, out_features=8, bias=True)\n",
       "  (crf): CRF(num_tags=8)\n",
       ")"
      ]
     },
     "execution_count": 44,
     "metadata": {},
     "output_type": "execute_result"
    }
   ],
   "source": [
    "# torch.save(model.state_dict(), \"save/models/bilstm_crf.pth\")\n",
    "\n",
    "model = BiLSTM_CRF(len(word2idx), len(tag2idx), embedding_dim=100, hidden_dim=128)\n",
    "model.load_state_dict(torch.load(\"save/models/bilstm_crf.pth\"))\n",
    "model.to(device)\n"
   ]
  },
  {
   "cell_type": "code",
   "execution_count": null,
   "metadata": {},
   "outputs": [],
   "source": [
    "def evaluate_model_by_accuracy(model, test_loader, idx2tag, device):\n",
    "    model.to(device)\n",
    "    model.eval()\n",
    "    all_preds, all_labels = [], []\n",
    "\n",
    "    with torch.no_grad():\n",
    "        for words, tags, mask in test_loader:\n",
    "            words, tags, mask = words.to(device), tags.to(device), mask.to(device)\n",
    "            mask = mask.bool() \n",
    "            predictions = model(words, mask=mask)\n",
    "            \n",
    "            for i in range(len(words)):\n",
    "                true_tags = tags[i][mask[i]].cpu().numpy()\n",
    "                pred_tags = predictions[i]\n",
    "                \n",
    "                all_labels.extend(true_tags)\n",
    "                all_preds.extend(pred_tags)\n",
    "\n",
    "    all_labels_filtered = [l for l in all_labels if idx2tag[l] != 'O']\n",
    "    all_preds_filtered = [p for l, p in zip(all_labels, all_preds) if idx2tag[l] != 'O']\n",
    "\n",
    "    overall_accuracy = accuracy_score(all_labels, all_preds)\n",
    "    filtered_accuracy = accuracy_score(all_labels_filtered, all_preds_filtered)\n",
    "\n",
    "    return overall_accuracy, filtered_accuracy\n"
   ]
  },
  {
   "cell_type": "code",
   "execution_count": null,
   "metadata": {},
   "outputs": [
    {
     "name": "stdout",
     "output_type": "stream",
     "text": [
      "Overall Accuracy: 90.94%\n",
      "Filtered Accuracy (excluding 'O' tags): 71.25%\n"
     ]
    }
   ],
   "source": [
    "overall_acc, filtered_acc = evaluate_model_by_accuracy(model, test_loader, idx2tag, device)\n",
    "print(f\"Overall Accuracy: {overall_acc * 100:.2f}%\")\n",
    "print(f\"Filtered Accuracy (excluding 'O' tags): {filtered_acc * 100:.2f}%\")\n"
   ]
  }
 ],
 "metadata": {
  "kernelspec": {
   "display_name": "Python 3",
   "language": "python",
   "name": "python3"
  },
  "language_info": {
   "codemirror_mode": {
    "name": "ipython",
    "version": 3
   },
   "file_extension": ".py",
   "mimetype": "text/x-python",
   "name": "python",
   "nbconvert_exporter": "python",
   "pygments_lexer": "ipython3",
   "version": "3.12.4"
  }
 },
 "nbformat": 4,
 "nbformat_minor": 2
}
